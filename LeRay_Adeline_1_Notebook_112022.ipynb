{
 "cells": [
  {
   "cell_type": "markdown",
   "id": "f5b30387",
   "metadata": {},
   "source": [
    "\n",
    "\n",
    "# Projet P5 - Optimisez la gestion des données d'une boutique avec R ou Python\n",
    "\n",
    "*OPENCLASSROOMS - Parcours Data Analyst V2 - Adeline Le Ray - Novembre 2022*\n",
    "<hr>"
   ]
  },
  {
   "attachments": {
    "bottleneck-2.png": {
     "image/png": "[encoded data removed]"
    }
   },
   "cell_type": "markdown",
   "id": "d536681d",
   "metadata": {},
   "source": [
    "![bottleneck-2.png](attachment:bottleneck-2.png)\n",
    "## <font color='blue'>*Sommaire*</font>\n",
    "**[Présentation du projet](#Presentation_projet)**\n",
    "* [1. Rappel du contexte](#0_1)\n",
    "* [2. Données sources](#0_2)\n",
    "* [3. Objectifs de la mission](#0_3)\n",
    "* [4. Analyses à réaliser](#0_4)\n",
    "* [5. Démarche](#0_5)\n",
    "\n",
    "**[Partie 1 - Importation et Inspection des fichiers de données](#partie1)**\n",
    "* [1. Importation des librairies\"](#1_1)\n",
    "* [2. Importation et inspection des fichiers de données](#1_2)\n",
    "    * [a. Fichier export de l'ERP : 'erp'](#1_2_1)\n",
    "    * [b. Fichier export du CMS, boutique en ligne : 'web'](#1_2_2)\n",
    "    * [c. Fichier de liaison 'liaison'](#1_2_3)\n",
    "\n",
    "**[Partie 2 - Nettoyage des données](#partie2)**\n",
    "* [1. Types de variables](#2_1)\n",
    "    * [a. Data frame 'erp'](#2_1_1)\n",
    "    * [b. Data frame 'web'](#2_1_2)\n",
    "    * [c. Data frame 'liaison'](#2_1_3)\n",
    "* [2. Valeurs manquantes](#2_2)\n",
    "    * [a. Data frame 'erp'](#2_2_1)\n",
    "    * [b. Data frame 'web'](#2_2_2)\n",
    "    * [c. Data frame 'liaison'](#2_2_3)\n",
    "* [3. Doublons](#2_3)\n",
    "* [4. Changement nom colonne 'id_web' en 'sku' dans le df 'liaison' ](#2_4)\n",
    "    \n",
    "**[Partie 3 - Analyses des données](#partie3)**\n",
    "* [1. Jointure entre les exports de l'ERP et du CMS en utilisant le fichier 'liaison'](#3_1)\n",
    "    * [a. Vérification de l'unicité des clés primaires pour les jointures'](#3_1_1)\n",
    "    * [b. Jointure entre les 'erp' et 'liaison'](#3_1_2)\n",
    "    * [c. Jointure entre les  df 'erp'/'liaison' et 'web'](#3_1_3)\n",
    "    \n",
    "* [2. Chiffres d'affaires par produit et chiffre d'affaire global réalisé en ligne](#3_2)\n",
    "    * [a. Chiffres d'affaires par produit](#3_2_1)\n",
    "    * [b. Chiffre d'affaires total réalisé en ligne](#3_2_2)\n",
    "    * [c. Top des ventes par produit](#3_2_3)\n",
    "* [3. Analyse des prix de ventes produits](#3_3)\n",
    "    * [a. Données statistiques et premières visualisations](#3_3_1)\n",
    "    * [b. Détermination des outliers : méthode des écarts interquartiles](#3_3_2)\n",
    "    * [c. Détermination des outliers : méthode du Z-score](#3_3_3)\n",
    "    * [d. Conclusion : liste des potentiels outliers](#3_3_4)\n",
    "    * [e. Analyse des potentiels outliers](#3_3_5)\n",
    "   "
   ]
  },
  {
   "cell_type": "markdown",
   "id": "8015a5c3",
   "metadata": {},
   "source": [
    "\n",
    "## <font color='blue'>*Présentation du projet*<a class=\"anchor\" id=\"Presentation_projet\"></a></font>\n",
    "\n",
    "### 1. Rappel du contexte<a class=\"anchor\" id=\"0_1\"></a>\n",
    "\n",
    "Je commence ma mission au sein de l'équipe Service Numérique en tant que data analyst freelance chez BottleNeck, un marchand de vin très prestigieux. Laurent est mon manager pour cette mission.\n",
    "\n",
    "### 2. Données sources<a class=\"anchor\" id=\"0_2\"></a>\n",
    "Les fichiers utilisés sont les suivants:\n",
    "- 'erp.xlsx': export de l’ERP contenant les références produit, leur prix de vente et leur état de stock\n",
    "- 'web.xlsx': export d’une table de l’outil de CMS contenant les informations des produits commercialisés en ligne (nom, description, nombre de ventes pour chaque produit depuis sa mise en ligne, ...)\n",
    "- 'liaison.xlsx': lien entre la référence du produit dans l’ERP (product_id) et la référence du même produit dans la base de la boutique en ligne (SKU)\n",
    "\n",
    "*ERP = Entreprise Ressource Planning*\n",
    "\n",
    "*CMS = Content Management System*\n",
    "\n",
    "### 3. Objectifs de la mission<a class=\"anchor\" id=\"0_3\"></a>\n",
    "La mission a pour objectif :\n",
    "1. Effectuer un rapprochement des exports de l'ERP,  fichier 'erp.xlsx' et de la boutique en ligne 'web.xlsx' en utilisant le fichier 'liaison.xlsx' \n",
    "2. Définir le chiffre d’affaires par produit, ainsi que le total du chiffre d’affaires réalisé en ligne\n",
    "3. Identifier les erreurs de saisie de certains prix des produits: effectuer une analyse sur cette variable afin de détecter d’éventuelles valeurs aberrantes, de les lister et d’en faire une représentation graphique pour plus de lisibilité.\n",
    "\n",
    "\n",
    "### 5. Démarche<a class=\"anchor\" id=\"0_5\"></a> \n",
    "La démarche utilisée pour réaliser le projet se découpe en 3 parties :\n",
    "\n",
    "1. Importation et inspection des fichiers de données\n",
    "2. Nettoyage des données\n",
    "3. Analyse des données\n",
    "\n",
    "Les différentes parties sont détaillées ci-dessous.\n",
    "\n",
    "*Nota : df = data frame dans le notebook*"
   ]
  },
  {
   "cell_type": "markdown",
   "id": "c30adf90",
   "metadata": {},
   "source": [
    "## <font color='blue'>*Partie 1 - Importation et inspection des fichiers de données*<a class=\"anchor\" id=\"partie1\"></a></font>"
   ]
  },
  {
   "cell_type": "markdown",
   "id": "cd51774a",
   "metadata": {},
   "source": [
    "### 1. Importation des librairies"
   ]
  },
  {
   "cell_type": "code",
   "execution_count": 1,
   "id": "470710ea",
   "metadata": {},
   "outputs": [],
   "source": [
    "# Importation des librairies pandas, numpy, pyplot de matplotlib\n",
    "import pandas as pd\n",
    "import numpy as np\n",
    "import matplotlib.pyplot as plt\n",
    "import seaborn as sns\n",
    "import scipy.stats as stats"
   ]
  },
  {
   "cell_type": "markdown",
   "id": "01bd7fb7",
   "metadata": {},
   "source": [
    "### 2. Importation et inspection des fichiers de données<a class=\"anchor\" id=\"1_2\"></a>\n",
    "\n",
    "La démarche de l'inspection des fichiers de données est la suivante :\n",
    "* Importation\n",
    "* Aperçu du data frame\n",
    "* Dimension du data frame\n",
    "\n",
    "*Nota : les fichiers excel ont été convertis en .csv pour l'importation.*"
   ]
  },
  {
   "cell_type": "markdown",
   "id": "4ce33318",
   "metadata": {},
   "source": [
    "#### a. Fichier export de l'ERP : 'erp'<a class=\"anchor\" id=\"1_2_1\"></a>"
   ]
  },
  {
   "cell_type": "code",
   "execution_count": 2,
   "id": "5b8c626b",
   "metadata": {
    "scrolled": true
   },
   "outputs": [
    {
     "data": {
      "text/html": [
       "<div>\n",
       "<style scoped>\n",
       "    .dataframe tbody tr th:only-of-type {\n",
       "        vertical-align: middle;\n",
       "    }\n",
       "\n",
       "    .dataframe tbody tr th {\n",
       "        vertical-align: top;\n",
       "    }\n",
       "\n",
       "    .dataframe thead th {\n",
       "        text-align: right;\n",
       "    }\n",
       "</style>\n",
       "<table border=\"1\" class=\"dataframe\">\n",
       "  <thead>\n",
       "    <tr style=\"text-align: right;\">\n",
       "      <th></th>\n",
       "      <th>product_id</th>\n",
       "      <th>onsale_web</th>\n",
       "      <th>price</th>\n",
       "      <th>stock_quantity</th>\n",
       "      <th>stock_status</th>\n",
       "    </tr>\n",
       "  </thead>\n",
       "  <tbody>\n",
       "    <tr>\n",
       "      <th>0</th>\n",
       "      <td>3847</td>\n",
       "      <td>1</td>\n",
       "      <td>24.2</td>\n",
       "      <td>0</td>\n",
       "      <td>outofstock</td>\n",
       "    </tr>\n",
       "    <tr>\n",
       "      <th>1</th>\n",
       "      <td>3849</td>\n",
       "      <td>1</td>\n",
       "      <td>34.3</td>\n",
       "      <td>0</td>\n",
       "      <td>outofstock</td>\n",
       "    </tr>\n",
       "    <tr>\n",
       "      <th>2</th>\n",
       "      <td>3850</td>\n",
       "      <td>1</td>\n",
       "      <td>20.8</td>\n",
       "      <td>0</td>\n",
       "      <td>outofstock</td>\n",
       "    </tr>\n",
       "    <tr>\n",
       "      <th>3</th>\n",
       "      <td>4032</td>\n",
       "      <td>1</td>\n",
       "      <td>14.1</td>\n",
       "      <td>0</td>\n",
       "      <td>outofstock</td>\n",
       "    </tr>\n",
       "    <tr>\n",
       "      <th>4</th>\n",
       "      <td>4039</td>\n",
       "      <td>1</td>\n",
       "      <td>46.0</td>\n",
       "      <td>0</td>\n",
       "      <td>outofstock</td>\n",
       "    </tr>\n",
       "  </tbody>\n",
       "</table>\n",
       "</div>"
      ],
      "text/plain": [
       "   product_id  onsale_web  price  stock_quantity stock_status\n",
       "0        3847           1   24.2               0   outofstock\n",
       "1        3849           1   34.3               0   outofstock\n",
       "2        3850           1   20.8               0   outofstock\n",
       "3        4032           1   14.1               0   outofstock\n",
       "4        4039           1   46.0               0   outofstock"
      ]
     },
     "execution_count": 2,
     "metadata": {},
     "output_type": "execute_result"
    }
   ],
   "source": [
    "df_erp=pd.read_csv('erp.csv', delimiter=';')\n",
    "df_erp.head()"
   ]
  },
  {
   "cell_type": "code",
   "execution_count": 3,
   "id": "f6f21e8f",
   "metadata": {},
   "outputs": [
    {
     "data": {
      "text/plain": [
       "(825, 5)"
      ]
     },
     "execution_count": 3,
     "metadata": {},
     "output_type": "execute_result"
    }
   ],
   "source": [
    "df_erp.shape"
   ]
  },
  {
   "cell_type": "markdown",
   "id": "e34840a2",
   "metadata": {},
   "source": [
    "**Le fichier 'erp' comprend 5 colonnes:** \n",
    "- 'product_id' : identifiant du produit\n",
    "- 'onsale_web' : produit en vente en ligne\n",
    "- 'price' : prix unitaire\n",
    "- 'stock_quantity' : quantité en stock\n",
    "- stock_status' : en stock ou rupture"
   ]
  },
  {
   "cell_type": "markdown",
   "id": "c00f7159",
   "metadata": {},
   "source": [
    "#### b. Fichier export du CMS, boutique en ligne : 'web'<a class=\"anchor\" id=\"1_2_2\"></a>"
   ]
  },
  {
   "cell_type": "code",
   "execution_count": 4,
   "id": "47859a08",
   "metadata": {
    "scrolled": false
   },
   "outputs": [
    {
     "data": {
      "text/html": [
       "<div>\n",
       "<style scoped>\n",
       "    .dataframe tbody tr th:only-of-type {\n",
       "        vertical-align: middle;\n",
       "    }\n",
       "\n",
       "    .dataframe tbody tr th {\n",
       "        vertical-align: top;\n",
       "    }\n",
       "\n",
       "    .dataframe thead th {\n",
       "        text-align: right;\n",
       "    }\n",
       "</style>\n",
       "<table border=\"1\" class=\"dataframe\">\n",
       "  <thead>\n",
       "    <tr style=\"text-align: right;\">\n",
       "      <th></th>\n",
       "      <th>sku</th>\n",
       "      <th>virtual</th>\n",
       "      <th>downloadable</th>\n",
       "      <th>rating_count</th>\n",
       "      <th>average_rating</th>\n",
       "      <th>total_sales</th>\n",
       "      <th>tax_status</th>\n",
       "      <th>tax_class</th>\n",
       "      <th>post_author</th>\n",
       "      <th>post_date</th>\n",
       "      <th>...</th>\n",
       "      <th>post_name</th>\n",
       "      <th>post_modified</th>\n",
       "      <th>post_modified_gmt</th>\n",
       "      <th>post_content_filtered</th>\n",
       "      <th>post_parent</th>\n",
       "      <th>guid</th>\n",
       "      <th>menu_order</th>\n",
       "      <th>post_type</th>\n",
       "      <th>post_mime_type</th>\n",
       "      <th>comment_count</th>\n",
       "    </tr>\n",
       "  </thead>\n",
       "  <tbody>\n",
       "    <tr>\n",
       "      <th>0</th>\n",
       "      <td>bon-cadeau-25-euros</td>\n",
       "      <td>0</td>\n",
       "      <td>0</td>\n",
       "      <td>0</td>\n",
       "      <td>0.0</td>\n",
       "      <td>10.0</td>\n",
       "      <td>taxable</td>\n",
       "      <td>NaN</td>\n",
       "      <td>1.0</td>\n",
       "      <td>2018-06-01 13:53:46</td>\n",
       "      <td>...</td>\n",
       "      <td>bon-cadeau-de-25-euros</td>\n",
       "      <td>2018-06-01 14:13:57</td>\n",
       "      <td>2018-06-01 12:13:57</td>\n",
       "      <td>NaN</td>\n",
       "      <td>0.0</td>\n",
       "      <td>https://www.bottle-neck.fr/?post_type=product&amp;...</td>\n",
       "      <td>0.0</td>\n",
       "      <td>product</td>\n",
       "      <td>NaN</td>\n",
       "      <td>0.0</td>\n",
       "    </tr>\n",
       "    <tr>\n",
       "      <th>1</th>\n",
       "      <td>15298</td>\n",
       "      <td>0</td>\n",
       "      <td>0</td>\n",
       "      <td>0</td>\n",
       "      <td>0.0</td>\n",
       "      <td>6.0</td>\n",
       "      <td>taxable</td>\n",
       "      <td>NaN</td>\n",
       "      <td>2.0</td>\n",
       "      <td>2018-02-08 12:58:52</td>\n",
       "      <td>...</td>\n",
       "      <td>pierre-jean-villa-saint-joseph-preface-2018</td>\n",
       "      <td>2019-12-30 09:30:29</td>\n",
       "      <td>2019-12-30 08:30:29</td>\n",
       "      <td>NaN</td>\n",
       "      <td>0.0</td>\n",
       "      <td>https://www.bottle-neck.fr/?post_type=product&amp;...</td>\n",
       "      <td>0.0</td>\n",
       "      <td>product</td>\n",
       "      <td>NaN</td>\n",
       "      <td>0.0</td>\n",
       "    </tr>\n",
       "    <tr>\n",
       "      <th>2</th>\n",
       "      <td>15296</td>\n",
       "      <td>0</td>\n",
       "      <td>0</td>\n",
       "      <td>0</td>\n",
       "      <td>0.0</td>\n",
       "      <td>0.0</td>\n",
       "      <td>taxable</td>\n",
       "      <td>NaN</td>\n",
       "      <td>2.0</td>\n",
       "      <td>2018-02-08 13:49:41</td>\n",
       "      <td>...</td>\n",
       "      <td>pierre-jean-villa-saint-joseph-tilde-2017</td>\n",
       "      <td>2019-12-21 09:00:17</td>\n",
       "      <td>2019-12-21 08:00:17</td>\n",
       "      <td>NaN</td>\n",
       "      <td>0.0</td>\n",
       "      <td>https://www.bottle-neck.fr/?post_type=product&amp;...</td>\n",
       "      <td>0.0</td>\n",
       "      <td>product</td>\n",
       "      <td>NaN</td>\n",
       "      <td>0.0</td>\n",
       "    </tr>\n",
       "    <tr>\n",
       "      <th>3</th>\n",
       "      <td>15300</td>\n",
       "      <td>0</td>\n",
       "      <td>0</td>\n",
       "      <td>0</td>\n",
       "      <td>0.0</td>\n",
       "      <td>0.0</td>\n",
       "      <td>taxable</td>\n",
       "      <td>NaN</td>\n",
       "      <td>2.0</td>\n",
       "      <td>2018-02-08 14:08:36</td>\n",
       "      <td>...</td>\n",
       "      <td>pierre-jean-villa-croze-hermitage-accroche-coe...</td>\n",
       "      <td>2020-06-26 18:15:03</td>\n",
       "      <td>2020-06-26 16:15:03</td>\n",
       "      <td>NaN</td>\n",
       "      <td>0.0</td>\n",
       "      <td>https://www.bottle-neck.fr/?post_type=product&amp;...</td>\n",
       "      <td>0.0</td>\n",
       "      <td>product</td>\n",
       "      <td>NaN</td>\n",
       "      <td>0.0</td>\n",
       "    </tr>\n",
       "    <tr>\n",
       "      <th>4</th>\n",
       "      <td>19814</td>\n",
       "      <td>0</td>\n",
       "      <td>0</td>\n",
       "      <td>0</td>\n",
       "      <td>0.0</td>\n",
       "      <td>3.0</td>\n",
       "      <td>taxable</td>\n",
       "      <td>NaN</td>\n",
       "      <td>2.0</td>\n",
       "      <td>2018-02-09 14:01:05</td>\n",
       "      <td>...</td>\n",
       "      <td>pierre-jean-villa-igp-gamine-2018</td>\n",
       "      <td>2020-01-04 16:36:01</td>\n",
       "      <td>2020-01-04 15:36:01</td>\n",
       "      <td>NaN</td>\n",
       "      <td>0.0</td>\n",
       "      <td>https://www.bottle-neck.fr/?post_type=product&amp;...</td>\n",
       "      <td>0.0</td>\n",
       "      <td>product</td>\n",
       "      <td>NaN</td>\n",
       "      <td>0.0</td>\n",
       "    </tr>\n",
       "  </tbody>\n",
       "</table>\n",
       "<p>5 rows × 28 columns</p>\n",
       "</div>"
      ],
      "text/plain": [
       "                   sku  virtual  downloadable  rating_count  average_rating  \\\n",
       "0  bon-cadeau-25-euros        0             0             0             0.0   \n",
       "1                15298        0             0             0             0.0   \n",
       "2                15296        0             0             0             0.0   \n",
       "3                15300        0             0             0             0.0   \n",
       "4                19814        0             0             0             0.0   \n",
       "\n",
       "   total_sales tax_status  tax_class  post_author            post_date  ...  \\\n",
       "0         10.0    taxable        NaN          1.0  2018-06-01 13:53:46  ...   \n",
       "1          6.0    taxable        NaN          2.0  2018-02-08 12:58:52  ...   \n",
       "2          0.0    taxable        NaN          2.0  2018-02-08 13:49:41  ...   \n",
       "3          0.0    taxable        NaN          2.0  2018-02-08 14:08:36  ...   \n",
       "4          3.0    taxable        NaN          2.0  2018-02-09 14:01:05  ...   \n",
       "\n",
       "                                           post_name        post_modified  \\\n",
       "0                             bon-cadeau-de-25-euros  2018-06-01 14:13:57   \n",
       "1        pierre-jean-villa-saint-joseph-preface-2018  2019-12-30 09:30:29   \n",
       "2          pierre-jean-villa-saint-joseph-tilde-2017  2019-12-21 09:00:17   \n",
       "3  pierre-jean-villa-croze-hermitage-accroche-coe...  2020-06-26 18:15:03   \n",
       "4                  pierre-jean-villa-igp-gamine-2018  2020-01-04 16:36:01   \n",
       "\n",
       "     post_modified_gmt post_content_filtered post_parent  \\\n",
       "0  2018-06-01 12:13:57                   NaN         0.0   \n",
       "1  2019-12-30 08:30:29                   NaN         0.0   \n",
       "2  2019-12-21 08:00:17                   NaN         0.0   \n",
       "3  2020-06-26 16:15:03                   NaN         0.0   \n",
       "4  2020-01-04 15:36:01                   NaN         0.0   \n",
       "\n",
       "                                                guid menu_order  post_type  \\\n",
       "0  https://www.bottle-neck.fr/?post_type=product&...        0.0    product   \n",
       "1  https://www.bottle-neck.fr/?post_type=product&...        0.0    product   \n",
       "2  https://www.bottle-neck.fr/?post_type=product&...        0.0    product   \n",
       "3  https://www.bottle-neck.fr/?post_type=product&...        0.0    product   \n",
       "4  https://www.bottle-neck.fr/?post_type=product&...        0.0    product   \n",
       "\n",
       "  post_mime_type comment_count  \n",
       "0            NaN           0.0  \n",
       "1            NaN           0.0  \n",
       "2            NaN           0.0  \n",
       "3            NaN           0.0  \n",
       "4            NaN           0.0  \n",
       "\n",
       "[5 rows x 28 columns]"
      ]
     },
     "execution_count": 4,
     "metadata": {},
     "output_type": "execute_result"
    }
   ],
   "source": [
    "df_web=pd.read_csv('web.csv',encoding = \"ISO-8859-1\", delimiter=';')#Erreur avec l'encoding 'utf_8' pour ce fichier\n",
    "df_web.head()"
   ]
  },
  {
   "cell_type": "code",
   "execution_count": 5,
   "id": "30e98452",
   "metadata": {},
   "outputs": [
    {
     "data": {
      "text/plain": [
       "(1513, 28)"
      ]
     },
     "execution_count": 5,
     "metadata": {},
     "output_type": "execute_result"
    }
   ],
   "source": [
    "df_web.shape"
   ]
  },
  {
   "cell_type": "markdown",
   "id": "da8dfb55",
   "metadata": {},
   "source": [
    "**Le fichier 'web' comprend 28 colonnes dont :** \n",
    "- 'sku' : identifiant du produit\n",
    "- 'total_sales' : quantité vendue \n",
    "- 'post_date' : date du post\n",
    "- 'post_name' : nom du produit"
   ]
  },
  {
   "cell_type": "markdown",
   "id": "5ad35648",
   "metadata": {},
   "source": [
    "#### c. Fichier de liaison entre les 2 exports 'liaison'<a class=\"anchor\" id=\"1_2_3\"></a>"
   ]
  },
  {
   "cell_type": "code",
   "execution_count": 6,
   "id": "3710e9cc",
   "metadata": {},
   "outputs": [
    {
     "data": {
      "text/html": [
       "<div>\n",
       "<style scoped>\n",
       "    .dataframe tbody tr th:only-of-type {\n",
       "        vertical-align: middle;\n",
       "    }\n",
       "\n",
       "    .dataframe tbody tr th {\n",
       "        vertical-align: top;\n",
       "    }\n",
       "\n",
       "    .dataframe thead th {\n",
       "        text-align: right;\n",
       "    }\n",
       "</style>\n",
       "<table border=\"1\" class=\"dataframe\">\n",
       "  <thead>\n",
       "    <tr style=\"text-align: right;\">\n",
       "      <th></th>\n",
       "      <th>product_id</th>\n",
       "      <th>id_web</th>\n",
       "    </tr>\n",
       "  </thead>\n",
       "  <tbody>\n",
       "    <tr>\n",
       "      <th>0</th>\n",
       "      <td>3847</td>\n",
       "      <td>15298</td>\n",
       "    </tr>\n",
       "    <tr>\n",
       "      <th>1</th>\n",
       "      <td>3849</td>\n",
       "      <td>15296</td>\n",
       "    </tr>\n",
       "    <tr>\n",
       "      <th>2</th>\n",
       "      <td>3850</td>\n",
       "      <td>15300</td>\n",
       "    </tr>\n",
       "    <tr>\n",
       "      <th>3</th>\n",
       "      <td>4032</td>\n",
       "      <td>19814</td>\n",
       "    </tr>\n",
       "    <tr>\n",
       "      <th>4</th>\n",
       "      <td>4039</td>\n",
       "      <td>19815</td>\n",
       "    </tr>\n",
       "  </tbody>\n",
       "</table>\n",
       "</div>"
      ],
      "text/plain": [
       "   product_id id_web\n",
       "0        3847  15298\n",
       "1        3849  15296\n",
       "2        3850  15300\n",
       "3        4032  19814\n",
       "4        4039  19815"
      ]
     },
     "execution_count": 6,
     "metadata": {},
     "output_type": "execute_result"
    }
   ],
   "source": [
    "df_liaison=pd.read_csv('liaison.csv', delimiter=';')\n",
    "df_liaison.head()"
   ]
  },
  {
   "cell_type": "code",
   "execution_count": 7,
   "id": "191a68c9",
   "metadata": {},
   "outputs": [
    {
     "data": {
      "text/plain": [
       "(825, 2)"
      ]
     },
     "execution_count": 7,
     "metadata": {},
     "output_type": "execute_result"
    }
   ],
   "source": [
    "df_liaison.shape"
   ]
  },
  {
   "cell_type": "markdown",
   "id": "5b34bdc5",
   "metadata": {},
   "source": [
    "**Le fichier 'liaison' comprend 2 colonnes :** \n",
    "- 'product_id' : identifiant du produit dans l'erp\n",
    "- 'id_web' : identifiant du produit dans la boutique en ligne, = sku "
   ]
  },
  {
   "cell_type": "markdown",
   "id": "09177df0",
   "metadata": {},
   "source": [
    "## <font color='blue'>*Partie 2 - Nettoyage des données* <a class=\"anchor\" id=\"partie2\"></a></font>\n",
    "\n",
    "La partie Nettoyage des données comprend les étapes suivantes :\n",
    "* [1. Types de variables](#2_1)\n",
    "* [2. Valeurs manquantes](#2_2)\n",
    "* [3. Doublons](#2_3)\n",
    "* [4. Changement nom colonne 'id_web' en 'sku' dans le fichier 'liaison' ](#2_4)\n"
   ]
  },
  {
   "cell_type": "markdown",
   "id": "694eec18",
   "metadata": {},
   "source": [
    "### 1. Types de variables<a class=\"anchor\" id=\"2_1\"></a>\n",
    "\n",
    "L'objectif est de vérifier que les variables sont bien du bon type et de corriger les erreurs éventuelles."
   ]
  },
  {
   "cell_type": "markdown",
   "id": "999b270c",
   "metadata": {},
   "source": [
    "#### Data Frame 'erp'<a class=\"anchor\" id=\"2_1_1\"></a>"
   ]
  },
  {
   "cell_type": "code",
   "execution_count": 8,
   "id": "f03518f2",
   "metadata": {
    "scrolled": true
   },
   "outputs": [
    {
     "data": {
      "text/plain": [
       "product_id          int64\n",
       "onsale_web          int64\n",
       "price             float64\n",
       "stock_quantity      int64\n",
       "stock_status       object\n",
       "dtype: object"
      ]
     },
     "execution_count": 8,
     "metadata": {},
     "output_type": "execute_result"
    }
   ],
   "source": [
    "#Types de variables dans le df 'erp'\n",
    "df_erp.dtypes"
   ]
  },
  {
   "cell_type": "markdown",
   "id": "a2ac2318",
   "metadata": {},
   "source": [
    "Pas d'erreur de type sur le df 'erp'"
   ]
  },
  {
   "cell_type": "markdown",
   "id": "e8846dd4",
   "metadata": {},
   "source": [
    "#### Data Frame 'web'<a class=\"anchor\" id=\"2_1_2\"></a>"
   ]
  },
  {
   "cell_type": "code",
   "execution_count": 9,
   "id": "68aa2e10",
   "metadata": {
    "scrolled": false
   },
   "outputs": [
    {
     "data": {
      "text/plain": [
       "sku                       object\n",
       "virtual                    int64\n",
       "downloadable               int64\n",
       "rating_count               int64\n",
       "average_rating           float64\n",
       "total_sales              float64\n",
       "tax_status                object\n",
       "tax_class                float64\n",
       "post_author              float64\n",
       "post_date                 object\n",
       "post_date_gmt             object\n",
       "post_content             float64\n",
       "post_title                object\n",
       "post_excerpt              object\n",
       "post_status               object\n",
       "comment_status            object\n",
       "ping_status               object\n",
       "post_password            float64\n",
       "post_name                 object\n",
       "post_modified             object\n",
       "post_modified_gmt         object\n",
       "post_content_filtered    float64\n",
       "post_parent              float64\n",
       "guid                      object\n",
       "menu_order               float64\n",
       "post_type                 object\n",
       "post_mime_type            object\n",
       "comment_count            float64\n",
       "dtype: object"
      ]
     },
     "execution_count": 9,
     "metadata": {},
     "output_type": "execute_result"
    }
   ],
   "source": [
    "#Types de variables dans le df 'web'\n",
    "df_web.dtypes"
   ]
  },
  {
   "cell_type": "markdown",
   "id": "b9cac7c8",
   "metadata": {},
   "source": [
    "La variable 'sku' est de type 'object' car elle contient des chaînes de caractères et des valeurs numériques.\n",
    "\n",
    "Les variables de dates ne sont pas considérées comme telles."
   ]
  },
  {
   "cell_type": "code",
   "execution_count": 10,
   "id": "62368cff",
   "metadata": {
    "scrolled": false
   },
   "outputs": [
    {
     "data": {
      "text/plain": [
       "sku                              object\n",
       "virtual                           int64\n",
       "downloadable                      int64\n",
       "rating_count                      int64\n",
       "average_rating                  float64\n",
       "total_sales                     float64\n",
       "tax_status                       object\n",
       "tax_class                       float64\n",
       "post_author                     float64\n",
       "post_date                datetime64[ns]\n",
       "post_date_gmt            datetime64[ns]\n",
       "post_content                    float64\n",
       "post_title                       object\n",
       "post_excerpt                     object\n",
       "post_status                      object\n",
       "comment_status                   object\n",
       "ping_status                      object\n",
       "post_password                   float64\n",
       "post_name                        object\n",
       "post_modified            datetime64[ns]\n",
       "post_modified_gmt        datetime64[ns]\n",
       "post_content_filtered           float64\n",
       "post_parent                     float64\n",
       "guid                             object\n",
       "menu_order                      float64\n",
       "post_type                        object\n",
       "post_mime_type                   object\n",
       "comment_count                   float64\n",
       "dtype: object"
      ]
     },
     "execution_count": 10,
     "metadata": {},
     "output_type": "execute_result"
    }
   ],
   "source": [
    "#Conversion en format date des variables 'post_date', 'post_date_gmt', 'post_modified' et 'post_modified_gmt'\n",
    "df_web['post_date']=pd.to_datetime(df_web['post_date'])\n",
    "df_web['post_date_gmt']=pd.to_datetime(df_web['post_date_gmt'])\n",
    "df_web['post_modified']=pd.to_datetime(df_web['post_modified'])\n",
    "df_web['post_modified_gmt']=pd.to_datetime(df_web['post_modified_gmt'])\n",
    "df_web.dtypes"
   ]
  },
  {
   "cell_type": "markdown",
   "id": "f9fef2b9",
   "metadata": {},
   "source": [
    "#### Data frame 'liaison'<a class=\"anchor\" id=\"2_1_3\"></a>"
   ]
  },
  {
   "cell_type": "code",
   "execution_count": 11,
   "id": "77820ad2",
   "metadata": {
    "scrolled": true
   },
   "outputs": [
    {
     "data": {
      "text/plain": [
       "product_id     int64\n",
       "id_web        object\n",
       "dtype: object"
      ]
     },
     "execution_count": 11,
     "metadata": {},
     "output_type": "execute_result"
    }
   ],
   "source": [
    "#Types de variables dans le df 'liaison'\n",
    "df_liaison.dtypes"
   ]
  },
  {
   "cell_type": "markdown",
   "id": "bc85ecc0",
   "metadata": {},
   "source": [
    "Pas d'erreur de type de variables dans le df 'liaison'"
   ]
  },
  {
   "cell_type": "markdown",
   "id": "d9ed11ba",
   "metadata": {},
   "source": [
    "### 2. Valeurs manquantes<a class=\"anchor\" id=\"2_2\"></a>\n",
    "\n",
    "L'objectif est d'identifier les éventuelles valeurs manquantes et de définir le traitement à effectuer."
   ]
  },
  {
   "cell_type": "markdown",
   "id": "3ab412e6",
   "metadata": {},
   "source": [
    "#### a. Data frame 'erp'<a class=\"anchor\" id=\"2_2_1\"></a>"
   ]
  },
  {
   "cell_type": "code",
   "execution_count": 12,
   "id": "666c4ba3",
   "metadata": {
    "scrolled": false
   },
   "outputs": [
    {
     "data": {
      "text/plain": [
       "product_id        0\n",
       "onsale_web        0\n",
       "price             0\n",
       "stock_quantity    0\n",
       "stock_status      0\n",
       "dtype: int64"
      ]
     },
     "execution_count": 12,
     "metadata": {},
     "output_type": "execute_result"
    }
   ],
   "source": [
    "# affichage du nombre de valeurs manquantes pour chaque colonne\n",
    "df_erp.isna().sum()"
   ]
  },
  {
   "cell_type": "markdown",
   "id": "768379a2",
   "metadata": {},
   "source": [
    "Il n'y a pas de valeur manquante dans le data frame 'erp'"
   ]
  },
  {
   "cell_type": "markdown",
   "id": "d6288129",
   "metadata": {},
   "source": [
    "#### b. Data frame 'web'<a class=\"anchor\" id=\"2_2_2\"></a>"
   ]
  },
  {
   "cell_type": "code",
   "execution_count": 13,
   "id": "93e53a76",
   "metadata": {
    "scrolled": false
   },
   "outputs": [
    {
     "data": {
      "text/plain": [
       "sku                        85\n",
       "average_rating             83\n",
       "total_sales                83\n",
       "tax_status                797\n",
       "tax_class                1513\n",
       "post_author                83\n",
       "post_date                  83\n",
       "post_date_gmt              83\n",
       "post_content             1513\n",
       "post_title                 83\n",
       "post_excerpt              797\n",
       "post_status                83\n",
       "comment_status             83\n",
       "ping_status                83\n",
       "post_password            1513\n",
       "post_name                  83\n",
       "post_modified              83\n",
       "post_modified_gmt          83\n",
       "post_content_filtered    1513\n",
       "post_parent                83\n",
       "guid                       83\n",
       "menu_order                 83\n",
       "post_type                  83\n",
       "post_mime_type            799\n",
       "comment_count              83\n",
       "dtype: int64"
      ]
     },
     "execution_count": 13,
     "metadata": {},
     "output_type": "execute_result"
    }
   ],
   "source": [
    "# affichage du nombre de valeurs manquantes\n",
    "nb_na=df_web.isna().sum()\n",
    "nb_na.loc[nb_na>0]"
   ]
  },
  {
   "cell_type": "markdown",
   "id": "def6d190",
   "metadata": {},
   "source": [
    "- <font color='red'>Il y a de nombreuses valeurs manquantes notamment : \n",
    "    - sku : 85\n",
    "    - total_sales: 83 </font>\n",
    "\n",
    "L'identifiant produit 'sku' et la quantité vendue 'total_sales' sont des informations importantes pour l'analyse du chiffre d'affaires et des ventes. \n",
    "\n",
    "- Les colonnes 'tax_class', 'post_content', 'post_password', 'post_content_filtered' sont vides. Ces colonnes ne sont pas à conserver car elles ne contiennent aucune information."
   ]
  },
  {
   "cell_type": "markdown",
   "id": "254ee428",
   "metadata": {},
   "source": [
    "##### Traitement des 'sku' NaN\n",
    "Inspecter les lignes avec 'sku' NaN pour voir si toutes les variables sont NaN. Il y a 85 'sku' NaN et 83 autres variables NaN, peut-être des informations sont elles disponibles pour complèter les NaN de la colonne 'sku'."
   ]
  },
  {
   "cell_type": "code",
   "execution_count": 14,
   "id": "4afcd438",
   "metadata": {},
   "outputs": [
    {
     "data": {
      "text/html": [
       "<div>\n",
       "<style scoped>\n",
       "    .dataframe tbody tr th:only-of-type {\n",
       "        vertical-align: middle;\n",
       "    }\n",
       "\n",
       "    .dataframe tbody tr th {\n",
       "        vertical-align: top;\n",
       "    }\n",
       "\n",
       "    .dataframe thead th {\n",
       "        text-align: right;\n",
       "    }\n",
       "</style>\n",
       "<table border=\"1\" class=\"dataframe\">\n",
       "  <thead>\n",
       "    <tr style=\"text-align: right;\">\n",
       "      <th></th>\n",
       "      <th>sku</th>\n",
       "      <th>virtual</th>\n",
       "      <th>downloadable</th>\n",
       "      <th>rating_count</th>\n",
       "      <th>average_rating</th>\n",
       "      <th>total_sales</th>\n",
       "      <th>tax_status</th>\n",
       "      <th>tax_class</th>\n",
       "      <th>post_author</th>\n",
       "      <th>post_date</th>\n",
       "      <th>...</th>\n",
       "      <th>post_name</th>\n",
       "      <th>post_modified</th>\n",
       "      <th>post_modified_gmt</th>\n",
       "      <th>post_content_filtered</th>\n",
       "      <th>post_parent</th>\n",
       "      <th>guid</th>\n",
       "      <th>menu_order</th>\n",
       "      <th>post_type</th>\n",
       "      <th>post_mime_type</th>\n",
       "      <th>comment_count</th>\n",
       "    </tr>\n",
       "  </thead>\n",
       "  <tbody>\n",
       "    <tr>\n",
       "      <th>178</th>\n",
       "      <td>NaN</td>\n",
       "      <td>0</td>\n",
       "      <td>0</td>\n",
       "      <td>0</td>\n",
       "      <td>NaN</td>\n",
       "      <td>NaN</td>\n",
       "      <td>NaN</td>\n",
       "      <td>NaN</td>\n",
       "      <td>NaN</td>\n",
       "      <td>NaT</td>\n",
       "      <td>...</td>\n",
       "      <td>NaN</td>\n",
       "      <td>NaT</td>\n",
       "      <td>NaT</td>\n",
       "      <td>NaN</td>\n",
       "      <td>NaN</td>\n",
       "      <td>NaN</td>\n",
       "      <td>NaN</td>\n",
       "      <td>NaN</td>\n",
       "      <td>NaN</td>\n",
       "      <td>NaN</td>\n",
       "    </tr>\n",
       "    <tr>\n",
       "      <th>179</th>\n",
       "      <td>NaN</td>\n",
       "      <td>0</td>\n",
       "      <td>0</td>\n",
       "      <td>0</td>\n",
       "      <td>NaN</td>\n",
       "      <td>NaN</td>\n",
       "      <td>NaN</td>\n",
       "      <td>NaN</td>\n",
       "      <td>NaN</td>\n",
       "      <td>NaT</td>\n",
       "      <td>...</td>\n",
       "      <td>NaN</td>\n",
       "      <td>NaT</td>\n",
       "      <td>NaT</td>\n",
       "      <td>NaN</td>\n",
       "      <td>NaN</td>\n",
       "      <td>NaN</td>\n",
       "      <td>NaN</td>\n",
       "      <td>NaN</td>\n",
       "      <td>NaN</td>\n",
       "      <td>NaN</td>\n",
       "    </tr>\n",
       "    <tr>\n",
       "      <th>227</th>\n",
       "      <td>NaN</td>\n",
       "      <td>0</td>\n",
       "      <td>0</td>\n",
       "      <td>0</td>\n",
       "      <td>NaN</td>\n",
       "      <td>NaN</td>\n",
       "      <td>NaN</td>\n",
       "      <td>NaN</td>\n",
       "      <td>NaN</td>\n",
       "      <td>NaT</td>\n",
       "      <td>...</td>\n",
       "      <td>NaN</td>\n",
       "      <td>NaT</td>\n",
       "      <td>NaT</td>\n",
       "      <td>NaN</td>\n",
       "      <td>NaN</td>\n",
       "      <td>NaN</td>\n",
       "      <td>NaN</td>\n",
       "      <td>NaN</td>\n",
       "      <td>NaN</td>\n",
       "      <td>NaN</td>\n",
       "    </tr>\n",
       "    <tr>\n",
       "      <th>230</th>\n",
       "      <td>NaN</td>\n",
       "      <td>0</td>\n",
       "      <td>0</td>\n",
       "      <td>0</td>\n",
       "      <td>NaN</td>\n",
       "      <td>NaN</td>\n",
       "      <td>NaN</td>\n",
       "      <td>NaN</td>\n",
       "      <td>NaN</td>\n",
       "      <td>NaT</td>\n",
       "      <td>...</td>\n",
       "      <td>NaN</td>\n",
       "      <td>NaT</td>\n",
       "      <td>NaT</td>\n",
       "      <td>NaN</td>\n",
       "      <td>NaN</td>\n",
       "      <td>NaN</td>\n",
       "      <td>NaN</td>\n",
       "      <td>NaN</td>\n",
       "      <td>NaN</td>\n",
       "      <td>NaN</td>\n",
       "    </tr>\n",
       "    <tr>\n",
       "      <th>231</th>\n",
       "      <td>NaN</td>\n",
       "      <td>0</td>\n",
       "      <td>0</td>\n",
       "      <td>0</td>\n",
       "      <td>NaN</td>\n",
       "      <td>NaN</td>\n",
       "      <td>NaN</td>\n",
       "      <td>NaN</td>\n",
       "      <td>NaN</td>\n",
       "      <td>NaT</td>\n",
       "      <td>...</td>\n",
       "      <td>NaN</td>\n",
       "      <td>NaT</td>\n",
       "      <td>NaT</td>\n",
       "      <td>NaN</td>\n",
       "      <td>NaN</td>\n",
       "      <td>NaN</td>\n",
       "      <td>NaN</td>\n",
       "      <td>NaN</td>\n",
       "      <td>NaN</td>\n",
       "      <td>NaN</td>\n",
       "    </tr>\n",
       "    <tr>\n",
       "      <th>...</th>\n",
       "      <td>...</td>\n",
       "      <td>...</td>\n",
       "      <td>...</td>\n",
       "      <td>...</td>\n",
       "      <td>...</td>\n",
       "      <td>...</td>\n",
       "      <td>...</td>\n",
       "      <td>...</td>\n",
       "      <td>...</td>\n",
       "      <td>...</td>\n",
       "      <td>...</td>\n",
       "      <td>...</td>\n",
       "      <td>...</td>\n",
       "      <td>...</td>\n",
       "      <td>...</td>\n",
       "      <td>...</td>\n",
       "      <td>...</td>\n",
       "      <td>...</td>\n",
       "      <td>...</td>\n",
       "      <td>...</td>\n",
       "      <td>...</td>\n",
       "    </tr>\n",
       "    <tr>\n",
       "      <th>792</th>\n",
       "      <td>NaN</td>\n",
       "      <td>0</td>\n",
       "      <td>0</td>\n",
       "      <td>0</td>\n",
       "      <td>NaN</td>\n",
       "      <td>NaN</td>\n",
       "      <td>NaN</td>\n",
       "      <td>NaN</td>\n",
       "      <td>NaN</td>\n",
       "      <td>NaT</td>\n",
       "      <td>...</td>\n",
       "      <td>NaN</td>\n",
       "      <td>NaT</td>\n",
       "      <td>NaT</td>\n",
       "      <td>NaN</td>\n",
       "      <td>NaN</td>\n",
       "      <td>NaN</td>\n",
       "      <td>NaN</td>\n",
       "      <td>NaN</td>\n",
       "      <td>NaN</td>\n",
       "      <td>NaN</td>\n",
       "    </tr>\n",
       "    <tr>\n",
       "      <th>793</th>\n",
       "      <td>NaN</td>\n",
       "      <td>0</td>\n",
       "      <td>0</td>\n",
       "      <td>0</td>\n",
       "      <td>NaN</td>\n",
       "      <td>NaN</td>\n",
       "      <td>NaN</td>\n",
       "      <td>NaN</td>\n",
       "      <td>NaN</td>\n",
       "      <td>NaT</td>\n",
       "      <td>...</td>\n",
       "      <td>NaN</td>\n",
       "      <td>NaT</td>\n",
       "      <td>NaT</td>\n",
       "      <td>NaN</td>\n",
       "      <td>NaN</td>\n",
       "      <td>NaN</td>\n",
       "      <td>NaN</td>\n",
       "      <td>NaN</td>\n",
       "      <td>NaN</td>\n",
       "      <td>NaN</td>\n",
       "    </tr>\n",
       "    <tr>\n",
       "      <th>794</th>\n",
       "      <td>NaN</td>\n",
       "      <td>0</td>\n",
       "      <td>0</td>\n",
       "      <td>0</td>\n",
       "      <td>NaN</td>\n",
       "      <td>NaN</td>\n",
       "      <td>NaN</td>\n",
       "      <td>NaN</td>\n",
       "      <td>NaN</td>\n",
       "      <td>NaT</td>\n",
       "      <td>...</td>\n",
       "      <td>NaN</td>\n",
       "      <td>NaT</td>\n",
       "      <td>NaT</td>\n",
       "      <td>NaN</td>\n",
       "      <td>NaN</td>\n",
       "      <td>NaN</td>\n",
       "      <td>NaN</td>\n",
       "      <td>NaN</td>\n",
       "      <td>NaN</td>\n",
       "      <td>NaN</td>\n",
       "    </tr>\n",
       "    <tr>\n",
       "      <th>795</th>\n",
       "      <td>NaN</td>\n",
       "      <td>0</td>\n",
       "      <td>0</td>\n",
       "      <td>0</td>\n",
       "      <td>NaN</td>\n",
       "      <td>NaN</td>\n",
       "      <td>NaN</td>\n",
       "      <td>NaN</td>\n",
       "      <td>NaN</td>\n",
       "      <td>NaT</td>\n",
       "      <td>...</td>\n",
       "      <td>NaN</td>\n",
       "      <td>NaT</td>\n",
       "      <td>NaT</td>\n",
       "      <td>NaN</td>\n",
       "      <td>NaN</td>\n",
       "      <td>NaN</td>\n",
       "      <td>NaN</td>\n",
       "      <td>NaN</td>\n",
       "      <td>NaN</td>\n",
       "      <td>NaN</td>\n",
       "    </tr>\n",
       "    <tr>\n",
       "      <th>796</th>\n",
       "      <td>NaN</td>\n",
       "      <td>0</td>\n",
       "      <td>0</td>\n",
       "      <td>0</td>\n",
       "      <td>NaN</td>\n",
       "      <td>NaN</td>\n",
       "      <td>NaN</td>\n",
       "      <td>NaN</td>\n",
       "      <td>NaN</td>\n",
       "      <td>NaT</td>\n",
       "      <td>...</td>\n",
       "      <td>NaN</td>\n",
       "      <td>NaT</td>\n",
       "      <td>NaT</td>\n",
       "      <td>NaN</td>\n",
       "      <td>NaN</td>\n",
       "      <td>NaN</td>\n",
       "      <td>NaN</td>\n",
       "      <td>NaN</td>\n",
       "      <td>NaN</td>\n",
       "      <td>NaN</td>\n",
       "    </tr>\n",
       "  </tbody>\n",
       "</table>\n",
       "<p>85 rows × 28 columns</p>\n",
       "</div>"
      ],
      "text/plain": [
       "     sku  virtual  downloadable  rating_count  average_rating  total_sales  \\\n",
       "178  NaN        0             0             0             NaN          NaN   \n",
       "179  NaN        0             0             0             NaN          NaN   \n",
       "227  NaN        0             0             0             NaN          NaN   \n",
       "230  NaN        0             0             0             NaN          NaN   \n",
       "231  NaN        0             0             0             NaN          NaN   \n",
       "..   ...      ...           ...           ...             ...          ...   \n",
       "792  NaN        0             0             0             NaN          NaN   \n",
       "793  NaN        0             0             0             NaN          NaN   \n",
       "794  NaN        0             0             0             NaN          NaN   \n",
       "795  NaN        0             0             0             NaN          NaN   \n",
       "796  NaN        0             0             0             NaN          NaN   \n",
       "\n",
       "    tax_status  tax_class  post_author post_date  ... post_name  \\\n",
       "178        NaN        NaN          NaN       NaT  ...       NaN   \n",
       "179        NaN        NaN          NaN       NaT  ...       NaN   \n",
       "227        NaN        NaN          NaN       NaT  ...       NaN   \n",
       "230        NaN        NaN          NaN       NaT  ...       NaN   \n",
       "231        NaN        NaN          NaN       NaT  ...       NaN   \n",
       "..         ...        ...          ...       ...  ...       ...   \n",
       "792        NaN        NaN          NaN       NaT  ...       NaN   \n",
       "793        NaN        NaN          NaN       NaT  ...       NaN   \n",
       "794        NaN        NaN          NaN       NaT  ...       NaN   \n",
       "795        NaN        NaN          NaN       NaT  ...       NaN   \n",
       "796        NaN        NaN          NaN       NaT  ...       NaN   \n",
       "\n",
       "     post_modified post_modified_gmt post_content_filtered post_parent guid  \\\n",
       "178            NaT               NaT                   NaN         NaN  NaN   \n",
       "179            NaT               NaT                   NaN         NaN  NaN   \n",
       "227            NaT               NaT                   NaN         NaN  NaN   \n",
       "230            NaT               NaT                   NaN         NaN  NaN   \n",
       "231            NaT               NaT                   NaN         NaN  NaN   \n",
       "..             ...               ...                   ...         ...  ...   \n",
       "792            NaT               NaT                   NaN         NaN  NaN   \n",
       "793            NaT               NaT                   NaN         NaN  NaN   \n",
       "794            NaT               NaT                   NaN         NaN  NaN   \n",
       "795            NaT               NaT                   NaN         NaN  NaN   \n",
       "796            NaT               NaT                   NaN         NaN  NaN   \n",
       "\n",
       "    menu_order  post_type post_mime_type comment_count  \n",
       "178        NaN        NaN            NaN           NaN  \n",
       "179        NaN        NaN            NaN           NaN  \n",
       "227        NaN        NaN            NaN           NaN  \n",
       "230        NaN        NaN            NaN           NaN  \n",
       "231        NaN        NaN            NaN           NaN  \n",
       "..         ...        ...            ...           ...  \n",
       "792        NaN        NaN            NaN           NaN  \n",
       "793        NaN        NaN            NaN           NaN  \n",
       "794        NaN        NaN            NaN           NaN  \n",
       "795        NaN        NaN            NaN           NaN  \n",
       "796        NaN        NaN            NaN           NaN  \n",
       "\n",
       "[85 rows x 28 columns]"
      ]
     },
     "execution_count": 14,
     "metadata": {},
     "output_type": "execute_result"
    }
   ],
   "source": [
    "#Inspection des lignes de 'sku' NaN \n",
    "sku_na=df_web.loc[df_web['sku'].isna(),:]\n",
    "sku_na"
   ]
  },
  {
   "cell_type": "code",
   "execution_count": 15,
   "id": "de3efc25",
   "metadata": {},
   "outputs": [
    {
     "data": {
      "text/html": [
       "<div>\n",
       "<style scoped>\n",
       "    .dataframe tbody tr th:only-of-type {\n",
       "        vertical-align: middle;\n",
       "    }\n",
       "\n",
       "    .dataframe tbody tr th {\n",
       "        vertical-align: top;\n",
       "    }\n",
       "\n",
       "    .dataframe thead th {\n",
       "        text-align: right;\n",
       "    }\n",
       "</style>\n",
       "<table border=\"1\" class=\"dataframe\">\n",
       "  <thead>\n",
       "    <tr style=\"text-align: right;\">\n",
       "      <th></th>\n",
       "      <th>sku</th>\n",
       "      <th>virtual</th>\n",
       "      <th>downloadable</th>\n",
       "      <th>rating_count</th>\n",
       "      <th>average_rating</th>\n",
       "      <th>total_sales</th>\n",
       "      <th>tax_status</th>\n",
       "      <th>tax_class</th>\n",
       "      <th>post_author</th>\n",
       "      <th>post_date</th>\n",
       "      <th>...</th>\n",
       "      <th>post_name</th>\n",
       "      <th>post_modified</th>\n",
       "      <th>post_modified_gmt</th>\n",
       "      <th>post_content_filtered</th>\n",
       "      <th>post_parent</th>\n",
       "      <th>guid</th>\n",
       "      <th>menu_order</th>\n",
       "      <th>post_type</th>\n",
       "      <th>post_mime_type</th>\n",
       "      <th>comment_count</th>\n",
       "    </tr>\n",
       "  </thead>\n",
       "  <tbody>\n",
       "    <tr>\n",
       "      <th>470</th>\n",
       "      <td>NaN</td>\n",
       "      <td>0</td>\n",
       "      <td>0</td>\n",
       "      <td>0</td>\n",
       "      <td>0.0</td>\n",
       "      <td>0.0</td>\n",
       "      <td>taxable</td>\n",
       "      <td>NaN</td>\n",
       "      <td>2.0</td>\n",
       "      <td>2018-07-31 12:07:23</td>\n",
       "      <td>...</td>\n",
       "      <td>pierre-jean-villa-cote-rotie-fongeant-2017</td>\n",
       "      <td>2019-11-02 13:24:15</td>\n",
       "      <td>2019-11-02 12:24:15</td>\n",
       "      <td>NaN</td>\n",
       "      <td>0.0</td>\n",
       "      <td>https://www.bottle-neck.fr/?post_type=product&amp;...</td>\n",
       "      <td>0.0</td>\n",
       "      <td>product</td>\n",
       "      <td>NaN</td>\n",
       "      <td>0.0</td>\n",
       "    </tr>\n",
       "    <tr>\n",
       "      <th>471</th>\n",
       "      <td>NaN</td>\n",
       "      <td>0</td>\n",
       "      <td>0</td>\n",
       "      <td>0</td>\n",
       "      <td>0.0</td>\n",
       "      <td>0.0</td>\n",
       "      <td>taxable</td>\n",
       "      <td>NaN</td>\n",
       "      <td>2.0</td>\n",
       "      <td>2018-08-08 11:23:43</td>\n",
       "      <td>...</td>\n",
       "      <td>pierre-jean-villa-condrieu-suspendu-2018</td>\n",
       "      <td>2019-11-02 13:24:01</td>\n",
       "      <td>2019-11-02 12:24:01</td>\n",
       "      <td>NaN</td>\n",
       "      <td>0.0</td>\n",
       "      <td>https://www.bottle-neck.fr/?post_type=product&amp;...</td>\n",
       "      <td>0.0</td>\n",
       "      <td>product</td>\n",
       "      <td>NaN</td>\n",
       "      <td>0.0</td>\n",
       "    </tr>\n",
       "  </tbody>\n",
       "</table>\n",
       "<p>2 rows × 28 columns</p>\n",
       "</div>"
      ],
      "text/plain": [
       "     sku  virtual  downloadable  rating_count  average_rating  total_sales  \\\n",
       "470  NaN        0             0             0             0.0          0.0   \n",
       "471  NaN        0             0             0             0.0          0.0   \n",
       "\n",
       "    tax_status  tax_class  post_author           post_date  ...  \\\n",
       "470    taxable        NaN          2.0 2018-07-31 12:07:23  ...   \n",
       "471    taxable        NaN          2.0 2018-08-08 11:23:43  ...   \n",
       "\n",
       "                                      post_name       post_modified  \\\n",
       "470  pierre-jean-villa-cote-rotie-fongeant-2017 2019-11-02 13:24:15   \n",
       "471    pierre-jean-villa-condrieu-suspendu-2018 2019-11-02 13:24:01   \n",
       "\n",
       "      post_modified_gmt post_content_filtered post_parent  \\\n",
       "470 2019-11-02 12:24:15                   NaN         0.0   \n",
       "471 2019-11-02 12:24:01                   NaN         0.0   \n",
       "\n",
       "                                                  guid menu_order  post_type  \\\n",
       "470  https://www.bottle-neck.fr/?post_type=product&...        0.0    product   \n",
       "471  https://www.bottle-neck.fr/?post_type=product&...        0.0    product   \n",
       "\n",
       "    post_mime_type comment_count  \n",
       "470            NaN           0.0  \n",
       "471            NaN           0.0  \n",
       "\n",
       "[2 rows x 28 columns]"
      ]
     },
     "execution_count": 15,
     "metadata": {},
     "output_type": "execute_result"
    }
   ],
   "source": [
    "#Recherche sur les autres colonnes de valeurs non NaN dans la sélection sku_na\n",
    "sku_na.loc[~sku_na['average_rating'].isna(),:]"
   ]
  },
  {
   "cell_type": "markdown",
   "id": "621d024b",
   "metadata": {},
   "source": [
    "Pour ces 2 lignes, le 'sku' est NaN et plusieurs autres variables ne sont pas manquantes. Le 'post_name' devrait permettre de retrouver le 'sku' du produit."
   ]
  },
  {
   "cell_type": "code",
   "execution_count": 16,
   "id": "0f1be0eb",
   "metadata": {
    "scrolled": true
   },
   "outputs": [
    {
     "data": {
      "text/html": [
       "<div>\n",
       "<style scoped>\n",
       "    .dataframe tbody tr th:only-of-type {\n",
       "        vertical-align: middle;\n",
       "    }\n",
       "\n",
       "    .dataframe tbody tr th {\n",
       "        vertical-align: top;\n",
       "    }\n",
       "\n",
       "    .dataframe thead th {\n",
       "        text-align: right;\n",
       "    }\n",
       "</style>\n",
       "<table border=\"1\" class=\"dataframe\">\n",
       "  <thead>\n",
       "    <tr style=\"text-align: right;\">\n",
       "      <th></th>\n",
       "      <th>sku</th>\n",
       "      <th>virtual</th>\n",
       "      <th>downloadable</th>\n",
       "      <th>rating_count</th>\n",
       "      <th>average_rating</th>\n",
       "      <th>total_sales</th>\n",
       "      <th>tax_status</th>\n",
       "      <th>tax_class</th>\n",
       "      <th>post_author</th>\n",
       "      <th>post_date</th>\n",
       "      <th>...</th>\n",
       "      <th>post_name</th>\n",
       "      <th>post_modified</th>\n",
       "      <th>post_modified_gmt</th>\n",
       "      <th>post_content_filtered</th>\n",
       "      <th>post_parent</th>\n",
       "      <th>guid</th>\n",
       "      <th>menu_order</th>\n",
       "      <th>post_type</th>\n",
       "      <th>post_mime_type</th>\n",
       "      <th>comment_count</th>\n",
       "    </tr>\n",
       "  </thead>\n",
       "  <tbody>\n",
       "    <tr>\n",
       "      <th>470</th>\n",
       "      <td>NaN</td>\n",
       "      <td>0</td>\n",
       "      <td>0</td>\n",
       "      <td>0</td>\n",
       "      <td>0.0</td>\n",
       "      <td>0.0</td>\n",
       "      <td>taxable</td>\n",
       "      <td>NaN</td>\n",
       "      <td>2.0</td>\n",
       "      <td>2018-07-31 12:07:23</td>\n",
       "      <td>...</td>\n",
       "      <td>pierre-jean-villa-cote-rotie-fongeant-2017</td>\n",
       "      <td>2019-11-02 13:24:15</td>\n",
       "      <td>2019-11-02 12:24:15</td>\n",
       "      <td>NaN</td>\n",
       "      <td>0.0</td>\n",
       "      <td>https://www.bottle-neck.fr/?post_type=product&amp;...</td>\n",
       "      <td>0.0</td>\n",
       "      <td>product</td>\n",
       "      <td>NaN</td>\n",
       "      <td>0.0</td>\n",
       "    </tr>\n",
       "  </tbody>\n",
       "</table>\n",
       "<p>1 rows × 28 columns</p>\n",
       "</div>"
      ],
      "text/plain": [
       "     sku  virtual  downloadable  rating_count  average_rating  total_sales  \\\n",
       "470  NaN        0             0             0             0.0          0.0   \n",
       "\n",
       "    tax_status  tax_class  post_author           post_date  ...  \\\n",
       "470    taxable        NaN          2.0 2018-07-31 12:07:23  ...   \n",
       "\n",
       "                                      post_name       post_modified  \\\n",
       "470  pierre-jean-villa-cote-rotie-fongeant-2017 2019-11-02 13:24:15   \n",
       "\n",
       "      post_modified_gmt post_content_filtered post_parent  \\\n",
       "470 2019-11-02 12:24:15                   NaN         0.0   \n",
       "\n",
       "                                                  guid menu_order  post_type  \\\n",
       "470  https://www.bottle-neck.fr/?post_type=product&...        0.0    product   \n",
       "\n",
       "    post_mime_type comment_count  \n",
       "470            NaN           0.0  \n",
       "\n",
       "[1 rows x 28 columns]"
      ]
     },
     "execution_count": 16,
     "metadata": {},
     "output_type": "execute_result"
    }
   ],
   "source": [
    "#Recherche des autres lignes avec 'post_name' = 'pierre-jean-villa-cote-rotie-fongeant-2017' et 'pierre-jean-villa-condrieu-suspendu-2018'\n",
    "df_web.loc[df_web['post_name']=='pierre-jean-villa-cote-rotie-fongeant-2017',:]"
   ]
  },
  {
   "cell_type": "code",
   "execution_count": 17,
   "id": "7e21d892",
   "metadata": {},
   "outputs": [
    {
     "data": {
      "text/html": [
       "<div>\n",
       "<style scoped>\n",
       "    .dataframe tbody tr th:only-of-type {\n",
       "        vertical-align: middle;\n",
       "    }\n",
       "\n",
       "    .dataframe tbody tr th {\n",
       "        vertical-align: top;\n",
       "    }\n",
       "\n",
       "    .dataframe thead th {\n",
       "        text-align: right;\n",
       "    }\n",
       "</style>\n",
       "<table border=\"1\" class=\"dataframe\">\n",
       "  <thead>\n",
       "    <tr style=\"text-align: right;\">\n",
       "      <th></th>\n",
       "      <th>sku</th>\n",
       "      <th>virtual</th>\n",
       "      <th>downloadable</th>\n",
       "      <th>rating_count</th>\n",
       "      <th>average_rating</th>\n",
       "      <th>total_sales</th>\n",
       "      <th>tax_status</th>\n",
       "      <th>tax_class</th>\n",
       "      <th>post_author</th>\n",
       "      <th>post_date</th>\n",
       "      <th>...</th>\n",
       "      <th>post_name</th>\n",
       "      <th>post_modified</th>\n",
       "      <th>post_modified_gmt</th>\n",
       "      <th>post_content_filtered</th>\n",
       "      <th>post_parent</th>\n",
       "      <th>guid</th>\n",
       "      <th>menu_order</th>\n",
       "      <th>post_type</th>\n",
       "      <th>post_mime_type</th>\n",
       "      <th>comment_count</th>\n",
       "    </tr>\n",
       "  </thead>\n",
       "  <tbody>\n",
       "    <tr>\n",
       "      <th>471</th>\n",
       "      <td>NaN</td>\n",
       "      <td>0</td>\n",
       "      <td>0</td>\n",
       "      <td>0</td>\n",
       "      <td>0.0</td>\n",
       "      <td>0.0</td>\n",
       "      <td>taxable</td>\n",
       "      <td>NaN</td>\n",
       "      <td>2.0</td>\n",
       "      <td>2018-08-08 11:23:43</td>\n",
       "      <td>...</td>\n",
       "      <td>pierre-jean-villa-condrieu-suspendu-2018</td>\n",
       "      <td>2019-11-02 13:24:01</td>\n",
       "      <td>2019-11-02 12:24:01</td>\n",
       "      <td>NaN</td>\n",
       "      <td>0.0</td>\n",
       "      <td>https://www.bottle-neck.fr/?post_type=product&amp;...</td>\n",
       "      <td>0.0</td>\n",
       "      <td>product</td>\n",
       "      <td>NaN</td>\n",
       "      <td>0.0</td>\n",
       "    </tr>\n",
       "  </tbody>\n",
       "</table>\n",
       "<p>1 rows × 28 columns</p>\n",
       "</div>"
      ],
      "text/plain": [
       "     sku  virtual  downloadable  rating_count  average_rating  total_sales  \\\n",
       "471  NaN        0             0             0             0.0          0.0   \n",
       "\n",
       "    tax_status  tax_class  post_author           post_date  ...  \\\n",
       "471    taxable        NaN          2.0 2018-08-08 11:23:43  ...   \n",
       "\n",
       "                                    post_name       post_modified  \\\n",
       "471  pierre-jean-villa-condrieu-suspendu-2018 2019-11-02 13:24:01   \n",
       "\n",
       "      post_modified_gmt post_content_filtered post_parent  \\\n",
       "471 2019-11-02 12:24:01                   NaN         0.0   \n",
       "\n",
       "                                                  guid menu_order  post_type  \\\n",
       "471  https://www.bottle-neck.fr/?post_type=product&...        0.0    product   \n",
       "\n",
       "    post_mime_type comment_count  \n",
       "471            NaN           0.0  \n",
       "\n",
       "[1 rows x 28 columns]"
      ]
     },
     "execution_count": 17,
     "metadata": {},
     "output_type": "execute_result"
    }
   ],
   "source": [
    "df_web.loc[df_web['post_name']=='pierre-jean-villa-condrieu-suspendu-2018',:]"
   ]
  },
  {
   "cell_type": "markdown",
   "id": "1c153202",
   "metadata": {},
   "source": [
    "Il n'est pas possible ici de retrouver l'identifiant 'sku'.\n",
    "\n",
    "<font color='red'>Il s'agit d'une erreur d'enregistrement des données => à signaler pour correction.</font>"
   ]
  },
  {
   "cell_type": "code",
   "execution_count": 18,
   "id": "db276e53",
   "metadata": {
    "scrolled": true
   },
   "outputs": [
    {
     "data": {
      "text/plain": [
       "5.62"
      ]
     },
     "execution_count": 18,
     "metadata": {},
     "output_type": "execute_result"
    }
   ],
   "source": [
    "#Pourcentage de la variable 'sku' qui est null\n",
    "round(df_web['sku'].isna().mean()*(100),2)"
   ]
  },
  {
   "cell_type": "markdown",
   "id": "f5638290",
   "metadata": {},
   "source": [
    "Les valeurs NaN de la variable 'sku' représentent 5,6% des données et sont à supprimer du data frame pour l'analyse."
   ]
  },
  {
   "cell_type": "code",
   "execution_count": 19,
   "id": "77288e07",
   "metadata": {
    "scrolled": false
   },
   "outputs": [
    {
     "data": {
      "text/plain": [
       "tax_status                714\n",
       "tax_class                1428\n",
       "post_content             1428\n",
       "post_excerpt              714\n",
       "post_password            1428\n",
       "post_content_filtered    1428\n",
       "post_mime_type            714\n",
       "dtype: int64"
      ]
     },
     "execution_count": 19,
     "metadata": {},
     "output_type": "execute_result"
    }
   ],
   "source": [
    "#Sélection des  lignes sku non NaN\n",
    "df_web=df_web.loc[df_web['sku'].notna()]\n",
    "\n",
    "#valeurs manquantes sur l'échantillon restant\n",
    "nb_na=df_web.isna().sum()\n",
    "nb_na.loc[nb_na>0]"
   ]
  },
  {
   "cell_type": "code",
   "execution_count": 20,
   "id": "7ebb96dc",
   "metadata": {},
   "outputs": [
    {
     "name": "stdout",
     "output_type": "stream",
     "text": [
      "Après suppression des lignes avec un 'sku' NaN, le data frame web a pour dimensions :(1428, 28)\n"
     ]
    }
   ],
   "source": [
    "print(\"Après suppression des lignes avec un 'sku' NaN, le data frame web a pour dimensions :\"+str(df_web.shape))"
   ]
  },
  {
   "cell_type": "markdown",
   "id": "11af9f8a",
   "metadata": {},
   "source": [
    "##### Traitement des colonnes vides"
   ]
  },
  {
   "cell_type": "code",
   "execution_count": 21,
   "id": "bd07717b",
   "metadata": {},
   "outputs": [
    {
     "name": "stdout",
     "output_type": "stream",
     "text": [
      "Après suppression des colonnes vides 'tax_class','post_content','post_password','post_content_filtered', le data frame web a pour dimensions : (1428, 24)\n"
     ]
    }
   ],
   "source": [
    "#Sélection des colonnes non vides\n",
    "df_web.drop(columns=['tax_class','post_content','post_password','post_content_filtered'],inplace=True)\n",
    "\n",
    "print(\"Après suppression des colonnes vides 'tax_class','post_content','post_password','post_content_filtered', le data frame web a pour dimensions :\",df_web.shape)"
   ]
  },
  {
   "cell_type": "code",
   "execution_count": 22,
   "id": "3f40a3fc",
   "metadata": {},
   "outputs": [
    {
     "data": {
      "text/plain": [
       "tax_status        714\n",
       "post_excerpt      714\n",
       "post_mime_type    714\n",
       "dtype: int64"
      ]
     },
     "execution_count": 22,
     "metadata": {},
     "output_type": "execute_result"
    }
   ],
   "source": [
    "#valeurs manquantes sur l'échantillon restant\n",
    "nb_na=df_web.isna().sum()\n",
    "nb_na.loc[nb_na>0]"
   ]
  },
  {
   "cell_type": "markdown",
   "id": "4bc2bbd3",
   "metadata": {},
   "source": [
    "##### Traitement des dernières valeurs manquantes"
   ]
  },
  {
   "cell_type": "code",
   "execution_count": 23,
   "id": "1bad4124",
   "metadata": {},
   "outputs": [
    {
     "data": {
      "text/html": [
       "<div>\n",
       "<style scoped>\n",
       "    .dataframe tbody tr th:only-of-type {\n",
       "        vertical-align: middle;\n",
       "    }\n",
       "\n",
       "    .dataframe tbody tr th {\n",
       "        vertical-align: top;\n",
       "    }\n",
       "\n",
       "    .dataframe thead th {\n",
       "        text-align: right;\n",
       "    }\n",
       "</style>\n",
       "<table border=\"1\" class=\"dataframe\">\n",
       "  <thead>\n",
       "    <tr style=\"text-align: right;\">\n",
       "      <th></th>\n",
       "      <th>sku</th>\n",
       "      <th>virtual</th>\n",
       "      <th>downloadable</th>\n",
       "      <th>rating_count</th>\n",
       "      <th>average_rating</th>\n",
       "      <th>total_sales</th>\n",
       "      <th>tax_status</th>\n",
       "      <th>post_author</th>\n",
       "      <th>post_date</th>\n",
       "      <th>post_date_gmt</th>\n",
       "      <th>...</th>\n",
       "      <th>ping_status</th>\n",
       "      <th>post_name</th>\n",
       "      <th>post_modified</th>\n",
       "      <th>post_modified_gmt</th>\n",
       "      <th>post_parent</th>\n",
       "      <th>guid</th>\n",
       "      <th>menu_order</th>\n",
       "      <th>post_type</th>\n",
       "      <th>post_mime_type</th>\n",
       "      <th>comment_count</th>\n",
       "    </tr>\n",
       "  </thead>\n",
       "  <tbody>\n",
       "    <tr>\n",
       "      <th>799</th>\n",
       "      <td>15298</td>\n",
       "      <td>0</td>\n",
       "      <td>0</td>\n",
       "      <td>0</td>\n",
       "      <td>0.0</td>\n",
       "      <td>6.0</td>\n",
       "      <td>NaN</td>\n",
       "      <td>2.0</td>\n",
       "      <td>2018-02-08 12:58:52</td>\n",
       "      <td>2018-02-08 11:58:52</td>\n",
       "      <td>...</td>\n",
       "      <td>closed</td>\n",
       "      <td>pierre-jean-villa-saint-joseph-preface-2018</td>\n",
       "      <td>2019-12-30 09:30:29</td>\n",
       "      <td>2019-12-30 08:30:29</td>\n",
       "      <td>0.0</td>\n",
       "      <td>https://www.bottle-neck.fr/wp-content/uploads/...</td>\n",
       "      <td>0.0</td>\n",
       "      <td>attachment</td>\n",
       "      <td>image/jpeg</td>\n",
       "      <td>0.0</td>\n",
       "    </tr>\n",
       "    <tr>\n",
       "      <th>800</th>\n",
       "      <td>15296</td>\n",
       "      <td>0</td>\n",
       "      <td>0</td>\n",
       "      <td>0</td>\n",
       "      <td>0.0</td>\n",
       "      <td>0.0</td>\n",
       "      <td>NaN</td>\n",
       "      <td>2.0</td>\n",
       "      <td>2018-02-08 13:49:41</td>\n",
       "      <td>2018-02-08 12:49:41</td>\n",
       "      <td>...</td>\n",
       "      <td>closed</td>\n",
       "      <td>pierre-jean-villa-saint-joseph-tilde-2017</td>\n",
       "      <td>2019-12-21 09:00:17</td>\n",
       "      <td>2019-12-21 08:00:17</td>\n",
       "      <td>0.0</td>\n",
       "      <td>https://www.bottle-neck.fr/wp-content/uploads/...</td>\n",
       "      <td>0.0</td>\n",
       "      <td>attachment</td>\n",
       "      <td>image/jpeg</td>\n",
       "      <td>0.0</td>\n",
       "    </tr>\n",
       "    <tr>\n",
       "      <th>801</th>\n",
       "      <td>15300</td>\n",
       "      <td>0</td>\n",
       "      <td>0</td>\n",
       "      <td>0</td>\n",
       "      <td>0.0</td>\n",
       "      <td>0.0</td>\n",
       "      <td>NaN</td>\n",
       "      <td>2.0</td>\n",
       "      <td>2018-02-08 14:08:36</td>\n",
       "      <td>2018-02-08 13:08:36</td>\n",
       "      <td>...</td>\n",
       "      <td>closed</td>\n",
       "      <td>pierre-jean-villa-croze-hermitage-accroche-coe...</td>\n",
       "      <td>2020-06-26 18:15:03</td>\n",
       "      <td>2020-06-26 16:15:03</td>\n",
       "      <td>0.0</td>\n",
       "      <td>https://www.bottle-neck.fr/wp-content/uploads/...</td>\n",
       "      <td>0.0</td>\n",
       "      <td>attachment</td>\n",
       "      <td>image/jpeg</td>\n",
       "      <td>0.0</td>\n",
       "    </tr>\n",
       "    <tr>\n",
       "      <th>802</th>\n",
       "      <td>19814</td>\n",
       "      <td>0</td>\n",
       "      <td>0</td>\n",
       "      <td>0</td>\n",
       "      <td>0.0</td>\n",
       "      <td>3.0</td>\n",
       "      <td>NaN</td>\n",
       "      <td>2.0</td>\n",
       "      <td>2018-02-09 14:01:05</td>\n",
       "      <td>2018-02-09 13:01:05</td>\n",
       "      <td>...</td>\n",
       "      <td>closed</td>\n",
       "      <td>pierre-jean-villa-igp-gamine-2018</td>\n",
       "      <td>2020-01-04 16:36:01</td>\n",
       "      <td>2020-01-04 15:36:01</td>\n",
       "      <td>0.0</td>\n",
       "      <td>https://www.bottle-neck.fr/wp-content/uploads/...</td>\n",
       "      <td>0.0</td>\n",
       "      <td>attachment</td>\n",
       "      <td>image/jpeg</td>\n",
       "      <td>0.0</td>\n",
       "    </tr>\n",
       "    <tr>\n",
       "      <th>803</th>\n",
       "      <td>19815</td>\n",
       "      <td>0</td>\n",
       "      <td>0</td>\n",
       "      <td>0</td>\n",
       "      <td>0.0</td>\n",
       "      <td>0.0</td>\n",
       "      <td>NaN</td>\n",
       "      <td>2.0</td>\n",
       "      <td>2018-02-12 09:04:37</td>\n",
       "      <td>2018-02-12 08:04:37</td>\n",
       "      <td>...</td>\n",
       "      <td>closed</td>\n",
       "      <td>pierre-jean-villa-cote-rotie-carmina-2017</td>\n",
       "      <td>2020-01-04 16:36:10</td>\n",
       "      <td>2020-01-04 15:36:10</td>\n",
       "      <td>0.0</td>\n",
       "      <td>https://www.bottle-neck.fr/wp-content/uploads/...</td>\n",
       "      <td>0.0</td>\n",
       "      <td>attachment</td>\n",
       "      <td>image/jpeg</td>\n",
       "      <td>0.0</td>\n",
       "    </tr>\n",
       "  </tbody>\n",
       "</table>\n",
       "<p>5 rows × 24 columns</p>\n",
       "</div>"
      ],
      "text/plain": [
       "       sku  virtual  downloadable  rating_count  average_rating  total_sales  \\\n",
       "799  15298        0             0             0             0.0          6.0   \n",
       "800  15296        0             0             0             0.0          0.0   \n",
       "801  15300        0             0             0             0.0          0.0   \n",
       "802  19814        0             0             0             0.0          3.0   \n",
       "803  19815        0             0             0             0.0          0.0   \n",
       "\n",
       "    tax_status  post_author           post_date       post_date_gmt  ...  \\\n",
       "799        NaN          2.0 2018-02-08 12:58:52 2018-02-08 11:58:52  ...   \n",
       "800        NaN          2.0 2018-02-08 13:49:41 2018-02-08 12:49:41  ...   \n",
       "801        NaN          2.0 2018-02-08 14:08:36 2018-02-08 13:08:36  ...   \n",
       "802        NaN          2.0 2018-02-09 14:01:05 2018-02-09 13:01:05  ...   \n",
       "803        NaN          2.0 2018-02-12 09:04:37 2018-02-12 08:04:37  ...   \n",
       "\n",
       "    ping_status                                          post_name  \\\n",
       "799      closed        pierre-jean-villa-saint-joseph-preface-2018   \n",
       "800      closed          pierre-jean-villa-saint-joseph-tilde-2017   \n",
       "801      closed  pierre-jean-villa-croze-hermitage-accroche-coe...   \n",
       "802      closed                  pierre-jean-villa-igp-gamine-2018   \n",
       "803      closed          pierre-jean-villa-cote-rotie-carmina-2017   \n",
       "\n",
       "          post_modified   post_modified_gmt post_parent  \\\n",
       "799 2019-12-30 09:30:29 2019-12-30 08:30:29         0.0   \n",
       "800 2019-12-21 09:00:17 2019-12-21 08:00:17         0.0   \n",
       "801 2020-06-26 18:15:03 2020-06-26 16:15:03         0.0   \n",
       "802 2020-01-04 16:36:01 2020-01-04 15:36:01         0.0   \n",
       "803 2020-01-04 16:36:10 2020-01-04 15:36:10         0.0   \n",
       "\n",
       "                                                  guid menu_order   post_type  \\\n",
       "799  https://www.bottle-neck.fr/wp-content/uploads/...        0.0  attachment   \n",
       "800  https://www.bottle-neck.fr/wp-content/uploads/...        0.0  attachment   \n",
       "801  https://www.bottle-neck.fr/wp-content/uploads/...        0.0  attachment   \n",
       "802  https://www.bottle-neck.fr/wp-content/uploads/...        0.0  attachment   \n",
       "803  https://www.bottle-neck.fr/wp-content/uploads/...        0.0  attachment   \n",
       "\n",
       "     post_mime_type comment_count  \n",
       "799      image/jpeg           0.0  \n",
       "800      image/jpeg           0.0  \n",
       "801      image/jpeg           0.0  \n",
       "802      image/jpeg           0.0  \n",
       "803      image/jpeg           0.0  \n",
       "\n",
       "[5 rows x 24 columns]"
      ]
     },
     "execution_count": 23,
     "metadata": {},
     "output_type": "execute_result"
    }
   ],
   "source": [
    "# Visualisation des lignes avec des valeurs manquantes\n",
    "df_web.loc[df_web['tax_status'].isna(),:].head()"
   ]
  },
  {
   "cell_type": "code",
   "execution_count": 24,
   "id": "22a4abd6",
   "metadata": {},
   "outputs": [
    {
     "data": {
      "text/html": [
       "<div>\n",
       "<style scoped>\n",
       "    .dataframe tbody tr th:only-of-type {\n",
       "        vertical-align: middle;\n",
       "    }\n",
       "\n",
       "    .dataframe tbody tr th {\n",
       "        vertical-align: top;\n",
       "    }\n",
       "\n",
       "    .dataframe thead th {\n",
       "        text-align: right;\n",
       "    }\n",
       "</style>\n",
       "<table border=\"1\" class=\"dataframe\">\n",
       "  <thead>\n",
       "    <tr style=\"text-align: right;\">\n",
       "      <th></th>\n",
       "      <th>sku</th>\n",
       "      <th>virtual</th>\n",
       "      <th>downloadable</th>\n",
       "      <th>rating_count</th>\n",
       "      <th>average_rating</th>\n",
       "      <th>total_sales</th>\n",
       "      <th>tax_status</th>\n",
       "      <th>post_author</th>\n",
       "      <th>post_date</th>\n",
       "      <th>post_date_gmt</th>\n",
       "      <th>...</th>\n",
       "      <th>ping_status</th>\n",
       "      <th>post_name</th>\n",
       "      <th>post_modified</th>\n",
       "      <th>post_modified_gmt</th>\n",
       "      <th>post_parent</th>\n",
       "      <th>guid</th>\n",
       "      <th>menu_order</th>\n",
       "      <th>post_type</th>\n",
       "      <th>post_mime_type</th>\n",
       "      <th>comment_count</th>\n",
       "    </tr>\n",
       "  </thead>\n",
       "  <tbody>\n",
       "    <tr>\n",
       "      <th>799</th>\n",
       "      <td>15298</td>\n",
       "      <td>0</td>\n",
       "      <td>0</td>\n",
       "      <td>0</td>\n",
       "      <td>0.0</td>\n",
       "      <td>6.0</td>\n",
       "      <td>NaN</td>\n",
       "      <td>2.0</td>\n",
       "      <td>2018-02-08 12:58:52</td>\n",
       "      <td>2018-02-08 11:58:52</td>\n",
       "      <td>...</td>\n",
       "      <td>closed</td>\n",
       "      <td>pierre-jean-villa-saint-joseph-preface-2018</td>\n",
       "      <td>2019-12-30 09:30:29</td>\n",
       "      <td>2019-12-30 08:30:29</td>\n",
       "      <td>0.0</td>\n",
       "      <td>https://www.bottle-neck.fr/wp-content/uploads/...</td>\n",
       "      <td>0.0</td>\n",
       "      <td>attachment</td>\n",
       "      <td>image/jpeg</td>\n",
       "      <td>0.0</td>\n",
       "    </tr>\n",
       "    <tr>\n",
       "      <th>800</th>\n",
       "      <td>15296</td>\n",
       "      <td>0</td>\n",
       "      <td>0</td>\n",
       "      <td>0</td>\n",
       "      <td>0.0</td>\n",
       "      <td>0.0</td>\n",
       "      <td>NaN</td>\n",
       "      <td>2.0</td>\n",
       "      <td>2018-02-08 13:49:41</td>\n",
       "      <td>2018-02-08 12:49:41</td>\n",
       "      <td>...</td>\n",
       "      <td>closed</td>\n",
       "      <td>pierre-jean-villa-saint-joseph-tilde-2017</td>\n",
       "      <td>2019-12-21 09:00:17</td>\n",
       "      <td>2019-12-21 08:00:17</td>\n",
       "      <td>0.0</td>\n",
       "      <td>https://www.bottle-neck.fr/wp-content/uploads/...</td>\n",
       "      <td>0.0</td>\n",
       "      <td>attachment</td>\n",
       "      <td>image/jpeg</td>\n",
       "      <td>0.0</td>\n",
       "    </tr>\n",
       "    <tr>\n",
       "      <th>801</th>\n",
       "      <td>15300</td>\n",
       "      <td>0</td>\n",
       "      <td>0</td>\n",
       "      <td>0</td>\n",
       "      <td>0.0</td>\n",
       "      <td>0.0</td>\n",
       "      <td>NaN</td>\n",
       "      <td>2.0</td>\n",
       "      <td>2018-02-08 14:08:36</td>\n",
       "      <td>2018-02-08 13:08:36</td>\n",
       "      <td>...</td>\n",
       "      <td>closed</td>\n",
       "      <td>pierre-jean-villa-croze-hermitage-accroche-coe...</td>\n",
       "      <td>2020-06-26 18:15:03</td>\n",
       "      <td>2020-06-26 16:15:03</td>\n",
       "      <td>0.0</td>\n",
       "      <td>https://www.bottle-neck.fr/wp-content/uploads/...</td>\n",
       "      <td>0.0</td>\n",
       "      <td>attachment</td>\n",
       "      <td>image/jpeg</td>\n",
       "      <td>0.0</td>\n",
       "    </tr>\n",
       "    <tr>\n",
       "      <th>802</th>\n",
       "      <td>19814</td>\n",
       "      <td>0</td>\n",
       "      <td>0</td>\n",
       "      <td>0</td>\n",
       "      <td>0.0</td>\n",
       "      <td>3.0</td>\n",
       "      <td>NaN</td>\n",
       "      <td>2.0</td>\n",
       "      <td>2018-02-09 14:01:05</td>\n",
       "      <td>2018-02-09 13:01:05</td>\n",
       "      <td>...</td>\n",
       "      <td>closed</td>\n",
       "      <td>pierre-jean-villa-igp-gamine-2018</td>\n",
       "      <td>2020-01-04 16:36:01</td>\n",
       "      <td>2020-01-04 15:36:01</td>\n",
       "      <td>0.0</td>\n",
       "      <td>https://www.bottle-neck.fr/wp-content/uploads/...</td>\n",
       "      <td>0.0</td>\n",
       "      <td>attachment</td>\n",
       "      <td>image/jpeg</td>\n",
       "      <td>0.0</td>\n",
       "    </tr>\n",
       "    <tr>\n",
       "      <th>803</th>\n",
       "      <td>19815</td>\n",
       "      <td>0</td>\n",
       "      <td>0</td>\n",
       "      <td>0</td>\n",
       "      <td>0.0</td>\n",
       "      <td>0.0</td>\n",
       "      <td>NaN</td>\n",
       "      <td>2.0</td>\n",
       "      <td>2018-02-12 09:04:37</td>\n",
       "      <td>2018-02-12 08:04:37</td>\n",
       "      <td>...</td>\n",
       "      <td>closed</td>\n",
       "      <td>pierre-jean-villa-cote-rotie-carmina-2017</td>\n",
       "      <td>2020-01-04 16:36:10</td>\n",
       "      <td>2020-01-04 15:36:10</td>\n",
       "      <td>0.0</td>\n",
       "      <td>https://www.bottle-neck.fr/wp-content/uploads/...</td>\n",
       "      <td>0.0</td>\n",
       "      <td>attachment</td>\n",
       "      <td>image/jpeg</td>\n",
       "      <td>0.0</td>\n",
       "    </tr>\n",
       "  </tbody>\n",
       "</table>\n",
       "<p>5 rows × 24 columns</p>\n",
       "</div>"
      ],
      "text/plain": [
       "       sku  virtual  downloadable  rating_count  average_rating  total_sales  \\\n",
       "799  15298        0             0             0             0.0          6.0   \n",
       "800  15296        0             0             0             0.0          0.0   \n",
       "801  15300        0             0             0             0.0          0.0   \n",
       "802  19814        0             0             0             0.0          3.0   \n",
       "803  19815        0             0             0             0.0          0.0   \n",
       "\n",
       "    tax_status  post_author           post_date       post_date_gmt  ...  \\\n",
       "799        NaN          2.0 2018-02-08 12:58:52 2018-02-08 11:58:52  ...   \n",
       "800        NaN          2.0 2018-02-08 13:49:41 2018-02-08 12:49:41  ...   \n",
       "801        NaN          2.0 2018-02-08 14:08:36 2018-02-08 13:08:36  ...   \n",
       "802        NaN          2.0 2018-02-09 14:01:05 2018-02-09 13:01:05  ...   \n",
       "803        NaN          2.0 2018-02-12 09:04:37 2018-02-12 08:04:37  ...   \n",
       "\n",
       "    ping_status                                          post_name  \\\n",
       "799      closed        pierre-jean-villa-saint-joseph-preface-2018   \n",
       "800      closed          pierre-jean-villa-saint-joseph-tilde-2017   \n",
       "801      closed  pierre-jean-villa-croze-hermitage-accroche-coe...   \n",
       "802      closed                  pierre-jean-villa-igp-gamine-2018   \n",
       "803      closed          pierre-jean-villa-cote-rotie-carmina-2017   \n",
       "\n",
       "          post_modified   post_modified_gmt post_parent  \\\n",
       "799 2019-12-30 09:30:29 2019-12-30 08:30:29         0.0   \n",
       "800 2019-12-21 09:00:17 2019-12-21 08:00:17         0.0   \n",
       "801 2020-06-26 18:15:03 2020-06-26 16:15:03         0.0   \n",
       "802 2020-01-04 16:36:01 2020-01-04 15:36:01         0.0   \n",
       "803 2020-01-04 16:36:10 2020-01-04 15:36:10         0.0   \n",
       "\n",
       "                                                  guid menu_order   post_type  \\\n",
       "799  https://www.bottle-neck.fr/wp-content/uploads/...        0.0  attachment   \n",
       "800  https://www.bottle-neck.fr/wp-content/uploads/...        0.0  attachment   \n",
       "801  https://www.bottle-neck.fr/wp-content/uploads/...        0.0  attachment   \n",
       "802  https://www.bottle-neck.fr/wp-content/uploads/...        0.0  attachment   \n",
       "803  https://www.bottle-neck.fr/wp-content/uploads/...        0.0  attachment   \n",
       "\n",
       "     post_mime_type comment_count  \n",
       "799      image/jpeg           0.0  \n",
       "800      image/jpeg           0.0  \n",
       "801      image/jpeg           0.0  \n",
       "802      image/jpeg           0.0  \n",
       "803      image/jpeg           0.0  \n",
       "\n",
       "[5 rows x 24 columns]"
      ]
     },
     "execution_count": 24,
     "metadata": {},
     "output_type": "execute_result"
    }
   ],
   "source": [
    "# Visualisation des lignes avec des valeurs manquantes\n",
    "df_web.loc[df_web['post_excerpt'].isna(),:].head()"
   ]
  },
  {
   "cell_type": "code",
   "execution_count": 25,
   "id": "36fc0839",
   "metadata": {},
   "outputs": [
    {
     "data": {
      "text/html": [
       "<div>\n",
       "<style scoped>\n",
       "    .dataframe tbody tr th:only-of-type {\n",
       "        vertical-align: middle;\n",
       "    }\n",
       "\n",
       "    .dataframe tbody tr th {\n",
       "        vertical-align: top;\n",
       "    }\n",
       "\n",
       "    .dataframe thead th {\n",
       "        text-align: right;\n",
       "    }\n",
       "</style>\n",
       "<table border=\"1\" class=\"dataframe\">\n",
       "  <thead>\n",
       "    <tr style=\"text-align: right;\">\n",
       "      <th></th>\n",
       "      <th>sku</th>\n",
       "      <th>virtual</th>\n",
       "      <th>downloadable</th>\n",
       "      <th>rating_count</th>\n",
       "      <th>average_rating</th>\n",
       "      <th>total_sales</th>\n",
       "      <th>tax_status</th>\n",
       "      <th>post_author</th>\n",
       "      <th>post_date</th>\n",
       "      <th>post_date_gmt</th>\n",
       "      <th>...</th>\n",
       "      <th>ping_status</th>\n",
       "      <th>post_name</th>\n",
       "      <th>post_modified</th>\n",
       "      <th>post_modified_gmt</th>\n",
       "      <th>post_parent</th>\n",
       "      <th>guid</th>\n",
       "      <th>menu_order</th>\n",
       "      <th>post_type</th>\n",
       "      <th>post_mime_type</th>\n",
       "      <th>comment_count</th>\n",
       "    </tr>\n",
       "  </thead>\n",
       "  <tbody>\n",
       "    <tr>\n",
       "      <th>0</th>\n",
       "      <td>bon-cadeau-25-euros</td>\n",
       "      <td>0</td>\n",
       "      <td>0</td>\n",
       "      <td>0</td>\n",
       "      <td>0.0</td>\n",
       "      <td>10.0</td>\n",
       "      <td>taxable</td>\n",
       "      <td>1.0</td>\n",
       "      <td>2018-06-01 13:53:46</td>\n",
       "      <td>2018-06-01 11:53:46</td>\n",
       "      <td>...</td>\n",
       "      <td>closed</td>\n",
       "      <td>bon-cadeau-de-25-euros</td>\n",
       "      <td>2018-06-01 14:13:57</td>\n",
       "      <td>2018-06-01 12:13:57</td>\n",
       "      <td>0.0</td>\n",
       "      <td>https://www.bottle-neck.fr/?post_type=product&amp;...</td>\n",
       "      <td>0.0</td>\n",
       "      <td>product</td>\n",
       "      <td>NaN</td>\n",
       "      <td>0.0</td>\n",
       "    </tr>\n",
       "    <tr>\n",
       "      <th>1</th>\n",
       "      <td>15298</td>\n",
       "      <td>0</td>\n",
       "      <td>0</td>\n",
       "      <td>0</td>\n",
       "      <td>0.0</td>\n",
       "      <td>6.0</td>\n",
       "      <td>taxable</td>\n",
       "      <td>2.0</td>\n",
       "      <td>2018-02-08 12:58:52</td>\n",
       "      <td>2018-02-08 11:58:52</td>\n",
       "      <td>...</td>\n",
       "      <td>closed</td>\n",
       "      <td>pierre-jean-villa-saint-joseph-preface-2018</td>\n",
       "      <td>2019-12-30 09:30:29</td>\n",
       "      <td>2019-12-30 08:30:29</td>\n",
       "      <td>0.0</td>\n",
       "      <td>https://www.bottle-neck.fr/?post_type=product&amp;...</td>\n",
       "      <td>0.0</td>\n",
       "      <td>product</td>\n",
       "      <td>NaN</td>\n",
       "      <td>0.0</td>\n",
       "    </tr>\n",
       "    <tr>\n",
       "      <th>2</th>\n",
       "      <td>15296</td>\n",
       "      <td>0</td>\n",
       "      <td>0</td>\n",
       "      <td>0</td>\n",
       "      <td>0.0</td>\n",
       "      <td>0.0</td>\n",
       "      <td>taxable</td>\n",
       "      <td>2.0</td>\n",
       "      <td>2018-02-08 13:49:41</td>\n",
       "      <td>2018-02-08 12:49:41</td>\n",
       "      <td>...</td>\n",
       "      <td>closed</td>\n",
       "      <td>pierre-jean-villa-saint-joseph-tilde-2017</td>\n",
       "      <td>2019-12-21 09:00:17</td>\n",
       "      <td>2019-12-21 08:00:17</td>\n",
       "      <td>0.0</td>\n",
       "      <td>https://www.bottle-neck.fr/?post_type=product&amp;...</td>\n",
       "      <td>0.0</td>\n",
       "      <td>product</td>\n",
       "      <td>NaN</td>\n",
       "      <td>0.0</td>\n",
       "    </tr>\n",
       "    <tr>\n",
       "      <th>3</th>\n",
       "      <td>15300</td>\n",
       "      <td>0</td>\n",
       "      <td>0</td>\n",
       "      <td>0</td>\n",
       "      <td>0.0</td>\n",
       "      <td>0.0</td>\n",
       "      <td>taxable</td>\n",
       "      <td>2.0</td>\n",
       "      <td>2018-02-08 14:08:36</td>\n",
       "      <td>2018-02-08 13:08:36</td>\n",
       "      <td>...</td>\n",
       "      <td>closed</td>\n",
       "      <td>pierre-jean-villa-croze-hermitage-accroche-coe...</td>\n",
       "      <td>2020-06-26 18:15:03</td>\n",
       "      <td>2020-06-26 16:15:03</td>\n",
       "      <td>0.0</td>\n",
       "      <td>https://www.bottle-neck.fr/?post_type=product&amp;...</td>\n",
       "      <td>0.0</td>\n",
       "      <td>product</td>\n",
       "      <td>NaN</td>\n",
       "      <td>0.0</td>\n",
       "    </tr>\n",
       "    <tr>\n",
       "      <th>4</th>\n",
       "      <td>19814</td>\n",
       "      <td>0</td>\n",
       "      <td>0</td>\n",
       "      <td>0</td>\n",
       "      <td>0.0</td>\n",
       "      <td>3.0</td>\n",
       "      <td>taxable</td>\n",
       "      <td>2.0</td>\n",
       "      <td>2018-02-09 14:01:05</td>\n",
       "      <td>2018-02-09 13:01:05</td>\n",
       "      <td>...</td>\n",
       "      <td>closed</td>\n",
       "      <td>pierre-jean-villa-igp-gamine-2018</td>\n",
       "      <td>2020-01-04 16:36:01</td>\n",
       "      <td>2020-01-04 15:36:01</td>\n",
       "      <td>0.0</td>\n",
       "      <td>https://www.bottle-neck.fr/?post_type=product&amp;...</td>\n",
       "      <td>0.0</td>\n",
       "      <td>product</td>\n",
       "      <td>NaN</td>\n",
       "      <td>0.0</td>\n",
       "    </tr>\n",
       "  </tbody>\n",
       "</table>\n",
       "<p>5 rows × 24 columns</p>\n",
       "</div>"
      ],
      "text/plain": [
       "                   sku  virtual  downloadable  rating_count  average_rating  \\\n",
       "0  bon-cadeau-25-euros        0             0             0             0.0   \n",
       "1                15298        0             0             0             0.0   \n",
       "2                15296        0             0             0             0.0   \n",
       "3                15300        0             0             0             0.0   \n",
       "4                19814        0             0             0             0.0   \n",
       "\n",
       "   total_sales tax_status  post_author           post_date  \\\n",
       "0         10.0    taxable          1.0 2018-06-01 13:53:46   \n",
       "1          6.0    taxable          2.0 2018-02-08 12:58:52   \n",
       "2          0.0    taxable          2.0 2018-02-08 13:49:41   \n",
       "3          0.0    taxable          2.0 2018-02-08 14:08:36   \n",
       "4          3.0    taxable          2.0 2018-02-09 14:01:05   \n",
       "\n",
       "        post_date_gmt  ... ping_status  \\\n",
       "0 2018-06-01 11:53:46  ...      closed   \n",
       "1 2018-02-08 11:58:52  ...      closed   \n",
       "2 2018-02-08 12:49:41  ...      closed   \n",
       "3 2018-02-08 13:08:36  ...      closed   \n",
       "4 2018-02-09 13:01:05  ...      closed   \n",
       "\n",
       "                                           post_name       post_modified  \\\n",
       "0                             bon-cadeau-de-25-euros 2018-06-01 14:13:57   \n",
       "1        pierre-jean-villa-saint-joseph-preface-2018 2019-12-30 09:30:29   \n",
       "2          pierre-jean-villa-saint-joseph-tilde-2017 2019-12-21 09:00:17   \n",
       "3  pierre-jean-villa-croze-hermitage-accroche-coe... 2020-06-26 18:15:03   \n",
       "4                  pierre-jean-villa-igp-gamine-2018 2020-01-04 16:36:01   \n",
       "\n",
       "    post_modified_gmt post_parent  \\\n",
       "0 2018-06-01 12:13:57         0.0   \n",
       "1 2019-12-30 08:30:29         0.0   \n",
       "2 2019-12-21 08:00:17         0.0   \n",
       "3 2020-06-26 16:15:03         0.0   \n",
       "4 2020-01-04 15:36:01         0.0   \n",
       "\n",
       "                                                guid menu_order post_type  \\\n",
       "0  https://www.bottle-neck.fr/?post_type=product&...        0.0   product   \n",
       "1  https://www.bottle-neck.fr/?post_type=product&...        0.0   product   \n",
       "2  https://www.bottle-neck.fr/?post_type=product&...        0.0   product   \n",
       "3  https://www.bottle-neck.fr/?post_type=product&...        0.0   product   \n",
       "4  https://www.bottle-neck.fr/?post_type=product&...        0.0   product   \n",
       "\n",
       "   post_mime_type comment_count  \n",
       "0             NaN           0.0  \n",
       "1             NaN           0.0  \n",
       "2             NaN           0.0  \n",
       "3             NaN           0.0  \n",
       "4             NaN           0.0  \n",
       "\n",
       "[5 rows x 24 columns]"
      ]
     },
     "execution_count": 25,
     "metadata": {},
     "output_type": "execute_result"
    }
   ],
   "source": [
    "# Visualisation des lignes avec des valeurs manquantes\n",
    "df_web.loc[df_web['post_mime_type'].isna(),:].head()"
   ]
  },
  {
   "cell_type": "markdown",
   "id": "e2ef93e9",
   "metadata": {},
   "source": [
    "Nous observons qu'il y a **plusieurs lignes pour un 'sku'** : Exemple, sku = 15298, il y a une ligne 'post_type'= 'product' et une ligne 'post_type' = 'attachment'. \n",
    "\n",
    "Le df_web est l’export issu de la boutique en ligne contient le nombre de ventes pour chaque produit depuis sa mise en ligne. Il ne devrait contenir **qu'une seule ligne par produit**."
   ]
  },
  {
   "cell_type": "code",
   "execution_count": 26,
   "id": "9b6f0126",
   "metadata": {},
   "outputs": [
    {
     "data": {
      "text/plain": [
       "714"
      ]
     },
     "execution_count": 26,
     "metadata": {},
     "output_type": "execute_result"
    }
   ],
   "source": [
    "# Recherche des doublons de 'sku'\n",
    "df_web['sku'].duplicated().sum()"
   ]
  },
  {
   "cell_type": "markdown",
   "id": "41f1b6f3",
   "metadata": {},
   "source": [
    "Il y a bien 2 enregistrements par produit dans le data frame df_web. Recherchons du côté de la colonne 'post_type'."
   ]
  },
  {
   "cell_type": "code",
   "execution_count": 27,
   "id": "cc3d16dc",
   "metadata": {},
   "outputs": [
    {
     "name": "stdout",
     "output_type": "stream",
     "text": [
      "Effectif des modalités de la colonne 'post_type' :\n"
     ]
    },
    {
     "data": {
      "text/plain": [
       "product       714\n",
       "attachment    714\n",
       "Name: post_type, dtype: int64"
      ]
     },
     "execution_count": 27,
     "metadata": {},
     "output_type": "execute_result"
    }
   ],
   "source": [
    "# Nombre de valeurs pour chaque modalité de 'post_type'\n",
    "print(\"Effectif des modalités de la colonne 'post_type' :\")\n",
    "df_web['post_type'].value_counts()"
   ]
  },
  {
   "cell_type": "markdown",
   "id": "95fa238d",
   "metadata": {},
   "source": [
    "Pour l'étude, un filtrage sera réalisé sur 'product' (lignes où il y a le moins de valeurs manquantes)."
   ]
  },
  {
   "cell_type": "code",
   "execution_count": 28,
   "id": "b731854c",
   "metadata": {
    "scrolled": true
   },
   "outputs": [],
   "source": [
    "# Filtrage sur 'product' \n",
    "df_product=df_web.loc[df_web['post_type']=='product',:]"
   ]
  },
  {
   "cell_type": "code",
   "execution_count": 29,
   "id": "6b2924fc",
   "metadata": {},
   "outputs": [
    {
     "data": {
      "text/plain": [
       "post_mime_type    714\n",
       "dtype: int64"
      ]
     },
     "execution_count": 29,
     "metadata": {},
     "output_type": "execute_result"
    }
   ],
   "source": [
    "#valeurs manquantes sur l'échantillon restant\n",
    "nb_na=df_product.isna().sum()\n",
    "nb_na.loc[nb_na>0]"
   ]
  },
  {
   "cell_type": "markdown",
   "id": "73e156cf",
   "metadata": {},
   "source": [
    "La colonne 'post_mine_type' ne contient maintenant que des valeurs NaN : elle n'est pas à retenir."
   ]
  },
  {
   "cell_type": "code",
   "execution_count": 30,
   "id": "81c343ed",
   "metadata": {
    "scrolled": false
   },
   "outputs": [
    {
     "name": "stdout",
     "output_type": "stream",
     "text": [
      "Après traitement des valeurs manquantes, nous obtenons un data frame de dimensions :  (714, 23)\n"
     ]
    }
   ],
   "source": [
    "#Sélection des colonnes non vides\n",
    "del df_product['post_mime_type']\n",
    "\n",
    "print(\"Après traitement des valeurs manquantes, nous obtenons un data frame de dimensions : \",df_product.shape)"
   ]
  },
  {
   "cell_type": "markdown",
   "id": "d68af38f",
   "metadata": {},
   "source": [
    "#### c. Data frame 'liaison'<a class=\"anchor\" id=\"2_2_3\"></a>"
   ]
  },
  {
   "cell_type": "code",
   "execution_count": 31,
   "id": "42447b78",
   "metadata": {
    "scrolled": false
   },
   "outputs": [
    {
     "data": {
      "text/plain": [
       "product_id     0\n",
       "id_web        91\n",
       "dtype: int64"
      ]
     },
     "execution_count": 31,
     "metadata": {},
     "output_type": "execute_result"
    }
   ],
   "source": [
    "# affichage du nombre de valeurs manquantes pour chaque colonne\n",
    "df_liaison.isna().sum()"
   ]
  },
  {
   "cell_type": "markdown",
   "id": "55e2ef82",
   "metadata": {},
   "source": [
    "Il y a <font color='red'>91 produits</font> de l'erp sans correspondance 'id_web' / 'sku' dans la boutique en ligne.\n",
    "\n",
    "Nous allons explorer plus en détails le contenu du df liaison :  \n",
    "- vérifier que la liste des product_id est bien exhaustive par rapport au df erp \n",
    "- faire de même entre df liaison et df web pour le sku"
   ]
  },
  {
   "cell_type": "markdown",
   "id": "b69cb063",
   "metadata": {},
   "source": [
    "##### Product_id : Compararaison 'erp' et 'liaison'\n",
    "\n",
    "Il y a 825 valeurs non nulls pour 'product_id' dans les df 'erp' et 825 dans le df 'liaison'. Nous allons vérifier si ces valeurs sont identiques."
   ]
  },
  {
   "cell_type": "code",
   "execution_count": 32,
   "id": "dd842a46",
   "metadata": {},
   "outputs": [
    {
     "name": "stdout",
     "output_type": "stream",
     "text": [
      "Il y a 0  lignes de la colonne 'product_id' du df 'liaison' non présentes dans le df 'erp'.\n"
     ]
    }
   ],
   "source": [
    "#Création d'une liste avec les 'product_id' du df 'erp'\n",
    "product_id=df_erp.groupby(['product_id']).sum().index\n",
    "\n",
    "#Comparaison des données 'product_id' du df 'liaison' avec la liste des 'product_id' du df 'erp'\n",
    "print('Il y a', df_liaison.loc[~df_liaison['product_id'].isin(product_id),:].shape[0],\" lignes de la colonne 'product_id' du df 'liaison' non présentes dans le df 'erp'.\")\n"
   ]
  },
  {
   "cell_type": "markdown",
   "id": "e36aea71",
   "metadata": {},
   "source": [
    "##### Sku / id_web : Compararaison 'web' et 'liaison'"
   ]
  },
  {
   "cell_type": "code",
   "execution_count": 33,
   "id": "1701e5f8",
   "metadata": {},
   "outputs": [
    {
     "name": "stdout",
     "output_type": "stream",
     "text": [
      "Il y a 734 'id_web' non nulls dans le df 'liaison' et 714 'sku' dans le df 'product'.\n"
     ]
    }
   ],
   "source": [
    "print(\"Il y a\",df_liaison.groupby('id_web')['id_web'].count().shape[0],\"'id_web' non nulls dans le df 'liaison' et\", df_product.groupby('sku')['sku'].count().shape[0],\"'sku' dans le df 'product'.\")"
   ]
  },
  {
   "cell_type": "code",
   "execution_count": 34,
   "id": "d5f5b1b0",
   "metadata": {
    "scrolled": false
   },
   "outputs": [
    {
     "name": "stdout",
     "output_type": "stream",
     "text": [
      "Il y a  111 lignes du df 'liaison' qui ne sont pas présentes dans le df 'product' dont: \n",
      "-  20  valeurs non NaN\n",
      "-  91  valeurs NaN\n"
     ]
    }
   ],
   "source": [
    "#Création d'une liste avec les 'sku' du fichier 'web'\n",
    "sku=df_product.groupby(['sku']).sum().index\n",
    "\n",
    "#Comparaison des données 'product_id' du df 'liaison' avec la liste des 'product_id' du df 'erp'\n",
    "print('Il y a ',df_liaison.loc[~df_liaison['id_web'].isin(sku),:].shape[0],\"lignes du df 'liaison' qui ne sont pas présentes dans le df 'product' dont: \")\n",
    "print('- ',df_liaison.loc[(~df_liaison['id_web'].isin(sku))&(~df_liaison['id_web'].isna()),:].shape[0],' valeurs non NaN')\n",
    "print('- ',df_liaison.loc[(~df_liaison['id_web'].isin(sku))&(df_liaison['id_web'].isna()),:].shape[0],' valeurs NaN')"
   ]
  },
  {
   "cell_type": "markdown",
   "id": "87561105",
   "metadata": {},
   "source": [
    "Nous retrouvons les 91 valeurs manquantes d''id_web' et 20 autres valeurs non nulls.\n",
    "Une explication possible est que ces 20 produits ne soient pas en vente en ligne (valeur 0 dans la colonne 'Onsale_web' du fichier erp)."
   ]
  },
  {
   "cell_type": "code",
   "execution_count": 35,
   "id": "c6fb119b",
   "metadata": {
    "scrolled": true
   },
   "outputs": [
    {
     "name": "stdout",
     "output_type": "stream",
     "text": [
      "Il y a 108 qui ne sont pas vendus en ligne.\n"
     ]
    }
   ],
   "source": [
    "#Création d'une liste avec les identifiants des produits qui ne sont pas en vente en ligne\n",
    "not_onsalesweb=df_erp.loc[df_erp['onsale_web']==0,'product_id'].to_list()\n",
    "print(\"Il y a\", len(not_onsalesweb), \"qui ne sont pas vendus en ligne.\")"
   ]
  },
  {
   "cell_type": "code",
   "execution_count": 36,
   "id": "657fa9c7",
   "metadata": {
    "scrolled": false
   },
   "outputs": [
    {
     "name": "stdout",
     "output_type": "stream",
     "text": [
      "Les 20  identifiants produits sku qui sont listés dans le df liaison et non présents dans le df web, ne sont pas indiqués comme 'en vente en ligne' dans le df erp.\n"
     ]
    }
   ],
   "source": [
    "#Filtrage sur les produits qui ne sont pas dans le df 'web' et qui ne sont pas 'NaN'\n",
    "sku_notin=df_liaison.loc[(~df_liaison['id_web'].isin(sku))&(~df_liaison['id_web'].isna()),'product_id'].reset_index()\n",
    "\n",
    "#Comparaison avec la liste des produits du df 'erp' qui ne sont pas en vente en ligne\n",
    "print(\"Les\",sku_notin.loc[sku_notin['product_id'].isin(not_onsalesweb),:].shape[0],\" identifiants produits sku qui sont listés dans le df liaison et non présents dans le df web, ne sont pas indiqués comme 'en vente en ligne' dans le df erp.\")"
   ]
  },
  {
   "cell_type": "markdown",
   "id": "0c20e146",
   "metadata": {},
   "source": [
    "##### Conclusion \n",
    "\n",
    "- La liste des product_id est bien exhaustive dans le df liaison\n",
    "- Il y a 111 produits pour lesquels il n'y a pas de ventes en ligne dont :\n",
    "    - 108 qui sont identifiés comme 'pas en vente en ligne'\n",
    "    - <font color='red'>3 qui sont identifiés comme 'en vente en ligne' dans l'ERP mais non présents sur la boutique en ligne</font>\n",
    "-  Il y a 91 id_web / sku manquants dans le df liaison"
   ]
  },
  {
   "cell_type": "markdown",
   "id": "c3c95924",
   "metadata": {},
   "source": [
    "### 3. Doublons <a class=\"anchor\" id=\"2_3\"></a>\n",
    "\n",
    "L'objectif est d'identifier les éventuels doublons et de les traiter."
   ]
  },
  {
   "cell_type": "code",
   "execution_count": 37,
   "id": "5ddf4463",
   "metadata": {
    "scrolled": true
   },
   "outputs": [
    {
     "data": {
      "text/plain": [
       "0"
      ]
     },
     "execution_count": 37,
     "metadata": {},
     "output_type": "execute_result"
    }
   ],
   "source": [
    "df_erp.duplicated().sum()"
   ]
  },
  {
   "cell_type": "code",
   "execution_count": 38,
   "id": "23fb6bea",
   "metadata": {
    "scrolled": true
   },
   "outputs": [
    {
     "data": {
      "text/plain": [
       "0"
      ]
     },
     "execution_count": 38,
     "metadata": {},
     "output_type": "execute_result"
    }
   ],
   "source": [
    "df_product.duplicated().sum()"
   ]
  },
  {
   "cell_type": "code",
   "execution_count": 39,
   "id": "0741ff11",
   "metadata": {
    "scrolled": true
   },
   "outputs": [
    {
     "data": {
      "text/plain": [
       "0"
      ]
     },
     "execution_count": 39,
     "metadata": {},
     "output_type": "execute_result"
    }
   ],
   "source": [
    "df_liaison.duplicated().sum()"
   ]
  },
  {
   "cell_type": "markdown",
   "id": "9314add8",
   "metadata": {},
   "source": [
    "Il n'y a pas de doublons dans les 3 data frames après nettoyage.\n",
    "Nota : les doublons de 'sku' ont été traités à l'étape précédente."
   ]
  },
  {
   "cell_type": "markdown",
   "id": "8d3b2ade",
   "metadata": {},
   "source": [
    "### 4. Changement nom colonne 'id_web' en 'sku' dans le df 'liaison'  <a class=\"anchor\" id=\"2_4\"></a>\n",
    "\n",
    "La colonne 'id_web' du df 'liaison' est renommé 'sku' pour une meilleure compréhension."
   ]
  },
  {
   "cell_type": "code",
   "execution_count": 40,
   "id": "7f4b31eb",
   "metadata": {},
   "outputs": [
    {
     "data": {
      "text/html": [
       "<div>\n",
       "<style scoped>\n",
       "    .dataframe tbody tr th:only-of-type {\n",
       "        vertical-align: middle;\n",
       "    }\n",
       "\n",
       "    .dataframe tbody tr th {\n",
       "        vertical-align: top;\n",
       "    }\n",
       "\n",
       "    .dataframe thead th {\n",
       "        text-align: right;\n",
       "    }\n",
       "</style>\n",
       "<table border=\"1\" class=\"dataframe\">\n",
       "  <thead>\n",
       "    <tr style=\"text-align: right;\">\n",
       "      <th></th>\n",
       "      <th>product_id</th>\n",
       "      <th>sku</th>\n",
       "    </tr>\n",
       "  </thead>\n",
       "  <tbody>\n",
       "    <tr>\n",
       "      <th>0</th>\n",
       "      <td>3847</td>\n",
       "      <td>15298</td>\n",
       "    </tr>\n",
       "    <tr>\n",
       "      <th>1</th>\n",
       "      <td>3849</td>\n",
       "      <td>15296</td>\n",
       "    </tr>\n",
       "    <tr>\n",
       "      <th>2</th>\n",
       "      <td>3850</td>\n",
       "      <td>15300</td>\n",
       "    </tr>\n",
       "    <tr>\n",
       "      <th>3</th>\n",
       "      <td>4032</td>\n",
       "      <td>19814</td>\n",
       "    </tr>\n",
       "    <tr>\n",
       "      <th>4</th>\n",
       "      <td>4039</td>\n",
       "      <td>19815</td>\n",
       "    </tr>\n",
       "  </tbody>\n",
       "</table>\n",
       "</div>"
      ],
      "text/plain": [
       "   product_id    sku\n",
       "0        3847  15298\n",
       "1        3849  15296\n",
       "2        3850  15300\n",
       "3        4032  19814\n",
       "4        4039  19815"
      ]
     },
     "execution_count": 40,
     "metadata": {},
     "output_type": "execute_result"
    }
   ],
   "source": [
    "#changement du nom de la colonne 'id_web'\n",
    "df_liaison.rename(columns={'id_web': 'sku'},inplace=True)\n",
    "df_liaison.head()"
   ]
  },
  {
   "cell_type": "markdown",
   "id": "c5971342",
   "metadata": {},
   "source": [
    "## <font color='blue'>*Partie 3 - Analyse des données*<a class=\"anchor\" id=\"partie3\"></a></font>\n",
    "\n",
    "La partie 3 présente les résultats des analyses  suivantes : \n",
    "\n",
    "- Rapprochement des exports de l'ERP, fichier 'erp.xlsx' et de la boutique en ligne 'web.xlsx' en utilisant le fichier 'liaison.xlsx'\n",
    "- Chiffre d’affaires par produit, ainsi que le total du chiffre d’affaires réalisé en ligne\n",
    "- Erreurs de saisie de certains prix des produits: effectuer une analyse sur cette variable afin de détecter d’éventuelles valeurs aberrantes, de les lister et d’en faire une représentation graphique pour plus de lisibilité."
   ]
  },
  {
   "cell_type": "markdown",
   "id": "e81aa6f8",
   "metadata": {},
   "source": [
    "### 1. Jointure entre les exports de l'ERP et du CMS en utilisant le fichier 'liaison'<a class=\"anchor\" id=\"3_1\"></a>\n",
    "\n",
    "Le rapprochement des exports de l'ERP, fichier 'erp.xlsx' et de la boutique en ligne 'web.xlsx' en utilisant le fichier 'liaison.xlsx' sera réalisé par jointure.\n",
    "\n",
    "La démarche est la suivante :\n",
    "1. Df_int : jointure entre le df 'erp' et le df 'liaison' : \n",
    "    - data frames : 'df_erp' et 'df_liaison', le df 'erp' contient le plus de produits.\n",
    "    - type de jointure externe \n",
    "    - clé : 'product_id'\n",
    "2. Df_final : jointure entre le df intermédiaire et le df 'product'\n",
    "    - data frames : df_int et df_product\n",
    "    - type de jointure: externe \n",
    "    - clé : 'sku'\n",
    "    "
   ]
  },
  {
   "cell_type": "markdown",
   "id": "23d1c618",
   "metadata": {},
   "source": [
    "#### a. Vérification de l'unicité des clés primaires pour les jointures <a class=\"anchor\" id=\"3_1_1\"></a>"
   ]
  },
  {
   "cell_type": "markdown",
   "id": "28d2ba85",
   "metadata": {},
   "source": [
    "Avant de réaliser les jointures, nous réalisons un test pour vérifier l'unicité des clés primaires dans les différents fichiers."
   ]
  },
  {
   "cell_type": "code",
   "execution_count": 41,
   "id": "c7a3d509",
   "metadata": {},
   "outputs": [
    {
     "name": "stdout",
     "output_type": "stream",
     "text": [
      "Il y a 825 identifiants 'product_id' uniques sur 825\n"
     ]
    }
   ],
   "source": [
    "print(\"Il y a\",df_erp['product_id'].unique().shape[0],\"identifiants 'product_id' uniques sur\",df_erp['product_id'].count())"
   ]
  },
  {
   "cell_type": "code",
   "execution_count": 42,
   "id": "3a535385",
   "metadata": {},
   "outputs": [
    {
     "name": "stdout",
     "output_type": "stream",
     "text": [
      "Il y a 825 identifiants 'product_id' uniques sur 825\n"
     ]
    }
   ],
   "source": [
    "print(\"Il y a\",df_liaison['product_id'].unique().shape[0],\"identifiants 'product_id' uniques sur\",df_liaison['product_id'].count())"
   ]
  },
  {
   "cell_type": "code",
   "execution_count": 43,
   "id": "dd8b65be",
   "metadata": {},
   "outputs": [
    {
     "name": "stdout",
     "output_type": "stream",
     "text": [
      "Il y a 735 identifiants sku uniques sur 734\n"
     ]
    }
   ],
   "source": [
    "print(\"Il y a\",df_liaison['sku'].unique().shape[0],\"identifiants sku uniques sur\",df_liaison['sku'].count())"
   ]
  },
  {
   "cell_type": "markdown",
   "id": "9c9b7c65",
   "metadata": {},
   "source": [
    "Nota : NaN fait partie des valeurs de sku pour le df_liaison, d'où les 735 valeurs."
   ]
  },
  {
   "cell_type": "code",
   "execution_count": 44,
   "id": "1fb5b111",
   "metadata": {
    "scrolled": false
   },
   "outputs": [
    {
     "name": "stdout",
     "output_type": "stream",
     "text": [
      "Il y a 714 identifiants sku uniques sur 714\n"
     ]
    }
   ],
   "source": [
    "print(\"Il y a\",df_product['sku'].unique().shape[0],\"identifiants sku uniques sur\",df_product['sku'].count())"
   ]
  },
  {
   "cell_type": "markdown",
   "id": "9002de38",
   "metadata": {},
   "source": [
    "#### b. Jointure entre les df 'erp' et 'liaison' <a class=\"anchor\" id=\"3_1_2\"></a>"
   ]
  },
  {
   "cell_type": "code",
   "execution_count": 45,
   "id": "ef2d3ae8",
   "metadata": {
    "scrolled": false
   },
   "outputs": [
    {
     "name": "stdout",
     "output_type": "stream",
     "text": [
      "\n",
      "Les dimensions du data frame obtenu après jointure des df erp et liaisons sont (825, 7)\n"
     ]
    }
   ],
   "source": [
    "# jointure entre les df 'erp' et 'liaison', df intermédiaire \n",
    "df_int=pd.merge(df_erp,df_liaison,on='product_id',how='outer',indicator=True)\n",
    "\n",
    "# dimension du df après jointure\n",
    "print(\"\")\n",
    "print(\"Les dimensions du data frame obtenu après jointure des df erp et liaisons sont \"+str(df_int.shape))"
   ]
  },
  {
   "cell_type": "markdown",
   "id": "7d809437",
   "metadata": {},
   "source": [
    "- 825 lignes = nombre de lignes du df_erp\n",
    "\n",
    "- 7 colonnes = (5 colonnes de 'erp' +  1 colonne de 'liaison' (sku) + colonne indicator)"
   ]
  },
  {
   "cell_type": "code",
   "execution_count": 46,
   "id": "0b378c2c",
   "metadata": {
    "scrolled": false
   },
   "outputs": [
    {
     "data": {
      "text/html": [
       "<div>\n",
       "<style scoped>\n",
       "    .dataframe tbody tr th:only-of-type {\n",
       "        vertical-align: middle;\n",
       "    }\n",
       "\n",
       "    .dataframe tbody tr th {\n",
       "        vertical-align: top;\n",
       "    }\n",
       "\n",
       "    .dataframe thead th {\n",
       "        text-align: right;\n",
       "    }\n",
       "</style>\n",
       "<table border=\"1\" class=\"dataframe\">\n",
       "  <thead>\n",
       "    <tr style=\"text-align: right;\">\n",
       "      <th></th>\n",
       "      <th>product_id</th>\n",
       "      <th>onsale_web</th>\n",
       "      <th>price</th>\n",
       "      <th>stock_quantity</th>\n",
       "      <th>stock_status</th>\n",
       "      <th>sku</th>\n",
       "      <th>_merge</th>\n",
       "    </tr>\n",
       "  </thead>\n",
       "  <tbody>\n",
       "    <tr>\n",
       "      <th>0</th>\n",
       "      <td>3847</td>\n",
       "      <td>1</td>\n",
       "      <td>24.2</td>\n",
       "      <td>0</td>\n",
       "      <td>outofstock</td>\n",
       "      <td>15298</td>\n",
       "      <td>both</td>\n",
       "    </tr>\n",
       "    <tr>\n",
       "      <th>1</th>\n",
       "      <td>3849</td>\n",
       "      <td>1</td>\n",
       "      <td>34.3</td>\n",
       "      <td>0</td>\n",
       "      <td>outofstock</td>\n",
       "      <td>15296</td>\n",
       "      <td>both</td>\n",
       "    </tr>\n",
       "    <tr>\n",
       "      <th>2</th>\n",
       "      <td>3850</td>\n",
       "      <td>1</td>\n",
       "      <td>20.8</td>\n",
       "      <td>0</td>\n",
       "      <td>outofstock</td>\n",
       "      <td>15300</td>\n",
       "      <td>both</td>\n",
       "    </tr>\n",
       "    <tr>\n",
       "      <th>3</th>\n",
       "      <td>4032</td>\n",
       "      <td>1</td>\n",
       "      <td>14.1</td>\n",
       "      <td>0</td>\n",
       "      <td>outofstock</td>\n",
       "      <td>19814</td>\n",
       "      <td>both</td>\n",
       "    </tr>\n",
       "    <tr>\n",
       "      <th>4</th>\n",
       "      <td>4039</td>\n",
       "      <td>1</td>\n",
       "      <td>46.0</td>\n",
       "      <td>0</td>\n",
       "      <td>outofstock</td>\n",
       "      <td>19815</td>\n",
       "      <td>both</td>\n",
       "    </tr>\n",
       "  </tbody>\n",
       "</table>\n",
       "</div>"
      ],
      "text/plain": [
       "   product_id  onsale_web  price  stock_quantity stock_status    sku _merge\n",
       "0        3847           1   24.2               0   outofstock  15298   both\n",
       "1        3849           1   34.3               0   outofstock  15296   both\n",
       "2        3850           1   20.8               0   outofstock  15300   both\n",
       "3        4032           1   14.1               0   outofstock  19814   both\n",
       "4        4039           1   46.0               0   outofstock  19815   both"
      ]
     },
     "execution_count": 46,
     "metadata": {},
     "output_type": "execute_result"
    }
   ],
   "source": [
    "# Aperçu du df\n",
    "df_int.head()"
   ]
  },
  {
   "cell_type": "markdown",
   "id": "11cc7a86",
   "metadata": {},
   "source": [
    "##### Analyse de la jointure avec la colonne _merge (argument indicator de la methode .merge)"
   ]
  },
  {
   "cell_type": "code",
   "execution_count": 47,
   "id": "0baee2a1",
   "metadata": {},
   "outputs": [
    {
     "name": "stdout",
     "output_type": "stream",
     "text": [
      "Il y a 0 lignes qui ne sont pas dans les df erp ET liaison.\n"
     ]
    }
   ],
   "source": [
    "#Filtrage sur les valeurs de la colonne '_merge' qui sont différentes de 'both'\n",
    "print(\"Il y a \"+str(df_int.loc[df_int['_merge']!='both',:].shape[0])+\" lignes qui ne sont pas dans les df erp ET liaison.\")"
   ]
  },
  {
   "cell_type": "markdown",
   "id": "c83137e1",
   "metadata": {},
   "source": [
    "#### c. Jointure entre les df 'erp/liaison' et 'product' <a class=\"anchor\" id=\"3_1_3\"></a>"
   ]
  },
  {
   "cell_type": "code",
   "execution_count": 48,
   "id": "b10d6242",
   "metadata": {},
   "outputs": [
    {
     "name": "stdout",
     "output_type": "stream",
     "text": [
      "\n",
      "Les dimensions du data frame obtenu après jointure des df int et product sont (825, 29)\n"
     ]
    }
   ],
   "source": [
    "#Suppression de la colonne '_merge' de la précédente jointure\n",
    "df_int.pop('_merge')\n",
    "\n",
    "#jointure entre les df 'ventes' et 'web'\n",
    "df_final=pd.merge(df_int,df_product,on='sku',how='outer',indicator=True)\n",
    "\n",
    "# dimension du df après jointure\n",
    "print(\"\")\n",
    "print(\"Les dimensions du data frame obtenu après jointure des df int et product sont \"+str(df_final.shape))"
   ]
  },
  {
   "cell_type": "markdown",
   "id": "104d4f0b",
   "metadata": {},
   "source": [
    "- 825 lignes = 825 lignes du df_int\n",
    "\n",
    "- 29 colonnes = (7 colonnes du df_int - colonne '_merge') + (23 colonnes du df 'web' - colonne 'sku' déjà présente) + colonne '_merge'"
   ]
  },
  {
   "cell_type": "markdown",
   "id": "73cecf3d",
   "metadata": {},
   "source": [
    "##### Analyse de la jointure avec la colonne _merge (argument indicator de la methode .merge)"
   ]
  },
  {
   "cell_type": "code",
   "execution_count": 49,
   "id": "7e65509c",
   "metadata": {
    "scrolled": false
   },
   "outputs": [
    {
     "name": "stdout",
     "output_type": "stream",
     "text": [
      "Il y a 111 lignes qui ne sont pas dans les df_int ET product.\n"
     ]
    }
   ],
   "source": [
    "#Filtrage sur les valeurs de la colonne '_merge' qui sont différentes de 'both'\n",
    "print(\"Il y a \"+str(df_final.loc[df_final['_merge']!='both',:].shape[0])+\" lignes qui ne sont pas dans les df_int ET product.\")"
   ]
  },
  {
   "cell_type": "code",
   "execution_count": 50,
   "id": "b27380a9",
   "metadata": {},
   "outputs": [
    {
     "name": "stdout",
     "output_type": "stream",
     "text": [
      "Il y a 111 lignes qui sont uniquement dans le df_int.\n",
      "Il y a 0 lignes qui sont uniquement dans le df_product.\n"
     ]
    }
   ],
   "source": [
    "#Filtrage sur les valeurs de la colonne '_merge' qui égalent à \"left_only\" : provenant de 'erp/liaison'\n",
    "print(\"Il y a \"+str(df_final.loc[df_final['_merge']=='left_only',:].shape[0])+\" lignes qui sont uniquement dans le df_int.\")\n",
    "\n",
    "#Filtrage sur les valeurs de la colonne '_merge' qui égalent à \"right_only\" : provenant de 'web'\n",
    "print(\"Il y a \"+str(df_final.loc[df_final['_merge']=='right_only',:].shape[0])+\" lignes qui sont uniquement dans le df_product.\")"
   ]
  },
  {
   "cell_type": "markdown",
   "id": "394cce76",
   "metadata": {},
   "source": [
    "On retrouve ici les 111 produits présents uniquement dans le df_int.\n",
    "Pour l'analyse, ces 111 produits ne seront pas retenus dans le data frame : il n'y a pas de données de ventes."
   ]
  },
  {
   "cell_type": "markdown",
   "id": "1981ee79",
   "metadata": {},
   "source": [
    "##### Nettoyage du df final"
   ]
  },
  {
   "cell_type": "code",
   "execution_count": 51,
   "id": "281d5953",
   "metadata": {},
   "outputs": [
    {
     "name": "stdout",
     "output_type": "stream",
     "text": [
      "Le data frame final a pour dimension (714, 28)\n"
     ]
    }
   ],
   "source": [
    "#Suppression des valeurs qui ne sont pas dans les 2 df\n",
    "df_final=df_final.loc[df_final['_merge']=='both']\n",
    "\n",
    "#Suppression de la colonne '_merge' \n",
    "df_final.pop('_merge')\n",
    "\n",
    "print(\"Le data frame final a pour dimension\",df_final.shape)"
   ]
  },
  {
   "cell_type": "markdown",
   "id": "8dd25137",
   "metadata": {},
   "source": [
    "### 2. Chiffres d'affaires par produit et chiffre d'affaire global réalisé en ligne<a class=\"anchor\" id=\"3_2\"></a>"
   ]
  },
  {
   "cell_type": "markdown",
   "id": "e00ae569",
   "metadata": {},
   "source": [
    "#### a. Chiffres d'affaires par produit<a class=\"anchor\" id=\"3_2_1\"></a>"
   ]
  },
  {
   "cell_type": "markdown",
   "id": "73f5f038",
   "metadata": {},
   "source": [
    "##### Data frame avec le chiffre d'affaires par produit"
   ]
  },
  {
   "cell_type": "code",
   "execution_count": 52,
   "id": "c8d4440c",
   "metadata": {},
   "outputs": [
    {
     "data": {
      "text/html": [
       "<div>\n",
       "<style scoped>\n",
       "    .dataframe tbody tr th:only-of-type {\n",
       "        vertical-align: middle;\n",
       "    }\n",
       "\n",
       "    .dataframe tbody tr th {\n",
       "        vertical-align: top;\n",
       "    }\n",
       "\n",
       "    .dataframe thead th {\n",
       "        text-align: right;\n",
       "    }\n",
       "</style>\n",
       "<table border=\"1\" class=\"dataframe\">\n",
       "  <thead>\n",
       "    <tr style=\"text-align: right;\">\n",
       "      <th></th>\n",
       "      <th>product_id</th>\n",
       "      <th>sku</th>\n",
       "      <th>price</th>\n",
       "      <th>total_sales</th>\n",
       "      <th>chiffre_affaires</th>\n",
       "    </tr>\n",
       "  </thead>\n",
       "  <tbody>\n",
       "    <tr>\n",
       "      <th>286</th>\n",
       "      <td>4334</td>\n",
       "      <td>7818</td>\n",
       "      <td>49.0</td>\n",
       "      <td>96.0</td>\n",
       "      <td>4704.0</td>\n",
       "    </tr>\n",
       "    <tr>\n",
       "      <th>162</th>\n",
       "      <td>4144</td>\n",
       "      <td>1662</td>\n",
       "      <td>49.0</td>\n",
       "      <td>87.0</td>\n",
       "      <td>4263.0</td>\n",
       "    </tr>\n",
       "    <tr>\n",
       "      <th>310</th>\n",
       "      <td>4402</td>\n",
       "      <td>3510</td>\n",
       "      <td>176.0</td>\n",
       "      <td>13.0</td>\n",
       "      <td>2288.0</td>\n",
       "    </tr>\n",
       "    <tr>\n",
       "      <th>161</th>\n",
       "      <td>4142</td>\n",
       "      <td>11641</td>\n",
       "      <td>53.0</td>\n",
       "      <td>30.0</td>\n",
       "      <td>1590.0</td>\n",
       "    </tr>\n",
       "    <tr>\n",
       "      <th>160</th>\n",
       "      <td>4141</td>\n",
       "      <td>304</td>\n",
       "      <td>39.0</td>\n",
       "      <td>40.0</td>\n",
       "      <td>1560.0</td>\n",
       "    </tr>\n",
       "    <tr>\n",
       "      <th>293</th>\n",
       "      <td>4355</td>\n",
       "      <td>12589</td>\n",
       "      <td>126.5</td>\n",
       "      <td>11.0</td>\n",
       "      <td>1391.5</td>\n",
       "    </tr>\n",
       "    <tr>\n",
       "      <th>291</th>\n",
       "      <td>4352</td>\n",
       "      <td>15940</td>\n",
       "      <td>225.0</td>\n",
       "      <td>5.0</td>\n",
       "      <td>1125.0</td>\n",
       "    </tr>\n",
       "    <tr>\n",
       "      <th>170</th>\n",
       "      <td>4153</td>\n",
       "      <td>16237</td>\n",
       "      <td>29.0</td>\n",
       "      <td>36.0</td>\n",
       "      <td>1044.0</td>\n",
       "    </tr>\n",
       "    <tr>\n",
       "      <th>761</th>\n",
       "      <td>6206</td>\n",
       "      <td>16580</td>\n",
       "      <td>25.2</td>\n",
       "      <td>41.0</td>\n",
       "      <td>1033.2</td>\n",
       "    </tr>\n",
       "    <tr>\n",
       "      <th>121</th>\n",
       "      <td>4068</td>\n",
       "      <td>16416</td>\n",
       "      <td>16.6</td>\n",
       "      <td>62.0</td>\n",
       "      <td>1029.2</td>\n",
       "    </tr>\n",
       "  </tbody>\n",
       "</table>\n",
       "</div>"
      ],
      "text/plain": [
       "     product_id    sku  price  total_sales  chiffre_affaires\n",
       "286        4334   7818   49.0         96.0            4704.0\n",
       "162        4144   1662   49.0         87.0            4263.0\n",
       "310        4402   3510  176.0         13.0            2288.0\n",
       "161        4142  11641   53.0         30.0            1590.0\n",
       "160        4141    304   39.0         40.0            1560.0\n",
       "293        4355  12589  126.5         11.0            1391.5\n",
       "291        4352  15940  225.0          5.0            1125.0\n",
       "170        4153  16237   29.0         36.0            1044.0\n",
       "761        6206  16580   25.2         41.0            1033.2\n",
       "121        4068  16416   16.6         62.0            1029.2"
      ]
     },
     "metadata": {},
     "output_type": "display_data"
    }
   ],
   "source": [
    "#calcul du chiffre d'affaires : prix de vente x nombre de ventes\n",
    "df_final['chiffre_affaires']=df_final['price']*df_final['total_sales']\n",
    "\n",
    "#Tri sur le chiffre d'affaires et affichage du top 10\n",
    "df_final=df_final.sort_values('chiffre_affaires', ascending=False)\n",
    "top_ca_pdt=df_final[['product_id','sku','price','total_sales','chiffre_affaires']].iloc[:10]\n",
    "display(top_ca_pdt)"
   ]
  },
  {
   "cell_type": "markdown",
   "id": "c7a7f8bf",
   "metadata": {},
   "source": [
    "##### Identification des 3 produits indiqués en 'vente en ligne'  dans l'ERP et non présents dans le CMS"
   ]
  },
  {
   "cell_type": "code",
   "execution_count": 53,
   "id": "60dab3b2",
   "metadata": {},
   "outputs": [
    {
     "name": "stdout",
     "output_type": "stream",
     "text": [
      "\n",
      "Aucune vente n'a été réalisée pour les produits dont les product_id sont [4594, 5070, 5075]. Ces produits sont indiqués comme disponible à la vente sur la boutique en ligne dans l'ERP mais non présents dans le CMS.\n"
     ]
    }
   ],
   "source": [
    "# Liste des produits pour lesquels il n'y a pas eu de vente en ligne\n",
    "nosales=df_liaison.loc[~df_liaison['sku'].isin(sku),:]\n",
    "\n",
    "#liste des produits en vente en ligne\n",
    "onsalesweb=df_erp.loc[df_erp['onsale_web']==1,'product_id'].to_list()\n",
    "\n",
    "#Sélection dans la liste précédente des produits qui sont indiqués en vente en ligne dans le df_erp\n",
    "print(\"\")\n",
    "print(\"Aucune vente n'a été réalisée pour les produits dont les product_id sont \"+str(nosales.loc[nosales['product_id'].isin(onsalesweb),'product_id'].to_list())+\". Ces produits sont indiqués comme disponible à la vente sur la boutique en ligne dans l'ERP mais non présents dans le CMS.\")\n"
   ]
  },
  {
   "cell_type": "markdown",
   "id": "940a04df",
   "metadata": {},
   "source": [
    "##### Top 10 des produits en chiffre d'affaires"
   ]
  },
  {
   "cell_type": "code",
   "execution_count": 54,
   "id": "6454d84b",
   "metadata": {
    "scrolled": false
   },
   "outputs": [
    {
     "data": {
      "image/png": "[encoded data removed]",
      "text/plain": [
       "<Figure size 720x504 with 1 Axes>"
      ]
     },
     "metadata": {
      "needs_background": "light"
     },
     "output_type": "display_data"
    }
   ],
   "source": [
    "#Représentation graphique du top des chiffres d'affaires par produit\n",
    "plt.figure(figsize=(10,7))\n",
    "sns.barplot(data=top_ca_pdt, x='product_id', y='chiffre_affaires', ci=None)\n",
    "plt.title(\"Top 10 du chiffre d'affaires par produit\", fontsize=14)\n",
    "plt.ylabel(\"Chiffre d'affaires (euros)\", fontsize=12)\n",
    "plt.xlabel(\"Identifiant produit\", fontsize=12)\n",
    "\n",
    "#affichage des valeurs au-dessus des barres\n",
    "ca=top_ca_pdt.sort_values('product_id')\n",
    "ca=ca['chiffre_affaires'].tolist()\n",
    "for i in range(10):\n",
    "    plt.text(i-0.4,ca[i]+100,ca[i],fontsize=12)\n",
    "    \n",
    "plt.show()"
   ]
  },
  {
   "cell_type": "markdown",
   "id": "af85b986",
   "metadata": {},
   "source": [
    "#### b. Chiffre d'affaires total réalisé en ligne<a class=\"anchor\" id=\"3_2_2\"></a>"
   ]
  },
  {
   "cell_type": "code",
   "execution_count": 55,
   "id": "5af5695b",
   "metadata": {
    "scrolled": true
   },
   "outputs": [
    {
     "name": "stdout",
     "output_type": "stream",
     "text": [
      "\n",
      "Le chiffre d'affaires total réalisé en ligne est de 70569 euros.\n"
     ]
    }
   ],
   "source": [
    "# Calcul du chiffre d'affaires réalisé en ligne\n",
    "print(\"\")\n",
    "print(\"Le chiffre d'affaires total réalisé en ligne est de \"+str(round(df_final['chiffre_affaires'].sum()))+\" euros.\")"
   ]
  },
  {
   "cell_type": "markdown",
   "id": "35f55069",
   "metadata": {},
   "source": [
    "#### c. Top des ventes par produit<a class=\"anchor\" id=\"3_2_3\"></a>"
   ]
  },
  {
   "cell_type": "code",
   "execution_count": 56,
   "id": "31a6f82a",
   "metadata": {
    "scrolled": true
   },
   "outputs": [
    {
     "data": {
      "text/html": [
       "<div>\n",
       "<style scoped>\n",
       "    .dataframe tbody tr th:only-of-type {\n",
       "        vertical-align: middle;\n",
       "    }\n",
       "\n",
       "    .dataframe tbody tr th {\n",
       "        vertical-align: top;\n",
       "    }\n",
       "\n",
       "    .dataframe thead th {\n",
       "        text-align: right;\n",
       "    }\n",
       "</style>\n",
       "<table border=\"1\" class=\"dataframe\">\n",
       "  <thead>\n",
       "    <tr style=\"text-align: right;\">\n",
       "      <th></th>\n",
       "      <th>product_id</th>\n",
       "      <th>sku</th>\n",
       "      <th>price</th>\n",
       "      <th>total_sales</th>\n",
       "      <th>chiffre_affaires</th>\n",
       "    </tr>\n",
       "  </thead>\n",
       "  <tbody>\n",
       "    <tr>\n",
       "      <th>286</th>\n",
       "      <td>4334</td>\n",
       "      <td>7818</td>\n",
       "      <td>49.0</td>\n",
       "      <td>96.0</td>\n",
       "      <td>4704.0</td>\n",
       "    </tr>\n",
       "    <tr>\n",
       "      <th>162</th>\n",
       "      <td>4144</td>\n",
       "      <td>1662</td>\n",
       "      <td>49.0</td>\n",
       "      <td>87.0</td>\n",
       "      <td>4263.0</td>\n",
       "    </tr>\n",
       "    <tr>\n",
       "      <th>121</th>\n",
       "      <td>4068</td>\n",
       "      <td>16416</td>\n",
       "      <td>16.6</td>\n",
       "      <td>62.0</td>\n",
       "      <td>1029.2</td>\n",
       "    </tr>\n",
       "    <tr>\n",
       "      <th>210</th>\n",
       "      <td>4200</td>\n",
       "      <td>16295</td>\n",
       "      <td>5.8</td>\n",
       "      <td>46.0</td>\n",
       "      <td>266.8</td>\n",
       "    </tr>\n",
       "    <tr>\n",
       "      <th>188</th>\n",
       "      <td>4172</td>\n",
       "      <td>16210</td>\n",
       "      <td>5.7</td>\n",
       "      <td>43.0</td>\n",
       "      <td>245.1</td>\n",
       "    </tr>\n",
       "    <tr>\n",
       "      <th>200</th>\n",
       "      <td>4187</td>\n",
       "      <td>16189</td>\n",
       "      <td>13.3</td>\n",
       "      <td>42.0</td>\n",
       "      <td>558.6</td>\n",
       "    </tr>\n",
       "    <tr>\n",
       "      <th>761</th>\n",
       "      <td>6206</td>\n",
       "      <td>16580</td>\n",
       "      <td>25.2</td>\n",
       "      <td>41.0</td>\n",
       "      <td>1033.2</td>\n",
       "    </tr>\n",
       "    <tr>\n",
       "      <th>160</th>\n",
       "      <td>4141</td>\n",
       "      <td>304</td>\n",
       "      <td>39.0</td>\n",
       "      <td>40.0</td>\n",
       "      <td>1560.0</td>\n",
       "    </tr>\n",
       "    <tr>\n",
       "      <th>418</th>\n",
       "      <td>4729</td>\n",
       "      <td>38</td>\n",
       "      <td>8.6</td>\n",
       "      <td>38.0</td>\n",
       "      <td>326.8</td>\n",
       "    </tr>\n",
       "    <tr>\n",
       "      <th>734</th>\n",
       "      <td>6047</td>\n",
       "      <td>16264</td>\n",
       "      <td>10.9</td>\n",
       "      <td>38.0</td>\n",
       "      <td>414.2</td>\n",
       "    </tr>\n",
       "  </tbody>\n",
       "</table>\n",
       "</div>"
      ],
      "text/plain": [
       "     product_id    sku  price  total_sales  chiffre_affaires\n",
       "286        4334   7818   49.0         96.0            4704.0\n",
       "162        4144   1662   49.0         87.0            4263.0\n",
       "121        4068  16416   16.6         62.0            1029.2\n",
       "210        4200  16295    5.8         46.0             266.8\n",
       "188        4172  16210    5.7         43.0             245.1\n",
       "200        4187  16189   13.3         42.0             558.6\n",
       "761        6206  16580   25.2         41.0            1033.2\n",
       "160        4141    304   39.0         40.0            1560.0\n",
       "418        4729     38    8.6         38.0             326.8\n",
       "734        6047  16264   10.9         38.0             414.2"
      ]
     },
     "metadata": {},
     "output_type": "display_data"
    }
   ],
   "source": [
    "#Top des ventes\n",
    "df_final=df_final.sort_values('total_sales', ascending=False)\n",
    "top_ventes_pdt=df_final[['product_id','sku','price','total_sales','chiffre_affaires']].iloc[:10]\n",
    "display(top_ventes_pdt)"
   ]
  },
  {
   "cell_type": "code",
   "execution_count": 57,
   "id": "e1142ac5",
   "metadata": {},
   "outputs": [
    {
     "data": {
      "image/png": "[encoded data removed]",
      "text/plain": [
       "<Figure size 720x504 with 1 Axes>"
      ]
     },
     "metadata": {
      "needs_background": "light"
     },
     "output_type": "display_data"
    }
   ],
   "source": [
    "#Représentation graphique du top des ventes par produit\n",
    "plt.figure(figsize=(10,7))\n",
    "sns.barplot(data=top_ventes_pdt, x='product_id', y='total_sales', ci=None)\n",
    "plt.title(\"Top 10 des ventes par produit\", fontsize=14)\n",
    "plt.ylabel(\"Nombre de ventes\", fontsize=12)\n",
    "plt.xlabel(\"Identifiant produit\", fontsize=12)\n",
    "\n",
    "#affichage des valeurs au-dessus des barres\n",
    "top=top_ventes_pdt.sort_values('product_id')\n",
    "top=top['total_sales'].tolist()\n",
    "for i in range(10):\n",
    "    plt.text(i-0.3,top[i]+2,top[i],fontsize=12)\n",
    "    \n",
    "plt.show()"
   ]
  },
  {
   "cell_type": "markdown",
   "id": "a3bd8d4f",
   "metadata": {},
   "source": [
    "### 3. Analyse des prix de produits<a class=\"anchor\" id=\"3_3\"></a>\n",
    "\n",
    "**Objectif :** Identifier les erreurs de saisie de certains prix des produits: effectuer une analyse sur cette variable afin de détecter d’éventuelles valeurs aberrantes, de les lister et d’en faire une représentation graphique pour plus de lisibilité"
   ]
  },
  {
   "cell_type": "markdown",
   "id": "4e9abf4b",
   "metadata": {},
   "source": [
    "#### a. Données statistiques et premières visualisations<a class=\"anchor\" id=\"3_3_1\"></a>"
   ]
  },
  {
   "cell_type": "code",
   "execution_count": 58,
   "id": "86d5b929",
   "metadata": {},
   "outputs": [],
   "source": [
    "#Création du série 'price'\n",
    "price=df_final['price']"
   ]
  },
  {
   "cell_type": "code",
   "execution_count": 59,
   "id": "02583100",
   "metadata": {
    "scrolled": true
   },
   "outputs": [
    {
     "data": {
      "text/plain": [
       "count    714.000000\n",
       "mean      32.493137\n",
       "std       27.810525\n",
       "min        5.200000\n",
       "25%       14.100000\n",
       "50%       23.550000\n",
       "75%       42.175000\n",
       "max      225.000000\n",
       "Name: price, dtype: float64"
      ]
     },
     "execution_count": 59,
     "metadata": {},
     "output_type": "execute_result"
    }
   ],
   "source": [
    "#Affichage de données statistiques de la variable 'price'\n",
    "price.describe()"
   ]
  },
  {
   "cell_type": "markdown",
   "id": "8cac8fe8",
   "metadata": {},
   "source": [
    "75% des prix de ventes sont en dessous de 42.0 €.\n",
    "\n",
    "Les prix de ventes sont compris entre 5,2 et 225.0 €.\n",
    "\n",
    "Le diagramme en boîte à moustache et l'histogramme ci-dessous permettent d'illustrer ces résultats."
   ]
  },
  {
   "cell_type": "code",
   "execution_count": 60,
   "id": "7ffc4f85",
   "metadata": {},
   "outputs": [
    {
     "data": {
      "image/png": "[encoded data removed]",
      "text/plain": [
       "<Figure size 720x504 with 1 Axes>"
      ]
     },
     "metadata": {
      "needs_background": "light"
     },
     "output_type": "display_data"
    }
   ],
   "source": [
    "#Boîte à moustache de la variable 'prix'\n",
    "plt.figure(figsize=(10,7))\n",
    "sns.boxplot(data=df_final,x='price')\n",
    "plt.title('Distribution des prix : boîte à moustache',fontsize=14, fontweight='bold')\n",
    "plt.show()"
   ]
  },
  {
   "cell_type": "markdown",
   "id": "5d80398b",
   "metadata": {},
   "source": [
    "Nous visualisons sur le diagramme en boîte à moustache les outliers : prix qui se situent au-dessus de le la limite haute de la boîte à moustaches."
   ]
  },
  {
   "cell_type": "code",
   "execution_count": 61,
   "id": "b517aabe",
   "metadata": {
    "scrolled": false
   },
   "outputs": [
    {
     "data": {
      "image/png": "[encoded data removed]",
      "text/plain": [
       "<Figure size 720x504 with 1 Axes>"
      ]
     },
     "metadata": {
      "needs_background": "light"
     },
     "output_type": "display_data"
    }
   ],
   "source": [
    "#Répartition des prix de ventes : histogramme\n",
    "plt.figure(figsize=(10,7))\n",
    "sns.histplot(data=df_final,x='price')\n",
    "plt.title('Distribution des prix : histogramme',fontsize=14, fontweight='bold')\n",
    "plt.show()"
   ]
  },
  {
   "cell_type": "markdown",
   "id": "a6d452fb",
   "metadata": {},
   "source": [
    "**Conclusion:**\n",
    "\n",
    "Nous pouvons observer qu'il y a bien des valeurs aberrantes pour la variable 'price' du df 'erp'."
   ]
  },
  {
   "attachments": {
    "IQR-2.png": {
     "image/png": "[encoded data removed]"
    }
   },
   "cell_type": "markdown",
   "id": "438ddaf7",
   "metadata": {},
   "source": [
    "#### b. Détermination des outliers : méthode de  l'écart interquartile<a class=\"anchor\" id=\"3_3_2\"></a>\n",
    "\n",
    "La première méthode utilisée pour déterminer les valeurs extrêmes, outliers, est celle de l'écart interquartile.\n",
    "\n",
    "![IQR-2.png](attachment:IQR-2.png)\n",
    "\n",
    "\n",
    "Les valeurs au-dessus ou au-desssous des limites basses et haute, $Q3-1.5xIQR$ et $Q3+1.5xIQR$, sont considérés comme des outliers.\n",
    "\n"
   ]
  },
  {
   "cell_type": "code",
   "execution_count": 62,
   "id": "675d03be",
   "metadata": {},
   "outputs": [],
   "source": [
    "#Tri de la série 'price' : fonction sorted()\n",
    "price = sorted(price)"
   ]
  },
  {
   "cell_type": "code",
   "execution_count": 63,
   "id": "3a8c2d6f",
   "metadata": {},
   "outputs": [
    {
     "name": "stdout",
     "output_type": "stream",
     "text": [
      "Q1 => 14.1\n",
      "Q3 => 42.175000000000004\n",
      "IQR => 28.075000000000003\n"
     ]
    }
   ],
   "source": [
    "# Calcul de l'écart interquartile\n",
    "q1, q3= np.percentile(price,[25,75])\n",
    "iqr = q3 - q1\n",
    "print(\"Q1 => \" + str(q1))\n",
    "print(\"Q3 => \" + str(q3))\n",
    "print(\"IQR => \" + str(iqr))"
   ]
  },
  {
   "cell_type": "code",
   "execution_count": 64,
   "id": "82865789",
   "metadata": {},
   "outputs": [
    {
     "name": "stdout",
     "output_type": "stream",
     "text": [
      "\n",
      "Sont considérés comme outliers les prix en-dessous de la lower bound et ceux au-dessus de la upper bound :\n",
      "Lower_bound => -28.01 euros\n",
      "Upper_bound => 84.29 euros\n",
      "\n"
     ]
    }
   ],
   "source": [
    "# Calcul des valeurs limites\n",
    "lower_bound = round(q1 -(1.5 * iqr),2)\n",
    "upper_bound = round(q3 +(1.5 * iqr),2)\n",
    "print(\"\")\n",
    "print(\"Sont considérés comme outliers les prix en-dessous de la lower bound et ceux au-dessus de la upper bound :\")\n",
    "print(\"Lower_bound => \" + str(lower_bound)+\" euros\")\n",
    "print(\"Upper_bound => \" + str(upper_bound)+\" euros\")\n",
    "print(\"\")"
   ]
  },
  {
   "cell_type": "code",
   "execution_count": 65,
   "id": "6f9ee76a",
   "metadata": {},
   "outputs": [
    {
     "name": "stdout",
     "output_type": "stream",
     "text": [
      "\n",
      "Nombre d'outliers détectés => 32\n"
     ]
    },
    {
     "data": {
      "text/html": [
       "<div>\n",
       "<style scoped>\n",
       "    .dataframe tbody tr th:only-of-type {\n",
       "        vertical-align: middle;\n",
       "    }\n",
       "\n",
       "    .dataframe tbody tr th {\n",
       "        vertical-align: top;\n",
       "    }\n",
       "\n",
       "    .dataframe thead th {\n",
       "        text-align: right;\n",
       "    }\n",
       "</style>\n",
       "<table border=\"1\" class=\"dataframe\">\n",
       "  <thead>\n",
       "    <tr style=\"text-align: right;\">\n",
       "      <th></th>\n",
       "      <th>product_id</th>\n",
       "      <th>sku</th>\n",
       "      <th>price</th>\n",
       "      <th>post_name</th>\n",
       "    </tr>\n",
       "  </thead>\n",
       "  <tbody>\n",
       "    <tr>\n",
       "      <th>297</th>\n",
       "      <td>4359</td>\n",
       "      <td>13853</td>\n",
       "      <td>85.6</td>\n",
       "      <td>champagne-larmandier-bernier-grand-cru-vieille...</td>\n",
       "    </tr>\n",
       "    <tr>\n",
       "      <th>539</th>\n",
       "      <td>5026</td>\n",
       "      <td>13913</td>\n",
       "      <td>86.8</td>\n",
       "      <td>champagne-agrapart-fils-mineral-extra-brut-bla...</td>\n",
       "    </tr>\n",
       "    <tr>\n",
       "      <th>156</th>\n",
       "      <td>4132</td>\n",
       "      <td>11668</td>\n",
       "      <td>88.4</td>\n",
       "      <td>zind-humbrecht-pinot-gris-grand-cru-rangen-de-...</td>\n",
       "    </tr>\n",
       "    <tr>\n",
       "      <th>605</th>\n",
       "      <td>5565</td>\n",
       "      <td>19822</td>\n",
       "      <td>92.0</td>\n",
       "      <td>tempier-bandol-cabassaou-2017</td>\n",
       "    </tr>\n",
       "    <tr>\n",
       "      <th>707</th>\n",
       "      <td>5916</td>\n",
       "      <td>14774</td>\n",
       "      <td>93.0</td>\n",
       "      <td>wemyss-malts-single-cask-chocolate-moka-cake</td>\n",
       "    </tr>\n",
       "    <tr>\n",
       "      <th>765</th>\n",
       "      <td>6214</td>\n",
       "      <td>11601</td>\n",
       "      <td>99.0</td>\n",
       "      <td>domaine-des-comtes-lafon-volnay-1er-cru-champa...</td>\n",
       "    </tr>\n",
       "    <tr>\n",
       "      <th>154</th>\n",
       "      <td>4115</td>\n",
       "      <td>15382</td>\n",
       "      <td>100.0</td>\n",
       "      <td>zind-humbrecht-riesling-gc-rangen-thann-clos-s...</td>\n",
       "    </tr>\n",
       "    <tr>\n",
       "      <th>477</th>\n",
       "      <td>4903</td>\n",
       "      <td>14805</td>\n",
       "      <td>102.3</td>\n",
       "      <td>domaine-des-croix-corton-grand-cru-les-greves-...</td>\n",
       "    </tr>\n",
       "    <tr>\n",
       "      <th>314</th>\n",
       "      <td>4407</td>\n",
       "      <td>3509</td>\n",
       "      <td>104.0</td>\n",
       "      <td>cognac-frapin-cigar-blend</td>\n",
       "    </tr>\n",
       "    <tr>\n",
       "      <th>530</th>\n",
       "      <td>5007</td>\n",
       "      <td>12791</td>\n",
       "      <td>105.0</td>\n",
       "      <td>domaine-des-comtes-lafon-volnay-1er-cru-santen...</td>\n",
       "    </tr>\n",
       "    <tr>\n",
       "      <th>531</th>\n",
       "      <td>5008</td>\n",
       "      <td>11602</td>\n",
       "      <td>105.0</td>\n",
       "      <td>domaine-des-comtes-lafon-volnay-1er-cru-santen...</td>\n",
       "    </tr>\n",
       "    <tr>\n",
       "      <th>757</th>\n",
       "      <td>6201</td>\n",
       "      <td>14596</td>\n",
       "      <td>105.6</td>\n",
       "      <td>david-duband-chambolle-musigny-1er-cru-les-sen...</td>\n",
       "    </tr>\n",
       "    <tr>\n",
       "      <th>311</th>\n",
       "      <td>4404</td>\n",
       "      <td>3507</td>\n",
       "      <td>108.5</td>\n",
       "      <td>cognac-frapin-fontpinot-xo</td>\n",
       "    </tr>\n",
       "    <tr>\n",
       "      <th>320</th>\n",
       "      <td>4582</td>\n",
       "      <td>12857</td>\n",
       "      <td>109.6</td>\n",
       "      <td>chateau-de-puligny-montrachet-1cru-champ-canet...</td>\n",
       "    </tr>\n",
       "    <tr>\n",
       "      <th>538</th>\n",
       "      <td>5025</td>\n",
       "      <td>13914</td>\n",
       "      <td>112.0</td>\n",
       "      <td>champagne-agrapart-fils-lavizoise-grand-cru-20...</td>\n",
       "    </tr>\n",
       "    <tr>\n",
       "      <th>709</th>\n",
       "      <td>5918</td>\n",
       "      <td>14773</td>\n",
       "      <td>114.0</td>\n",
       "      <td>wemyss-malts-single-cask-scotch-whisky-chai-ca...</td>\n",
       "    </tr>\n",
       "    <tr>\n",
       "      <th>763</th>\n",
       "      <td>6212</td>\n",
       "      <td>13996</td>\n",
       "      <td>115.0</td>\n",
       "      <td>domaine-des-comtes-lafon-volnay-1er-cru-santen...</td>\n",
       "    </tr>\n",
       "    <tr>\n",
       "      <th>766</th>\n",
       "      <td>6215</td>\n",
       "      <td>12790</td>\n",
       "      <td>115.0</td>\n",
       "      <td>domaine-des-comtes-lafon-volnay-1er-cru-champa...</td>\n",
       "    </tr>\n",
       "    <tr>\n",
       "      <th>758</th>\n",
       "      <td>6202</td>\n",
       "      <td>15126</td>\n",
       "      <td>116.4</td>\n",
       "      <td>domaine-clerget-echezeaux-en-orveaux-2015</td>\n",
       "    </tr>\n",
       "    <tr>\n",
       "      <th>764</th>\n",
       "      <td>6213</td>\n",
       "      <td>15072</td>\n",
       "      <td>121.0</td>\n",
       "      <td>domaine-des-comtes-lafon-volnay-1er-cru-santen...</td>\n",
       "    </tr>\n",
       "    <tr>\n",
       "      <th>767</th>\n",
       "      <td>6216</td>\n",
       "      <td>15070</td>\n",
       "      <td>121.0</td>\n",
       "      <td>domaine-des-comtes-lafon-volnay-1er-cru-champa...</td>\n",
       "    </tr>\n",
       "    <tr>\n",
       "      <th>708</th>\n",
       "      <td>5917</td>\n",
       "      <td>14775</td>\n",
       "      <td>122.0</td>\n",
       "      <td>wemyss-malts-single-cask-scotch-whisky-choc-n-...</td>\n",
       "    </tr>\n",
       "    <tr>\n",
       "      <th>615</th>\n",
       "      <td>5612</td>\n",
       "      <td>14915</td>\n",
       "      <td>124.8</td>\n",
       "      <td>domaine-weinbach-gewurztraminer-gc-furstentum-...</td>\n",
       "    </tr>\n",
       "    <tr>\n",
       "      <th>293</th>\n",
       "      <td>4355</td>\n",
       "      <td>12589</td>\n",
       "      <td>126.5</td>\n",
       "      <td>champagne-egly-ouriet-grand-cru-brut-blanc-de-...</td>\n",
       "    </tr>\n",
       "    <tr>\n",
       "      <th>752</th>\n",
       "      <td>6126</td>\n",
       "      <td>14923</td>\n",
       "      <td>135.0</td>\n",
       "      <td>champagne-gosset-celebris-vintage-2007</td>\n",
       "    </tr>\n",
       "    <tr>\n",
       "      <th>478</th>\n",
       "      <td>4904</td>\n",
       "      <td>14220</td>\n",
       "      <td>137.0</td>\n",
       "      <td>domaine-des-croix-corton-charlemagne-grand-cru...</td>\n",
       "    </tr>\n",
       "    <tr>\n",
       "      <th>313</th>\n",
       "      <td>4406</td>\n",
       "      <td>7819</td>\n",
       "      <td>157.0</td>\n",
       "      <td>cognac-frapin-chateau-de-fontpinot-1989-20-ans</td>\n",
       "    </tr>\n",
       "    <tr>\n",
       "      <th>657</th>\n",
       "      <td>5767</td>\n",
       "      <td>15185</td>\n",
       "      <td>175.0</td>\n",
       "      <td>camille-giroud-clos-de-vougeot-2016</td>\n",
       "    </tr>\n",
       "    <tr>\n",
       "      <th>310</th>\n",
       "      <td>4402</td>\n",
       "      <td>3510</td>\n",
       "      <td>176.0</td>\n",
       "      <td>cognac-frapin-vip-xo</td>\n",
       "    </tr>\n",
       "    <tr>\n",
       "      <th>692</th>\n",
       "      <td>5892</td>\n",
       "      <td>14983</td>\n",
       "      <td>191.3</td>\n",
       "      <td>coteaux-champenois-egly-ouriet-ambonnay-rouge-...</td>\n",
       "    </tr>\n",
       "    <tr>\n",
       "      <th>525</th>\n",
       "      <td>5001</td>\n",
       "      <td>14581</td>\n",
       "      <td>217.5</td>\n",
       "      <td>david-duband-charmes-chambertin-grand-cru-2014</td>\n",
       "    </tr>\n",
       "    <tr>\n",
       "      <th>291</th>\n",
       "      <td>4352</td>\n",
       "      <td>15940</td>\n",
       "      <td>225.0</td>\n",
       "      <td>champagne-egly-ouriet-grand-cru-millesime-2008</td>\n",
       "    </tr>\n",
       "  </tbody>\n",
       "</table>\n",
       "</div>"
      ],
      "text/plain": [
       "     product_id    sku  price  \\\n",
       "297        4359  13853   85.6   \n",
       "539        5026  13913   86.8   \n",
       "156        4132  11668   88.4   \n",
       "605        5565  19822   92.0   \n",
       "707        5916  14774   93.0   \n",
       "765        6214  11601   99.0   \n",
       "154        4115  15382  100.0   \n",
       "477        4903  14805  102.3   \n",
       "314        4407   3509  104.0   \n",
       "530        5007  12791  105.0   \n",
       "531        5008  11602  105.0   \n",
       "757        6201  14596  105.6   \n",
       "311        4404   3507  108.5   \n",
       "320        4582  12857  109.6   \n",
       "538        5025  13914  112.0   \n",
       "709        5918  14773  114.0   \n",
       "763        6212  13996  115.0   \n",
       "766        6215  12790  115.0   \n",
       "758        6202  15126  116.4   \n",
       "764        6213  15072  121.0   \n",
       "767        6216  15070  121.0   \n",
       "708        5917  14775  122.0   \n",
       "615        5612  14915  124.8   \n",
       "293        4355  12589  126.5   \n",
       "752        6126  14923  135.0   \n",
       "478        4904  14220  137.0   \n",
       "313        4406   7819  157.0   \n",
       "657        5767  15185  175.0   \n",
       "310        4402   3510  176.0   \n",
       "692        5892  14983  191.3   \n",
       "525        5001  14581  217.5   \n",
       "291        4352  15940  225.0   \n",
       "\n",
       "                                             post_name  \n",
       "297  champagne-larmandier-bernier-grand-cru-vieille...  \n",
       "539  champagne-agrapart-fils-mineral-extra-brut-bla...  \n",
       "156  zind-humbrecht-pinot-gris-grand-cru-rangen-de-...  \n",
       "605                      tempier-bandol-cabassaou-2017  \n",
       "707       wemyss-malts-single-cask-chocolate-moka-cake  \n",
       "765  domaine-des-comtes-lafon-volnay-1er-cru-champa...  \n",
       "154  zind-humbrecht-riesling-gc-rangen-thann-clos-s...  \n",
       "477  domaine-des-croix-corton-grand-cru-les-greves-...  \n",
       "314                          cognac-frapin-cigar-blend  \n",
       "530  domaine-des-comtes-lafon-volnay-1er-cru-santen...  \n",
       "531  domaine-des-comtes-lafon-volnay-1er-cru-santen...  \n",
       "757  david-duband-chambolle-musigny-1er-cru-les-sen...  \n",
       "311                         cognac-frapin-fontpinot-xo  \n",
       "320  chateau-de-puligny-montrachet-1cru-champ-canet...  \n",
       "538  champagne-agrapart-fils-lavizoise-grand-cru-20...  \n",
       "709  wemyss-malts-single-cask-scotch-whisky-chai-ca...  \n",
       "763  domaine-des-comtes-lafon-volnay-1er-cru-santen...  \n",
       "766  domaine-des-comtes-lafon-volnay-1er-cru-champa...  \n",
       "758          domaine-clerget-echezeaux-en-orveaux-2015  \n",
       "764  domaine-des-comtes-lafon-volnay-1er-cru-santen...  \n",
       "767  domaine-des-comtes-lafon-volnay-1er-cru-champa...  \n",
       "708  wemyss-malts-single-cask-scotch-whisky-choc-n-...  \n",
       "615  domaine-weinbach-gewurztraminer-gc-furstentum-...  \n",
       "293  champagne-egly-ouriet-grand-cru-brut-blanc-de-...  \n",
       "752             champagne-gosset-celebris-vintage-2007  \n",
       "478  domaine-des-croix-corton-charlemagne-grand-cru...  \n",
       "313     cognac-frapin-chateau-de-fontpinot-1989-20-ans  \n",
       "657                camille-giroud-clos-de-vougeot-2016  \n",
       "310                               cognac-frapin-vip-xo  \n",
       "692  coteaux-champenois-egly-ouriet-ambonnay-rouge-...  \n",
       "525     david-duband-charmes-chambertin-grand-cru-2014  \n",
       "291     champagne-egly-ouriet-grand-cru-millesime-2008  "
      ]
     },
     "execution_count": 65,
     "metadata": {},
     "output_type": "execute_result"
    }
   ],
   "source": [
    "# Détermination des outliers\n",
    "result = df_final[(df_final['price'] > upper_bound) | (df_final['price'] < lower_bound)]\n",
    "\n",
    "# Affichage du résultat\n",
    "print(\"\")\n",
    "print(\"Nombre d'outliers détectés => \" + str(len(result)))\n",
    "result[['product_id','sku','price','post_name']].sort_values('price')"
   ]
  },
  {
   "cell_type": "code",
   "execution_count": 66,
   "id": "e67f575a",
   "metadata": {},
   "outputs": [
    {
     "data": {
      "image/png": "[encoded data removed]",
      "text/plain": [
       "<Figure size 720x504 with 1 Axes>"
      ]
     },
     "metadata": {
      "needs_background": "light"
     },
     "output_type": "display_data"
    }
   ],
   "source": [
    "# Création de 2 data frames pour mettre en relief les outliers\n",
    "only_ok = df_final[(df_final['price'] < upper_bound) & (df_final['price'] > lower_bound)]\n",
    "only_outliers = df_final[(df_final['price'] > upper_bound) | (df_final['price'] < lower_bound)]\n",
    "\n",
    "# Représentation graphique en nuage de points\n",
    "plt.figure(figsize=(10,7))\n",
    "line1=plt.scatter(only_ok['price'].index, only_ok['price'].values)\n",
    "line2=plt.scatter(only_outliers['price'].index, only_outliers['price'].values,c='red')\n",
    "plt.title(\"Outliers de la variable 'price'\",fontsize=14, fontweight='bold')\n",
    "plt.xlabel('Index')\n",
    "plt.ylabel('Prix')\n",
    "plt.legend([line1,line2],['Valeur price ok','Outliers price'])\n",
    "plt.show(line1,line2)"
   ]
  },
  {
   "cell_type": "markdown",
   "id": "89bd044e",
   "metadata": {},
   "source": [
    "#### c. Détermination des outliers : méthode du Z-score<a class=\"anchor\" id=\"3_3_3\"></a>\n",
    "\n",
    "La deuxième méthode utilisée pour déterminer les valeurs extrêmes, outliers, est celle du Z-score.\n",
    "\n",
    "L'équation du score z est la suivante :  $z = (x – μ)/σ$\n",
    "\n",
    "avec :\n",
    "- x : variable\n",
    "- $μ$ = moyenne des x\n",
    "- $σ$ = écart-type de la variable x\n",
    "\n",
    "Pour la détection des outliers, il faut définir un seuil à partir duquel les valeurs sont considérées comme outliers, ce seuil est le 'threshold'. C'est le nombre d'écart-type d'écart par rapport à la moyenne.\n",
    "\n",
    "Le threshold peut être de 2, 2.5 ou 3."
   ]
  },
  {
   "cell_type": "code",
   "execution_count": 67,
   "id": "3d81ab04",
   "metadata": {},
   "outputs": [],
   "source": [
    "#Création du série 'price'\n",
    "price=df_final['price']"
   ]
  },
  {
   "cell_type": "code",
   "execution_count": 68,
   "id": "14cf746f",
   "metadata": {},
   "outputs": [
    {
     "data": {
      "image/png": "[encoded data removed]",
      "text/plain": [
       "<Figure size 1080x504 with 1 Axes>"
      ]
     },
     "metadata": {
      "needs_background": "light"
     },
     "output_type": "display_data"
    }
   ],
   "source": [
    "# Calcul de la moyenne et de l'écart-type de la serie 'price'\n",
    "mean = np.mean(price)\n",
    "std =np.std(price)\n",
    "\n",
    "#Répartition des prix de ventes : histogramme + threshold 2, 2.5 et 3\n",
    "plt.figure(figsize=(15,7))\n",
    "sns.histplot(data=df_final,x='price')\n",
    "plt.axvline(x=mean+2*std, c='red')\n",
    "plt.axvline(x=mean+2.5*std)\n",
    "plt.axvline(x=mean+3*std)\n",
    "plt.xticks([0,25,50,75,mean+2*std,mean+2.5*std,mean+3*std,125,150,175,200,225],['0','25','50','75','μ+2xσ','μ+2.5xσ','μ+3xσ','125','150','175','200','225'])\n",
    "plt.title('Distribution des prix : histogramme et threshold de 2, 2.5 et 3',fontsize=14, fontweight='bold')\n",
    "plt.show()"
   ]
  },
  {
   "cell_type": "markdown",
   "id": "644055fa",
   "metadata": {},
   "source": [
    "Vu la distribution de la variable 'price', le threshold est pris à 2."
   ]
  },
  {
   "cell_type": "code",
   "execution_count": 69,
   "id": "728651fd",
   "metadata": {},
   "outputs": [
    {
     "name": "stdout",
     "output_type": "stream",
     "text": [
      "Les outliers seront les prix supérieurs à 88.08 euros.\n"
     ]
    }
   ],
   "source": [
    "# Valeur limite haute de prix avec le threshold = 2\n",
    "print(\"Les outliers seront les prix supérieurs à \"+str(round(mean+2*std,2))+\" euros.\")"
   ]
  },
  {
   "cell_type": "code",
   "execution_count": 70,
   "id": "42432e38",
   "metadata": {
    "scrolled": false
   },
   "outputs": [
    {
     "name": "stdout",
     "output_type": "stream",
     "text": [
      "Nombre d'outliers détectés => 30\n",
      "[176.0, 126.5, 137.0, 225.0, 191.3, 135.0, 108.5, 115.0, 104.0, 112.0, 105.0, 105.0, 100.0, 88.4, 217.5, 102.3, 92.0, 116.4, 121.0, 99.0, 115.0, 121.0, 175.0, 124.8, 105.6, 109.6, 157.0, 93.0, 122.0, 114.0]\n"
     ]
    },
    {
     "data": {
      "text/html": [
       "<div>\n",
       "<style scoped>\n",
       "    .dataframe tbody tr th:only-of-type {\n",
       "        vertical-align: middle;\n",
       "    }\n",
       "\n",
       "    .dataframe tbody tr th {\n",
       "        vertical-align: top;\n",
       "    }\n",
       "\n",
       "    .dataframe thead th {\n",
       "        text-align: right;\n",
       "    }\n",
       "</style>\n",
       "<table border=\"1\" class=\"dataframe\">\n",
       "  <thead>\n",
       "    <tr style=\"text-align: right;\">\n",
       "      <th></th>\n",
       "      <th>product_id</th>\n",
       "      <th>sku</th>\n",
       "      <th>price</th>\n",
       "      <th>post_name</th>\n",
       "    </tr>\n",
       "  </thead>\n",
       "  <tbody>\n",
       "    <tr>\n",
       "      <th>156</th>\n",
       "      <td>4132</td>\n",
       "      <td>11668</td>\n",
       "      <td>88.4</td>\n",
       "      <td>zind-humbrecht-pinot-gris-grand-cru-rangen-de-...</td>\n",
       "    </tr>\n",
       "    <tr>\n",
       "      <th>605</th>\n",
       "      <td>5565</td>\n",
       "      <td>19822</td>\n",
       "      <td>92.0</td>\n",
       "      <td>tempier-bandol-cabassaou-2017</td>\n",
       "    </tr>\n",
       "    <tr>\n",
       "      <th>707</th>\n",
       "      <td>5916</td>\n",
       "      <td>14774</td>\n",
       "      <td>93.0</td>\n",
       "      <td>wemyss-malts-single-cask-chocolate-moka-cake</td>\n",
       "    </tr>\n",
       "    <tr>\n",
       "      <th>765</th>\n",
       "      <td>6214</td>\n",
       "      <td>11601</td>\n",
       "      <td>99.0</td>\n",
       "      <td>domaine-des-comtes-lafon-volnay-1er-cru-champa...</td>\n",
       "    </tr>\n",
       "    <tr>\n",
       "      <th>154</th>\n",
       "      <td>4115</td>\n",
       "      <td>15382</td>\n",
       "      <td>100.0</td>\n",
       "      <td>zind-humbrecht-riesling-gc-rangen-thann-clos-s...</td>\n",
       "    </tr>\n",
       "    <tr>\n",
       "      <th>477</th>\n",
       "      <td>4903</td>\n",
       "      <td>14805</td>\n",
       "      <td>102.3</td>\n",
       "      <td>domaine-des-croix-corton-grand-cru-les-greves-...</td>\n",
       "    </tr>\n",
       "    <tr>\n",
       "      <th>314</th>\n",
       "      <td>4407</td>\n",
       "      <td>3509</td>\n",
       "      <td>104.0</td>\n",
       "      <td>cognac-frapin-cigar-blend</td>\n",
       "    </tr>\n",
       "    <tr>\n",
       "      <th>531</th>\n",
       "      <td>5008</td>\n",
       "      <td>11602</td>\n",
       "      <td>105.0</td>\n",
       "      <td>domaine-des-comtes-lafon-volnay-1er-cru-santen...</td>\n",
       "    </tr>\n",
       "    <tr>\n",
       "      <th>530</th>\n",
       "      <td>5007</td>\n",
       "      <td>12791</td>\n",
       "      <td>105.0</td>\n",
       "      <td>domaine-des-comtes-lafon-volnay-1er-cru-santen...</td>\n",
       "    </tr>\n",
       "    <tr>\n",
       "      <th>757</th>\n",
       "      <td>6201</td>\n",
       "      <td>14596</td>\n",
       "      <td>105.6</td>\n",
       "      <td>david-duband-chambolle-musigny-1er-cru-les-sen...</td>\n",
       "    </tr>\n",
       "    <tr>\n",
       "      <th>311</th>\n",
       "      <td>4404</td>\n",
       "      <td>3507</td>\n",
       "      <td>108.5</td>\n",
       "      <td>cognac-frapin-fontpinot-xo</td>\n",
       "    </tr>\n",
       "    <tr>\n",
       "      <th>320</th>\n",
       "      <td>4582</td>\n",
       "      <td>12857</td>\n",
       "      <td>109.6</td>\n",
       "      <td>chateau-de-puligny-montrachet-1cru-champ-canet...</td>\n",
       "    </tr>\n",
       "    <tr>\n",
       "      <th>538</th>\n",
       "      <td>5025</td>\n",
       "      <td>13914</td>\n",
       "      <td>112.0</td>\n",
       "      <td>champagne-agrapart-fils-lavizoise-grand-cru-20...</td>\n",
       "    </tr>\n",
       "    <tr>\n",
       "      <th>709</th>\n",
       "      <td>5918</td>\n",
       "      <td>14773</td>\n",
       "      <td>114.0</td>\n",
       "      <td>wemyss-malts-single-cask-scotch-whisky-chai-ca...</td>\n",
       "    </tr>\n",
       "    <tr>\n",
       "      <th>763</th>\n",
       "      <td>6212</td>\n",
       "      <td>13996</td>\n",
       "      <td>115.0</td>\n",
       "      <td>domaine-des-comtes-lafon-volnay-1er-cru-santen...</td>\n",
       "    </tr>\n",
       "    <tr>\n",
       "      <th>766</th>\n",
       "      <td>6215</td>\n",
       "      <td>12790</td>\n",
       "      <td>115.0</td>\n",
       "      <td>domaine-des-comtes-lafon-volnay-1er-cru-champa...</td>\n",
       "    </tr>\n",
       "    <tr>\n",
       "      <th>758</th>\n",
       "      <td>6202</td>\n",
       "      <td>15126</td>\n",
       "      <td>116.4</td>\n",
       "      <td>domaine-clerget-echezeaux-en-orveaux-2015</td>\n",
       "    </tr>\n",
       "    <tr>\n",
       "      <th>764</th>\n",
       "      <td>6213</td>\n",
       "      <td>15072</td>\n",
       "      <td>121.0</td>\n",
       "      <td>domaine-des-comtes-lafon-volnay-1er-cru-santen...</td>\n",
       "    </tr>\n",
       "    <tr>\n",
       "      <th>767</th>\n",
       "      <td>6216</td>\n",
       "      <td>15070</td>\n",
       "      <td>121.0</td>\n",
       "      <td>domaine-des-comtes-lafon-volnay-1er-cru-champa...</td>\n",
       "    </tr>\n",
       "    <tr>\n",
       "      <th>708</th>\n",
       "      <td>5917</td>\n",
       "      <td>14775</td>\n",
       "      <td>122.0</td>\n",
       "      <td>wemyss-malts-single-cask-scotch-whisky-choc-n-...</td>\n",
       "    </tr>\n",
       "    <tr>\n",
       "      <th>615</th>\n",
       "      <td>5612</td>\n",
       "      <td>14915</td>\n",
       "      <td>124.8</td>\n",
       "      <td>domaine-weinbach-gewurztraminer-gc-furstentum-...</td>\n",
       "    </tr>\n",
       "    <tr>\n",
       "      <th>293</th>\n",
       "      <td>4355</td>\n",
       "      <td>12589</td>\n",
       "      <td>126.5</td>\n",
       "      <td>champagne-egly-ouriet-grand-cru-brut-blanc-de-...</td>\n",
       "    </tr>\n",
       "    <tr>\n",
       "      <th>752</th>\n",
       "      <td>6126</td>\n",
       "      <td>14923</td>\n",
       "      <td>135.0</td>\n",
       "      <td>champagne-gosset-celebris-vintage-2007</td>\n",
       "    </tr>\n",
       "    <tr>\n",
       "      <th>478</th>\n",
       "      <td>4904</td>\n",
       "      <td>14220</td>\n",
       "      <td>137.0</td>\n",
       "      <td>domaine-des-croix-corton-charlemagne-grand-cru...</td>\n",
       "    </tr>\n",
       "    <tr>\n",
       "      <th>313</th>\n",
       "      <td>4406</td>\n",
       "      <td>7819</td>\n",
       "      <td>157.0</td>\n",
       "      <td>cognac-frapin-chateau-de-fontpinot-1989-20-ans</td>\n",
       "    </tr>\n",
       "    <tr>\n",
       "      <th>657</th>\n",
       "      <td>5767</td>\n",
       "      <td>15185</td>\n",
       "      <td>175.0</td>\n",
       "      <td>camille-giroud-clos-de-vougeot-2016</td>\n",
       "    </tr>\n",
       "    <tr>\n",
       "      <th>310</th>\n",
       "      <td>4402</td>\n",
       "      <td>3510</td>\n",
       "      <td>176.0</td>\n",
       "      <td>cognac-frapin-vip-xo</td>\n",
       "    </tr>\n",
       "    <tr>\n",
       "      <th>692</th>\n",
       "      <td>5892</td>\n",
       "      <td>14983</td>\n",
       "      <td>191.3</td>\n",
       "      <td>coteaux-champenois-egly-ouriet-ambonnay-rouge-...</td>\n",
       "    </tr>\n",
       "    <tr>\n",
       "      <th>525</th>\n",
       "      <td>5001</td>\n",
       "      <td>14581</td>\n",
       "      <td>217.5</td>\n",
       "      <td>david-duband-charmes-chambertin-grand-cru-2014</td>\n",
       "    </tr>\n",
       "    <tr>\n",
       "      <th>291</th>\n",
       "      <td>4352</td>\n",
       "      <td>15940</td>\n",
       "      <td>225.0</td>\n",
       "      <td>champagne-egly-ouriet-grand-cru-millesime-2008</td>\n",
       "    </tr>\n",
       "  </tbody>\n",
       "</table>\n",
       "</div>"
      ],
      "text/plain": [
       "     product_id    sku  price  \\\n",
       "156        4132  11668   88.4   \n",
       "605        5565  19822   92.0   \n",
       "707        5916  14774   93.0   \n",
       "765        6214  11601   99.0   \n",
       "154        4115  15382  100.0   \n",
       "477        4903  14805  102.3   \n",
       "314        4407   3509  104.0   \n",
       "531        5008  11602  105.0   \n",
       "530        5007  12791  105.0   \n",
       "757        6201  14596  105.6   \n",
       "311        4404   3507  108.5   \n",
       "320        4582  12857  109.6   \n",
       "538        5025  13914  112.0   \n",
       "709        5918  14773  114.0   \n",
       "763        6212  13996  115.0   \n",
       "766        6215  12790  115.0   \n",
       "758        6202  15126  116.4   \n",
       "764        6213  15072  121.0   \n",
       "767        6216  15070  121.0   \n",
       "708        5917  14775  122.0   \n",
       "615        5612  14915  124.8   \n",
       "293        4355  12589  126.5   \n",
       "752        6126  14923  135.0   \n",
       "478        4904  14220  137.0   \n",
       "313        4406   7819  157.0   \n",
       "657        5767  15185  175.0   \n",
       "310        4402   3510  176.0   \n",
       "692        5892  14983  191.3   \n",
       "525        5001  14581  217.5   \n",
       "291        4352  15940  225.0   \n",
       "\n",
       "                                             post_name  \n",
       "156  zind-humbrecht-pinot-gris-grand-cru-rangen-de-...  \n",
       "605                      tempier-bandol-cabassaou-2017  \n",
       "707       wemyss-malts-single-cask-chocolate-moka-cake  \n",
       "765  domaine-des-comtes-lafon-volnay-1er-cru-champa...  \n",
       "154  zind-humbrecht-riesling-gc-rangen-thann-clos-s...  \n",
       "477  domaine-des-croix-corton-grand-cru-les-greves-...  \n",
       "314                          cognac-frapin-cigar-blend  \n",
       "531  domaine-des-comtes-lafon-volnay-1er-cru-santen...  \n",
       "530  domaine-des-comtes-lafon-volnay-1er-cru-santen...  \n",
       "757  david-duband-chambolle-musigny-1er-cru-les-sen...  \n",
       "311                         cognac-frapin-fontpinot-xo  \n",
       "320  chateau-de-puligny-montrachet-1cru-champ-canet...  \n",
       "538  champagne-agrapart-fils-lavizoise-grand-cru-20...  \n",
       "709  wemyss-malts-single-cask-scotch-whisky-chai-ca...  \n",
       "763  domaine-des-comtes-lafon-volnay-1er-cru-santen...  \n",
       "766  domaine-des-comtes-lafon-volnay-1er-cru-champa...  \n",
       "758          domaine-clerget-echezeaux-en-orveaux-2015  \n",
       "764  domaine-des-comtes-lafon-volnay-1er-cru-santen...  \n",
       "767  domaine-des-comtes-lafon-volnay-1er-cru-champa...  \n",
       "708  wemyss-malts-single-cask-scotch-whisky-choc-n-...  \n",
       "615  domaine-weinbach-gewurztraminer-gc-furstentum-...  \n",
       "293  champagne-egly-ouriet-grand-cru-brut-blanc-de-...  \n",
       "752             champagne-gosset-celebris-vintage-2007  \n",
       "478  domaine-des-croix-corton-charlemagne-grand-cru...  \n",
       "313     cognac-frapin-chateau-de-fontpinot-1989-20-ans  \n",
       "657                camille-giroud-clos-de-vougeot-2016  \n",
       "310                               cognac-frapin-vip-xo  \n",
       "692  coteaux-champenois-egly-ouriet-ambonnay-rouge-...  \n",
       "525     david-duband-charmes-chambertin-grand-cru-2014  \n",
       "291     champagne-egly-ouriet-grand-cru-millesime-2008  "
      ]
     },
     "execution_count": 70,
     "metadata": {},
     "output_type": "execute_result"
    }
   ],
   "source": [
    "# Création d'une fonction pour lister les prix considérés comme outliers\n",
    "outliers=[] # création d'une liste vide\n",
    "def detectOutlier(data):\n",
    "    threshold=2\n",
    "    mean = np.mean(data)# calcul de la moyenne\n",
    "    std =np.std(data)#calcul de l'écart-type\n",
    "   \n",
    "    for i in data:\n",
    "        z_score = (i - mean)/std#calcul du z-score\n",
    "        if np.abs(z_score) > threshold: #valeur absolue du z-score\n",
    "            outliers.append(i) # ajout de i dans la liste\n",
    "    return outliers\n",
    "\n",
    "#Application de la fonction à la série 'price'\n",
    "priceOutliers = detectOutlier(price)\n",
    "\n",
    "#affichage des outliers détectés\n",
    "print(\"Nombre d'outliers détectés => \" + str(len(priceOutliers)))\n",
    "print(priceOutliers)\n",
    "df_final.loc[df_final['price'].isin(priceOutliers),['product_id','sku','price','post_name']].sort_values('price')"
   ]
  },
  {
   "cell_type": "markdown",
   "id": "eeb0e20c",
   "metadata": {},
   "source": [
    "#### d. Conclusion : liste des potentiels outliers<a class=\"anchor\" id=\"3_3_4\"></a>"
   ]
  },
  {
   "cell_type": "markdown",
   "id": "717c84f0",
   "metadata": {},
   "source": [
    "Les outliers de la variable 'price' sont : \n",
    "- avec la méthode de l'écart interquartile, les prix supérieurs à 84.29€ et il y a 32 outliers.\n",
    "- avec la méthode du z-score, les prix supérieurs à  88,08 € et il y a 30 outliers.\n",
    "\n",
    "La liste potentielle des 32 outliers est la suivante :"
   ]
  },
  {
   "cell_type": "code",
   "execution_count": 71,
   "id": "5520e1ed",
   "metadata": {},
   "outputs": [
    {
     "data": {
      "text/html": [
       "<div>\n",
       "<style scoped>\n",
       "    .dataframe tbody tr th:only-of-type {\n",
       "        vertical-align: middle;\n",
       "    }\n",
       "\n",
       "    .dataframe tbody tr th {\n",
       "        vertical-align: top;\n",
       "    }\n",
       "\n",
       "    .dataframe thead th {\n",
       "        text-align: right;\n",
       "    }\n",
       "</style>\n",
       "<table border=\"1\" class=\"dataframe\">\n",
       "  <thead>\n",
       "    <tr style=\"text-align: right;\">\n",
       "      <th></th>\n",
       "      <th>product_id</th>\n",
       "      <th>sku</th>\n",
       "      <th>price</th>\n",
       "      <th>post_name</th>\n",
       "    </tr>\n",
       "  </thead>\n",
       "  <tbody>\n",
       "    <tr>\n",
       "      <th>297</th>\n",
       "      <td>4359</td>\n",
       "      <td>13853</td>\n",
       "      <td>85.6</td>\n",
       "      <td>champagne-larmandier-bernier-grand-cru-vieille...</td>\n",
       "    </tr>\n",
       "    <tr>\n",
       "      <th>539</th>\n",
       "      <td>5026</td>\n",
       "      <td>13913</td>\n",
       "      <td>86.8</td>\n",
       "      <td>champagne-agrapart-fils-mineral-extra-brut-bla...</td>\n",
       "    </tr>\n",
       "    <tr>\n",
       "      <th>156</th>\n",
       "      <td>4132</td>\n",
       "      <td>11668</td>\n",
       "      <td>88.4</td>\n",
       "      <td>zind-humbrecht-pinot-gris-grand-cru-rangen-de-...</td>\n",
       "    </tr>\n",
       "    <tr>\n",
       "      <th>605</th>\n",
       "      <td>5565</td>\n",
       "      <td>19822</td>\n",
       "      <td>92.0</td>\n",
       "      <td>tempier-bandol-cabassaou-2017</td>\n",
       "    </tr>\n",
       "    <tr>\n",
       "      <th>707</th>\n",
       "      <td>5916</td>\n",
       "      <td>14774</td>\n",
       "      <td>93.0</td>\n",
       "      <td>wemyss-malts-single-cask-chocolate-moka-cake</td>\n",
       "    </tr>\n",
       "    <tr>\n",
       "      <th>765</th>\n",
       "      <td>6214</td>\n",
       "      <td>11601</td>\n",
       "      <td>99.0</td>\n",
       "      <td>domaine-des-comtes-lafon-volnay-1er-cru-champa...</td>\n",
       "    </tr>\n",
       "    <tr>\n",
       "      <th>154</th>\n",
       "      <td>4115</td>\n",
       "      <td>15382</td>\n",
       "      <td>100.0</td>\n",
       "      <td>zind-humbrecht-riesling-gc-rangen-thann-clos-s...</td>\n",
       "    </tr>\n",
       "    <tr>\n",
       "      <th>477</th>\n",
       "      <td>4903</td>\n",
       "      <td>14805</td>\n",
       "      <td>102.3</td>\n",
       "      <td>domaine-des-croix-corton-grand-cru-les-greves-...</td>\n",
       "    </tr>\n",
       "    <tr>\n",
       "      <th>314</th>\n",
       "      <td>4407</td>\n",
       "      <td>3509</td>\n",
       "      <td>104.0</td>\n",
       "      <td>cognac-frapin-cigar-blend</td>\n",
       "    </tr>\n",
       "    <tr>\n",
       "      <th>530</th>\n",
       "      <td>5007</td>\n",
       "      <td>12791</td>\n",
       "      <td>105.0</td>\n",
       "      <td>domaine-des-comtes-lafon-volnay-1er-cru-santen...</td>\n",
       "    </tr>\n",
       "    <tr>\n",
       "      <th>531</th>\n",
       "      <td>5008</td>\n",
       "      <td>11602</td>\n",
       "      <td>105.0</td>\n",
       "      <td>domaine-des-comtes-lafon-volnay-1er-cru-santen...</td>\n",
       "    </tr>\n",
       "    <tr>\n",
       "      <th>757</th>\n",
       "      <td>6201</td>\n",
       "      <td>14596</td>\n",
       "      <td>105.6</td>\n",
       "      <td>david-duband-chambolle-musigny-1er-cru-les-sen...</td>\n",
       "    </tr>\n",
       "    <tr>\n",
       "      <th>311</th>\n",
       "      <td>4404</td>\n",
       "      <td>3507</td>\n",
       "      <td>108.5</td>\n",
       "      <td>cognac-frapin-fontpinot-xo</td>\n",
       "    </tr>\n",
       "    <tr>\n",
       "      <th>320</th>\n",
       "      <td>4582</td>\n",
       "      <td>12857</td>\n",
       "      <td>109.6</td>\n",
       "      <td>chateau-de-puligny-montrachet-1cru-champ-canet...</td>\n",
       "    </tr>\n",
       "    <tr>\n",
       "      <th>538</th>\n",
       "      <td>5025</td>\n",
       "      <td>13914</td>\n",
       "      <td>112.0</td>\n",
       "      <td>champagne-agrapart-fils-lavizoise-grand-cru-20...</td>\n",
       "    </tr>\n",
       "    <tr>\n",
       "      <th>709</th>\n",
       "      <td>5918</td>\n",
       "      <td>14773</td>\n",
       "      <td>114.0</td>\n",
       "      <td>wemyss-malts-single-cask-scotch-whisky-chai-ca...</td>\n",
       "    </tr>\n",
       "    <tr>\n",
       "      <th>763</th>\n",
       "      <td>6212</td>\n",
       "      <td>13996</td>\n",
       "      <td>115.0</td>\n",
       "      <td>domaine-des-comtes-lafon-volnay-1er-cru-santen...</td>\n",
       "    </tr>\n",
       "    <tr>\n",
       "      <th>766</th>\n",
       "      <td>6215</td>\n",
       "      <td>12790</td>\n",
       "      <td>115.0</td>\n",
       "      <td>domaine-des-comtes-lafon-volnay-1er-cru-champa...</td>\n",
       "    </tr>\n",
       "    <tr>\n",
       "      <th>758</th>\n",
       "      <td>6202</td>\n",
       "      <td>15126</td>\n",
       "      <td>116.4</td>\n",
       "      <td>domaine-clerget-echezeaux-en-orveaux-2015</td>\n",
       "    </tr>\n",
       "    <tr>\n",
       "      <th>764</th>\n",
       "      <td>6213</td>\n",
       "      <td>15072</td>\n",
       "      <td>121.0</td>\n",
       "      <td>domaine-des-comtes-lafon-volnay-1er-cru-santen...</td>\n",
       "    </tr>\n",
       "    <tr>\n",
       "      <th>767</th>\n",
       "      <td>6216</td>\n",
       "      <td>15070</td>\n",
       "      <td>121.0</td>\n",
       "      <td>domaine-des-comtes-lafon-volnay-1er-cru-champa...</td>\n",
       "    </tr>\n",
       "    <tr>\n",
       "      <th>708</th>\n",
       "      <td>5917</td>\n",
       "      <td>14775</td>\n",
       "      <td>122.0</td>\n",
       "      <td>wemyss-malts-single-cask-scotch-whisky-choc-n-...</td>\n",
       "    </tr>\n",
       "    <tr>\n",
       "      <th>615</th>\n",
       "      <td>5612</td>\n",
       "      <td>14915</td>\n",
       "      <td>124.8</td>\n",
       "      <td>domaine-weinbach-gewurztraminer-gc-furstentum-...</td>\n",
       "    </tr>\n",
       "    <tr>\n",
       "      <th>293</th>\n",
       "      <td>4355</td>\n",
       "      <td>12589</td>\n",
       "      <td>126.5</td>\n",
       "      <td>champagne-egly-ouriet-grand-cru-brut-blanc-de-...</td>\n",
       "    </tr>\n",
       "    <tr>\n",
       "      <th>752</th>\n",
       "      <td>6126</td>\n",
       "      <td>14923</td>\n",
       "      <td>135.0</td>\n",
       "      <td>champagne-gosset-celebris-vintage-2007</td>\n",
       "    </tr>\n",
       "    <tr>\n",
       "      <th>478</th>\n",
       "      <td>4904</td>\n",
       "      <td>14220</td>\n",
       "      <td>137.0</td>\n",
       "      <td>domaine-des-croix-corton-charlemagne-grand-cru...</td>\n",
       "    </tr>\n",
       "    <tr>\n",
       "      <th>313</th>\n",
       "      <td>4406</td>\n",
       "      <td>7819</td>\n",
       "      <td>157.0</td>\n",
       "      <td>cognac-frapin-chateau-de-fontpinot-1989-20-ans</td>\n",
       "    </tr>\n",
       "    <tr>\n",
       "      <th>657</th>\n",
       "      <td>5767</td>\n",
       "      <td>15185</td>\n",
       "      <td>175.0</td>\n",
       "      <td>camille-giroud-clos-de-vougeot-2016</td>\n",
       "    </tr>\n",
       "    <tr>\n",
       "      <th>310</th>\n",
       "      <td>4402</td>\n",
       "      <td>3510</td>\n",
       "      <td>176.0</td>\n",
       "      <td>cognac-frapin-vip-xo</td>\n",
       "    </tr>\n",
       "    <tr>\n",
       "      <th>692</th>\n",
       "      <td>5892</td>\n",
       "      <td>14983</td>\n",
       "      <td>191.3</td>\n",
       "      <td>coteaux-champenois-egly-ouriet-ambonnay-rouge-...</td>\n",
       "    </tr>\n",
       "    <tr>\n",
       "      <th>525</th>\n",
       "      <td>5001</td>\n",
       "      <td>14581</td>\n",
       "      <td>217.5</td>\n",
       "      <td>david-duband-charmes-chambertin-grand-cru-2014</td>\n",
       "    </tr>\n",
       "    <tr>\n",
       "      <th>291</th>\n",
       "      <td>4352</td>\n",
       "      <td>15940</td>\n",
       "      <td>225.0</td>\n",
       "      <td>champagne-egly-ouriet-grand-cru-millesime-2008</td>\n",
       "    </tr>\n",
       "  </tbody>\n",
       "</table>\n",
       "</div>"
      ],
      "text/plain": [
       "     product_id    sku  price  \\\n",
       "297        4359  13853   85.6   \n",
       "539        5026  13913   86.8   \n",
       "156        4132  11668   88.4   \n",
       "605        5565  19822   92.0   \n",
       "707        5916  14774   93.0   \n",
       "765        6214  11601   99.0   \n",
       "154        4115  15382  100.0   \n",
       "477        4903  14805  102.3   \n",
       "314        4407   3509  104.0   \n",
       "530        5007  12791  105.0   \n",
       "531        5008  11602  105.0   \n",
       "757        6201  14596  105.6   \n",
       "311        4404   3507  108.5   \n",
       "320        4582  12857  109.6   \n",
       "538        5025  13914  112.0   \n",
       "709        5918  14773  114.0   \n",
       "763        6212  13996  115.0   \n",
       "766        6215  12790  115.0   \n",
       "758        6202  15126  116.4   \n",
       "764        6213  15072  121.0   \n",
       "767        6216  15070  121.0   \n",
       "708        5917  14775  122.0   \n",
       "615        5612  14915  124.8   \n",
       "293        4355  12589  126.5   \n",
       "752        6126  14923  135.0   \n",
       "478        4904  14220  137.0   \n",
       "313        4406   7819  157.0   \n",
       "657        5767  15185  175.0   \n",
       "310        4402   3510  176.0   \n",
       "692        5892  14983  191.3   \n",
       "525        5001  14581  217.5   \n",
       "291        4352  15940  225.0   \n",
       "\n",
       "                                             post_name  \n",
       "297  champagne-larmandier-bernier-grand-cru-vieille...  \n",
       "539  champagne-agrapart-fils-mineral-extra-brut-bla...  \n",
       "156  zind-humbrecht-pinot-gris-grand-cru-rangen-de-...  \n",
       "605                      tempier-bandol-cabassaou-2017  \n",
       "707       wemyss-malts-single-cask-chocolate-moka-cake  \n",
       "765  domaine-des-comtes-lafon-volnay-1er-cru-champa...  \n",
       "154  zind-humbrecht-riesling-gc-rangen-thann-clos-s...  \n",
       "477  domaine-des-croix-corton-grand-cru-les-greves-...  \n",
       "314                          cognac-frapin-cigar-blend  \n",
       "530  domaine-des-comtes-lafon-volnay-1er-cru-santen...  \n",
       "531  domaine-des-comtes-lafon-volnay-1er-cru-santen...  \n",
       "757  david-duband-chambolle-musigny-1er-cru-les-sen...  \n",
       "311                         cognac-frapin-fontpinot-xo  \n",
       "320  chateau-de-puligny-montrachet-1cru-champ-canet...  \n",
       "538  champagne-agrapart-fils-lavizoise-grand-cru-20...  \n",
       "709  wemyss-malts-single-cask-scotch-whisky-chai-ca...  \n",
       "763  domaine-des-comtes-lafon-volnay-1er-cru-santen...  \n",
       "766  domaine-des-comtes-lafon-volnay-1er-cru-champa...  \n",
       "758          domaine-clerget-echezeaux-en-orveaux-2015  \n",
       "764  domaine-des-comtes-lafon-volnay-1er-cru-santen...  \n",
       "767  domaine-des-comtes-lafon-volnay-1er-cru-champa...  \n",
       "708  wemyss-malts-single-cask-scotch-whisky-choc-n-...  \n",
       "615  domaine-weinbach-gewurztraminer-gc-furstentum-...  \n",
       "293  champagne-egly-ouriet-grand-cru-brut-blanc-de-...  \n",
       "752             champagne-gosset-celebris-vintage-2007  \n",
       "478  domaine-des-croix-corton-charlemagne-grand-cru...  \n",
       "313     cognac-frapin-chateau-de-fontpinot-1989-20-ans  \n",
       "657                camille-giroud-clos-de-vougeot-2016  \n",
       "310                               cognac-frapin-vip-xo  \n",
       "692  coteaux-champenois-egly-ouriet-ambonnay-rouge-...  \n",
       "525     david-duband-charmes-chambertin-grand-cru-2014  \n",
       "291     champagne-egly-ouriet-grand-cru-millesime-2008  "
      ]
     },
     "execution_count": 71,
     "metadata": {},
     "output_type": "execute_result"
    }
   ],
   "source": [
    "result[['product_id','sku','price','post_name']].sort_values('price')"
   ]
  },
  {
   "cell_type": "markdown",
   "id": "40a16942",
   "metadata": {},
   "source": [
    "Ci-dessous les représentations graphiques du prix, sans les outliers (méthode de l'écart interquartile)."
   ]
  },
  {
   "cell_type": "code",
   "execution_count": 72,
   "id": "e69d2f3e",
   "metadata": {},
   "outputs": [
    {
     "data": {
      "image/png": "[encoded data removed]",
      "text/plain": [
       "<Figure size 720x504 with 1 Axes>"
      ]
     },
     "metadata": {
      "needs_background": "light"
     },
     "output_type": "display_data"
    }
   ],
   "source": [
    "#Répartition des prix de ventes : histogramme\n",
    "plt.figure(figsize=(10,7))\n",
    "sns.histplot(data=only_ok,x='price')\n",
    "plt.title('Histogramme : Distribution des prix sans outliers',fontsize=14, fontweight='bold')\n",
    "plt.show()"
   ]
  },
  {
   "cell_type": "code",
   "execution_count": 73,
   "id": "7d16e62a",
   "metadata": {},
   "outputs": [
    {
     "data": {
      "image/png": "[encoded data removed]",
      "text/plain": [
       "<Figure size 720x504 with 1 Axes>"
      ]
     },
     "metadata": {
      "needs_background": "light"
     },
     "output_type": "display_data"
    }
   ],
   "source": [
    "#Boîte à moustache de la variable 'prix'\n",
    "plt.figure(figsize=(10,7))\n",
    "sns.boxplot(data=only_ok,x='price')\n",
    "plt.title('Boîte à moustache : Distribution des prix sans outliers',fontsize=14, fontweight='bold')\n",
    "plt.show()"
   ]
  },
  {
   "cell_type": "markdown",
   "id": "9bc166e6",
   "metadata": {},
   "source": [
    "#### e. Analyse des potentiels outliers<a class=\"anchor\" id=\"3_3_5\"></a>"
   ]
  },
  {
   "cell_type": "markdown",
   "id": "cca7275b",
   "metadata": {},
   "source": [
    "Dans les potentiels outliers, il y a notamment : \n",
    "- 4 cognacs Frapin dont les prix sont entre 106€ et 187€ sur le [site internet des cognacs Frapin](https://www.cognac-frapin.com/fr/) \n",
    "- 7 Domaine des comtes Lafon volnay 1er cru dont les prix sont autour de 135€ sur ce [site internet](https://www.vinsetmillesimes.com/fr/4409-comtes-lafon/s-1/appellation-volnay_1er_cru/domaine-comtes_lafon)\n",
    "- 3 Wemyss malts single cask dont les prix vont de 166€ à 690€ sur le [site internet Wemyss](https://wemyssmalts.com/en-eu/collections/single-cask-collection)\n",
    "\n",
    "qui ne sont pas des valeurs aberrantes.\n",
    "\n",
    "Une analyse plus poussée est donc à réaliser pour identifier les erreurs de saisie."
   ]
  },
  {
   "cell_type": "code",
   "execution_count": 74,
   "id": "03f2cf9c",
   "metadata": {
    "scrolled": false
   },
   "outputs": [
    {
     "data": {
      "text/html": [
       "<div>\n",
       "<style scoped>\n",
       "    .dataframe tbody tr th:only-of-type {\n",
       "        vertical-align: middle;\n",
       "    }\n",
       "\n",
       "    .dataframe tbody tr th {\n",
       "        vertical-align: top;\n",
       "    }\n",
       "\n",
       "    .dataframe thead th {\n",
       "        text-align: right;\n",
       "    }\n",
       "</style>\n",
       "<table border=\"1\" class=\"dataframe\">\n",
       "  <thead>\n",
       "    <tr style=\"text-align: right;\">\n",
       "      <th></th>\n",
       "      <th>product_id</th>\n",
       "      <th>sku</th>\n",
       "      <th>price</th>\n",
       "      <th>post_name</th>\n",
       "    </tr>\n",
       "  </thead>\n",
       "  <tbody>\n",
       "    <tr>\n",
       "      <th>657</th>\n",
       "      <td>5767</td>\n",
       "      <td>15185</td>\n",
       "      <td>175.0</td>\n",
       "      <td>camille-giroud-clos-de-vougeot-2016</td>\n",
       "    </tr>\n",
       "    <tr>\n",
       "      <th>538</th>\n",
       "      <td>5025</td>\n",
       "      <td>13914</td>\n",
       "      <td>112.0</td>\n",
       "      <td>champagne-agrapart-fils-lavizoise-grand-cru-20...</td>\n",
       "    </tr>\n",
       "    <tr>\n",
       "      <th>539</th>\n",
       "      <td>5026</td>\n",
       "      <td>13913</td>\n",
       "      <td>86.8</td>\n",
       "      <td>champagne-agrapart-fils-mineral-extra-brut-bla...</td>\n",
       "    </tr>\n",
       "    <tr>\n",
       "      <th>293</th>\n",
       "      <td>4355</td>\n",
       "      <td>12589</td>\n",
       "      <td>126.5</td>\n",
       "      <td>champagne-egly-ouriet-grand-cru-brut-blanc-de-...</td>\n",
       "    </tr>\n",
       "    <tr>\n",
       "      <th>291</th>\n",
       "      <td>4352</td>\n",
       "      <td>15940</td>\n",
       "      <td>225.0</td>\n",
       "      <td>champagne-egly-ouriet-grand-cru-millesime-2008</td>\n",
       "    </tr>\n",
       "    <tr>\n",
       "      <th>752</th>\n",
       "      <td>6126</td>\n",
       "      <td>14923</td>\n",
       "      <td>135.0</td>\n",
       "      <td>champagne-gosset-celebris-vintage-2007</td>\n",
       "    </tr>\n",
       "    <tr>\n",
       "      <th>297</th>\n",
       "      <td>4359</td>\n",
       "      <td>13853</td>\n",
       "      <td>85.6</td>\n",
       "      <td>champagne-larmandier-bernier-grand-cru-vieille...</td>\n",
       "    </tr>\n",
       "    <tr>\n",
       "      <th>320</th>\n",
       "      <td>4582</td>\n",
       "      <td>12857</td>\n",
       "      <td>109.6</td>\n",
       "      <td>chateau-de-puligny-montrachet-1cru-champ-canet...</td>\n",
       "    </tr>\n",
       "    <tr>\n",
       "      <th>313</th>\n",
       "      <td>4406</td>\n",
       "      <td>7819</td>\n",
       "      <td>157.0</td>\n",
       "      <td>cognac-frapin-chateau-de-fontpinot-1989-20-ans</td>\n",
       "    </tr>\n",
       "    <tr>\n",
       "      <th>314</th>\n",
       "      <td>4407</td>\n",
       "      <td>3509</td>\n",
       "      <td>104.0</td>\n",
       "      <td>cognac-frapin-cigar-blend</td>\n",
       "    </tr>\n",
       "    <tr>\n",
       "      <th>311</th>\n",
       "      <td>4404</td>\n",
       "      <td>3507</td>\n",
       "      <td>108.5</td>\n",
       "      <td>cognac-frapin-fontpinot-xo</td>\n",
       "    </tr>\n",
       "    <tr>\n",
       "      <th>310</th>\n",
       "      <td>4402</td>\n",
       "      <td>3510</td>\n",
       "      <td>176.0</td>\n",
       "      <td>cognac-frapin-vip-xo</td>\n",
       "    </tr>\n",
       "    <tr>\n",
       "      <th>692</th>\n",
       "      <td>5892</td>\n",
       "      <td>14983</td>\n",
       "      <td>191.3</td>\n",
       "      <td>coteaux-champenois-egly-ouriet-ambonnay-rouge-...</td>\n",
       "    </tr>\n",
       "    <tr>\n",
       "      <th>757</th>\n",
       "      <td>6201</td>\n",
       "      <td>14596</td>\n",
       "      <td>105.6</td>\n",
       "      <td>david-duband-chambolle-musigny-1er-cru-les-sen...</td>\n",
       "    </tr>\n",
       "    <tr>\n",
       "      <th>525</th>\n",
       "      <td>5001</td>\n",
       "      <td>14581</td>\n",
       "      <td>217.5</td>\n",
       "      <td>david-duband-charmes-chambertin-grand-cru-2014</td>\n",
       "    </tr>\n",
       "    <tr>\n",
       "      <th>758</th>\n",
       "      <td>6202</td>\n",
       "      <td>15126</td>\n",
       "      <td>116.4</td>\n",
       "      <td>domaine-clerget-echezeaux-en-orveaux-2015</td>\n",
       "    </tr>\n",
       "    <tr>\n",
       "      <th>765</th>\n",
       "      <td>6214</td>\n",
       "      <td>11601</td>\n",
       "      <td>99.0</td>\n",
       "      <td>domaine-des-comtes-lafon-volnay-1er-cru-champa...</td>\n",
       "    </tr>\n",
       "    <tr>\n",
       "      <th>766</th>\n",
       "      <td>6215</td>\n",
       "      <td>12790</td>\n",
       "      <td>115.0</td>\n",
       "      <td>domaine-des-comtes-lafon-volnay-1er-cru-champa...</td>\n",
       "    </tr>\n",
       "    <tr>\n",
       "      <th>767</th>\n",
       "      <td>6216</td>\n",
       "      <td>15070</td>\n",
       "      <td>121.0</td>\n",
       "      <td>domaine-des-comtes-lafon-volnay-1er-cru-champa...</td>\n",
       "    </tr>\n",
       "    <tr>\n",
       "      <th>531</th>\n",
       "      <td>5008</td>\n",
       "      <td>11602</td>\n",
       "      <td>105.0</td>\n",
       "      <td>domaine-des-comtes-lafon-volnay-1er-cru-santen...</td>\n",
       "    </tr>\n",
       "    <tr>\n",
       "      <th>530</th>\n",
       "      <td>5007</td>\n",
       "      <td>12791</td>\n",
       "      <td>105.0</td>\n",
       "      <td>domaine-des-comtes-lafon-volnay-1er-cru-santen...</td>\n",
       "    </tr>\n",
       "    <tr>\n",
       "      <th>763</th>\n",
       "      <td>6212</td>\n",
       "      <td>13996</td>\n",
       "      <td>115.0</td>\n",
       "      <td>domaine-des-comtes-lafon-volnay-1er-cru-santen...</td>\n",
       "    </tr>\n",
       "    <tr>\n",
       "      <th>764</th>\n",
       "      <td>6213</td>\n",
       "      <td>15072</td>\n",
       "      <td>121.0</td>\n",
       "      <td>domaine-des-comtes-lafon-volnay-1er-cru-santen...</td>\n",
       "    </tr>\n",
       "    <tr>\n",
       "      <th>478</th>\n",
       "      <td>4904</td>\n",
       "      <td>14220</td>\n",
       "      <td>137.0</td>\n",
       "      <td>domaine-des-croix-corton-charlemagne-grand-cru...</td>\n",
       "    </tr>\n",
       "    <tr>\n",
       "      <th>477</th>\n",
       "      <td>4903</td>\n",
       "      <td>14805</td>\n",
       "      <td>102.3</td>\n",
       "      <td>domaine-des-croix-corton-grand-cru-les-greves-...</td>\n",
       "    </tr>\n",
       "    <tr>\n",
       "      <th>615</th>\n",
       "      <td>5612</td>\n",
       "      <td>14915</td>\n",
       "      <td>124.8</td>\n",
       "      <td>domaine-weinbach-gewurztraminer-gc-furstentum-...</td>\n",
       "    </tr>\n",
       "    <tr>\n",
       "      <th>605</th>\n",
       "      <td>5565</td>\n",
       "      <td>19822</td>\n",
       "      <td>92.0</td>\n",
       "      <td>tempier-bandol-cabassaou-2017</td>\n",
       "    </tr>\n",
       "    <tr>\n",
       "      <th>707</th>\n",
       "      <td>5916</td>\n",
       "      <td>14774</td>\n",
       "      <td>93.0</td>\n",
       "      <td>wemyss-malts-single-cask-chocolate-moka-cake</td>\n",
       "    </tr>\n",
       "    <tr>\n",
       "      <th>709</th>\n",
       "      <td>5918</td>\n",
       "      <td>14773</td>\n",
       "      <td>114.0</td>\n",
       "      <td>wemyss-malts-single-cask-scotch-whisky-chai-ca...</td>\n",
       "    </tr>\n",
       "    <tr>\n",
       "      <th>708</th>\n",
       "      <td>5917</td>\n",
       "      <td>14775</td>\n",
       "      <td>122.0</td>\n",
       "      <td>wemyss-malts-single-cask-scotch-whisky-choc-n-...</td>\n",
       "    </tr>\n",
       "    <tr>\n",
       "      <th>156</th>\n",
       "      <td>4132</td>\n",
       "      <td>11668</td>\n",
       "      <td>88.4</td>\n",
       "      <td>zind-humbrecht-pinot-gris-grand-cru-rangen-de-...</td>\n",
       "    </tr>\n",
       "    <tr>\n",
       "      <th>154</th>\n",
       "      <td>4115</td>\n",
       "      <td>15382</td>\n",
       "      <td>100.0</td>\n",
       "      <td>zind-humbrecht-riesling-gc-rangen-thann-clos-s...</td>\n",
       "    </tr>\n",
       "  </tbody>\n",
       "</table>\n",
       "</div>"
      ],
      "text/plain": [
       "     product_id    sku  price  \\\n",
       "657        5767  15185  175.0   \n",
       "538        5025  13914  112.0   \n",
       "539        5026  13913   86.8   \n",
       "293        4355  12589  126.5   \n",
       "291        4352  15940  225.0   \n",
       "752        6126  14923  135.0   \n",
       "297        4359  13853   85.6   \n",
       "320        4582  12857  109.6   \n",
       "313        4406   7819  157.0   \n",
       "314        4407   3509  104.0   \n",
       "311        4404   3507  108.5   \n",
       "310        4402   3510  176.0   \n",
       "692        5892  14983  191.3   \n",
       "757        6201  14596  105.6   \n",
       "525        5001  14581  217.5   \n",
       "758        6202  15126  116.4   \n",
       "765        6214  11601   99.0   \n",
       "766        6215  12790  115.0   \n",
       "767        6216  15070  121.0   \n",
       "531        5008  11602  105.0   \n",
       "530        5007  12791  105.0   \n",
       "763        6212  13996  115.0   \n",
       "764        6213  15072  121.0   \n",
       "478        4904  14220  137.0   \n",
       "477        4903  14805  102.3   \n",
       "615        5612  14915  124.8   \n",
       "605        5565  19822   92.0   \n",
       "707        5916  14774   93.0   \n",
       "709        5918  14773  114.0   \n",
       "708        5917  14775  122.0   \n",
       "156        4132  11668   88.4   \n",
       "154        4115  15382  100.0   \n",
       "\n",
       "                                             post_name  \n",
       "657                camille-giroud-clos-de-vougeot-2016  \n",
       "538  champagne-agrapart-fils-lavizoise-grand-cru-20...  \n",
       "539  champagne-agrapart-fils-mineral-extra-brut-bla...  \n",
       "293  champagne-egly-ouriet-grand-cru-brut-blanc-de-...  \n",
       "291     champagne-egly-ouriet-grand-cru-millesime-2008  \n",
       "752             champagne-gosset-celebris-vintage-2007  \n",
       "297  champagne-larmandier-bernier-grand-cru-vieille...  \n",
       "320  chateau-de-puligny-montrachet-1cru-champ-canet...  \n",
       "313     cognac-frapin-chateau-de-fontpinot-1989-20-ans  \n",
       "314                          cognac-frapin-cigar-blend  \n",
       "311                         cognac-frapin-fontpinot-xo  \n",
       "310                               cognac-frapin-vip-xo  \n",
       "692  coteaux-champenois-egly-ouriet-ambonnay-rouge-...  \n",
       "757  david-duband-chambolle-musigny-1er-cru-les-sen...  \n",
       "525     david-duband-charmes-chambertin-grand-cru-2014  \n",
       "758          domaine-clerget-echezeaux-en-orveaux-2015  \n",
       "765  domaine-des-comtes-lafon-volnay-1er-cru-champa...  \n",
       "766  domaine-des-comtes-lafon-volnay-1er-cru-champa...  \n",
       "767  domaine-des-comtes-lafon-volnay-1er-cru-champa...  \n",
       "531  domaine-des-comtes-lafon-volnay-1er-cru-santen...  \n",
       "530  domaine-des-comtes-lafon-volnay-1er-cru-santen...  \n",
       "763  domaine-des-comtes-lafon-volnay-1er-cru-santen...  \n",
       "764  domaine-des-comtes-lafon-volnay-1er-cru-santen...  \n",
       "478  domaine-des-croix-corton-charlemagne-grand-cru...  \n",
       "477  domaine-des-croix-corton-grand-cru-les-greves-...  \n",
       "615  domaine-weinbach-gewurztraminer-gc-furstentum-...  \n",
       "605                      tempier-bandol-cabassaou-2017  \n",
       "707       wemyss-malts-single-cask-chocolate-moka-cake  \n",
       "709  wemyss-malts-single-cask-scotch-whisky-chai-ca...  \n",
       "708  wemyss-malts-single-cask-scotch-whisky-choc-n-...  \n",
       "156  zind-humbrecht-pinot-gris-grand-cru-rangen-de-...  \n",
       "154  zind-humbrecht-riesling-gc-rangen-thann-clos-s...  "
      ]
     },
     "execution_count": 74,
     "metadata": {},
     "output_type": "execute_result"
    }
   ],
   "source": [
    "result[['product_id','sku','price','post_name']].sort_values('post_name')"
   ]
  },
  {
   "cell_type": "code",
   "execution_count": null,
   "id": "018a7f50",
   "metadata": {},
   "outputs": [],
   "source": []
  }
 ],
 "metadata": {
  "kernelspec": {
   "display_name": "Python 3 (ipykernel)",
   "language": "python",
   "name": "python3"
  },
  "language_info": {
   "codemirror_mode": {
    "name": "ipython",
    "version": 3
   },
   "file_extension": ".py",
   "mimetype": "text/x-python",
   "name": "python",
   "nbconvert_exporter": "python",
   "pygments_lexer": "ipython3",
   "version": "3.9.12"
  }
 },
 "nbformat": 4,
 "nbformat_minor": 5
}
